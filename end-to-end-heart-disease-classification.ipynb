{
 "cells": [
  {
   "cell_type": "markdown",
   "id": "senior-collect",
   "metadata": {},
   "source": [
    "# Predicting heart disease using machine learning\n",
    "This notebook looks into using various Python-based machine learning and data science libraries in an attempt to build a machine learning model capable of predicting whether or not some one has heart disease based on the medical records"
   ]
  },
  {
   "cell_type": "markdown",
   "id": "political-avatar",
   "metadata": {},
   "source": [
    "We're going to take the following approach\n",
    "1. Problem Definition\n",
    "2. Data\n",
    "3. Evaluation\n",
    "4. Features\n",
    "5. Modelling\n",
    "6. Experimentation(Incorporates all previous steps)"
   ]
  },
  {
   "cell_type": "markdown",
   "id": "important-respect",
   "metadata": {},
   "source": [
    "## 1. Problem Definition\n",
    "> Given clinical parameters about a patient, can we predict whether or not they have heart disease? \n",
    "\n",
    "\n",
    "## 2. Data\n",
    "This heart disease data set from the Cleveland region from the UCI Machine Learning Repository\n",
    "https://archive.ics.uci.edu/ml/datasets/Heart+Disease/\n",
    " It can also be found on Kaggle.\n",
    "This database contains 76 attributes, but all published experiments refer to using a subset of 14 of them.\n",
    "## 3. Evaluation\n",
    " > Because this is predicting something that's significant, we want a highly accurate model. If we can reach a 95% accuracy of predicting whether or not a patient has heart disease during the proof of concept, we'll pursue the project.\n",
    "\n",
    "## 4. Features \n",
    "Thisis where you'll get different information about each of the features in your data.\n",
    "\n",
    "**Create a data  dictionary**\n",
    "Do this to provide some extra clarity to your exploration. You can do this with your own research or when you're in a team a subject matter expert\n",
    "1. age: 'age in years',\n",
    "2. sex: 'sex (1 = male; 0 = female)',\n",
    "\n",
    "3. cp: chest pain type\n",
    "* Value 1: typical angina\n",
    "* Value 2: atypical angina\n",
    "* Value 3: non-anginal pain\n",
    "* Value 4: asymptomatic\n",
    "\n",
    "4. trestbps: resting blood pressure (in mm Hg on admission to the hospital) \n",
    "5. chol: serum cholestoral in mg/dl \n",
    "6. fbs: (fasting blood sugar > 120 mg/dl) (1 = true; 0 = false)\n",
    "\n",
    "7. restecg: resting electrocardiographic results\n",
    "* Value 0: normal\n",
    "*  Value 1: having ST-T wave abnormality (T wave inversions and/or ST elevation or depression of > 0.05 mV)\n",
    "* Value 2: showing probable or definite left ventricular hypertrophy by Estes' criteria \n",
    "\n",
    "8. thalach: maximum heart rate achieved \n",
    "9. exang: exercise induced angina (1 = yes; 0 = no) \n",
    "10. oldpeak = ST depression induced by exercise relative to rest \n",
    "\n",
    "11. slope: the slope of the peak exercise ST segment\n",
    "* Value 1: upsloping\n",
    "*  Value 2: flat\n",
    "*  Value 3: downsloping\n",
    "\n",
    "12. ca: number of major vessels (0-3) colored by flourosopy \n",
    "13. thal: 3 = normal; 6 = fixed defect; 7 = reversable defect \n",
    "\n",
    "14. num(target): diagnosis of heart disease (angiographic disease status)\n",
    "* Value 0: < 50% diameter narrowing (No heart disease)\n",
    "* Value 1: > 50% diameter narrowing (Patient has heart disease)\n",
    "(in any major vessel: attributes 59 through 68 are vessels) "
   ]
  },
  {
   "cell_type": "code",
   "execution_count": 3,
   "id": "following-poultry",
   "metadata": {},
   "outputs": [],
   "source": [
    "# Preparing the tools\n",
    "# we're going to use pandas, matplotlib, numpy and sci-kit learn\n",
    "import pandas as pd\n",
    "import numpy as np\n",
    "import matplotlib.pyplot as plt\n",
    "import seaborn as sns\n",
    "\n",
    "%matplotlib inline \n",
    "# We want our plots to appear inside the notebook\n",
    "\n",
    "# Models\n",
    "from sklearn. model_selection import train_test_split, cross_val_score\n",
    "from sklearn.ensemble import RandomForestClassifier\n",
    "from sklearn.linear_model import LogisticRegression\n",
    "from sklearn.neighbors import KNeighborsClassifier\n",
    "from sklearn.model_selection import RandomizedSearchCV, GridSearchCV\n",
    "from sklearn.metrics import confusion_matrix, classification_report\n",
    "from sklearn.metrics import precision_score, recall_score, f1_score\n",
    "from sklearn.metrics import plot_roc_curve\n",
    "from jupyterthemes import jtplot\n",
    "# jtplot.style(theme='oceans16')"
   ]
  },
  {
   "cell_type": "markdown",
   "id": "external-oakland",
   "metadata": {},
   "source": [
    "### **Load Data**"
   ]
  },
  {
   "cell_type": "code",
   "execution_count": 4,
   "id": "governing-aspect",
   "metadata": {},
   "outputs": [
    {
     "data": {
      "text/plain": [
       "(303, 14)"
      ]
     },
     "execution_count": 4,
     "metadata": {},
     "output_type": "execute_result"
    }
   ],
   "source": [
    "df = pd.read_csv('6.1 heart-disease.csv')\n",
    "df.shape # (rows and columns)"
   ]
  },
  {
   "cell_type": "markdown",
   "id": "physical-fountain",
   "metadata": {},
   "source": [
    "**Let's do some data exploration!!**\n",
    "\n",
    "This is known as Exploratory Data Analysis or EDA for short.\n",
    "There's no set way to do this, but the main thing that needs to be happening is the process of you getting familiar with your data"
   ]
  },
  {
   "cell_type": "markdown",
   "id": "insured-cleveland",
   "metadata": {},
   "source": [
    "**Bunch of ways to start**\n",
    "* Compare different columns to each other\n",
    "* Visualize the columns that are similar and different \n",
    "* Compare values to the target column, \n",
    "* refer back to the data dictionary"
   ]
  },
  {
   "cell_type": "markdown",
   "id": "ahead-attempt",
   "metadata": {},
   "source": [
    "**My goal is to become a subject matter expert on the dataset that you're working with**"
   ]
  },
  {
   "cell_type": "markdown",
   "id": "detailed-integral",
   "metadata": {},
   "source": [
    "### Since EDA has no bounded method, we'll write down a short checklist of questions \n",
    "so that we can come back to that will help us to explore our data\n",
    "1. What question(s) are you trying to solve?\n",
    "2. What kind of data do we have and how do we treat different types?\n",
    "3. What's missing from the data and how do you deal with it?\n",
    "4. Where are the outliers and why should you care about them?\n",
    "5. How can you add, change or remove features to get more out of your data\n",
    "\n",
    "(just an EDA checklist to start with as a bare minimum of what we're trying to figure out\n",
    "\n"
   ]
  },
  {
   "cell_type": "code",
   "execution_count": 5,
   "id": "cathedral-stewart",
   "metadata": {},
   "outputs": [
    {
     "data": {
      "text/html": [
       "<div>\n",
       "<style scoped>\n",
       "    .dataframe tbody tr th:only-of-type {\n",
       "        vertical-align: middle;\n",
       "    }\n",
       "\n",
       "    .dataframe tbody tr th {\n",
       "        vertical-align: top;\n",
       "    }\n",
       "\n",
       "    .dataframe thead th {\n",
       "        text-align: right;\n",
       "    }\n",
       "</style>\n",
       "<table border=\"1\" class=\"dataframe\">\n",
       "  <thead>\n",
       "    <tr style=\"text-align: right;\">\n",
       "      <th></th>\n",
       "      <th>age</th>\n",
       "      <th>sex</th>\n",
       "      <th>cp</th>\n",
       "      <th>trestbps</th>\n",
       "      <th>chol</th>\n",
       "      <th>fbs</th>\n",
       "      <th>restecg</th>\n",
       "      <th>thalach</th>\n",
       "      <th>exang</th>\n",
       "      <th>oldpeak</th>\n",
       "      <th>slope</th>\n",
       "      <th>ca</th>\n",
       "      <th>thal</th>\n",
       "      <th>target</th>\n",
       "    </tr>\n",
       "  </thead>\n",
       "  <tbody>\n",
       "    <tr>\n",
       "      <th>0</th>\n",
       "      <td>63</td>\n",
       "      <td>1</td>\n",
       "      <td>3</td>\n",
       "      <td>145</td>\n",
       "      <td>233</td>\n",
       "      <td>1</td>\n",
       "      <td>0</td>\n",
       "      <td>150</td>\n",
       "      <td>0</td>\n",
       "      <td>2.3</td>\n",
       "      <td>0</td>\n",
       "      <td>0</td>\n",
       "      <td>1</td>\n",
       "      <td>1</td>\n",
       "    </tr>\n",
       "    <tr>\n",
       "      <th>1</th>\n",
       "      <td>37</td>\n",
       "      <td>1</td>\n",
       "      <td>2</td>\n",
       "      <td>130</td>\n",
       "      <td>250</td>\n",
       "      <td>0</td>\n",
       "      <td>1</td>\n",
       "      <td>187</td>\n",
       "      <td>0</td>\n",
       "      <td>3.5</td>\n",
       "      <td>0</td>\n",
       "      <td>0</td>\n",
       "      <td>2</td>\n",
       "      <td>1</td>\n",
       "    </tr>\n",
       "    <tr>\n",
       "      <th>2</th>\n",
       "      <td>41</td>\n",
       "      <td>0</td>\n",
       "      <td>1</td>\n",
       "      <td>130</td>\n",
       "      <td>204</td>\n",
       "      <td>0</td>\n",
       "      <td>0</td>\n",
       "      <td>172</td>\n",
       "      <td>0</td>\n",
       "      <td>1.4</td>\n",
       "      <td>2</td>\n",
       "      <td>0</td>\n",
       "      <td>2</td>\n",
       "      <td>1</td>\n",
       "    </tr>\n",
       "    <tr>\n",
       "      <th>3</th>\n",
       "      <td>56</td>\n",
       "      <td>1</td>\n",
       "      <td>1</td>\n",
       "      <td>120</td>\n",
       "      <td>236</td>\n",
       "      <td>0</td>\n",
       "      <td>1</td>\n",
       "      <td>178</td>\n",
       "      <td>0</td>\n",
       "      <td>0.8</td>\n",
       "      <td>2</td>\n",
       "      <td>0</td>\n",
       "      <td>2</td>\n",
       "      <td>1</td>\n",
       "    </tr>\n",
       "    <tr>\n",
       "      <th>4</th>\n",
       "      <td>57</td>\n",
       "      <td>0</td>\n",
       "      <td>0</td>\n",
       "      <td>120</td>\n",
       "      <td>354</td>\n",
       "      <td>0</td>\n",
       "      <td>1</td>\n",
       "      <td>163</td>\n",
       "      <td>1</td>\n",
       "      <td>0.6</td>\n",
       "      <td>2</td>\n",
       "      <td>0</td>\n",
       "      <td>2</td>\n",
       "      <td>1</td>\n",
       "    </tr>\n",
       "  </tbody>\n",
       "</table>\n",
       "</div>"
      ],
      "text/plain": [
       "   age  sex  cp  trestbps  chol  fbs  restecg  thalach  exang  oldpeak  slope  \\\n",
       "0   63    1   3       145   233    1        0      150      0      2.3      0   \n",
       "1   37    1   2       130   250    0        1      187      0      3.5      0   \n",
       "2   41    0   1       130   204    0        0      172      0      1.4      2   \n",
       "3   56    1   1       120   236    0        1      178      0      0.8      2   \n",
       "4   57    0   0       120   354    0        1      163      1      0.6      2   \n",
       "\n",
       "   ca  thal  target  \n",
       "0   0     1       1  \n",
       "1   0     2       1  \n",
       "2   0     2       1  \n",
       "3   0     2       1  \n",
       "4   0     2       1  "
      ]
     },
     "execution_count": 5,
     "metadata": {},
     "output_type": "execute_result"
    }
   ],
   "source": [
    "df.head()"
   ]
  },
  {
   "cell_type": "code",
   "execution_count": 6,
   "id": "resistant-square",
   "metadata": {},
   "outputs": [
    {
     "data": {
      "text/plain": [
       "1    165\n",
       "0    138\n",
       "Name: target, dtype: int64"
      ]
     },
     "execution_count": 6,
     "metadata": {},
     "output_type": "execute_result"
    }
   ],
   "source": [
    "#Let's find out how many patients are in each set\n",
    "df['target'].value_counts()"
   ]
  },
  {
   "cell_type": "code",
   "execution_count": 7,
   "id": "composed-scott",
   "metadata": {},
   "outputs": [
    {
     "data": {
      "image/png": "[encoded data removed]",
      "text/plain": [
       "<Figure size 432x288 with 1 Axes>"
      ]
     },
     "metadata": {
      "needs_background": "light"
     },
     "output_type": "display_data"
    }
   ],
   "source": [
    "df['target'].value_counts().plot(kind='bar', color = ['salmon', 'lightblue']);"
   ]
  },
  {
   "cell_type": "code",
   "execution_count": 8,
   "id": "working-registrar",
   "metadata": {},
   "outputs": [
    {
     "data": {
      "text/plain": [
       "age         0\n",
       "sex         0\n",
       "cp          0\n",
       "trestbps    0\n",
       "chol        0\n",
       "fbs         0\n",
       "restecg     0\n",
       "thalach     0\n",
       "exang       0\n",
       "oldpeak     0\n",
       "slope       0\n",
       "ca          0\n",
       "thal        0\n",
       "target      0\n",
       "dtype: int64"
      ]
     },
     "execution_count": 8,
     "metadata": {},
     "output_type": "execute_result"
    }
   ],
   "source": [
    "# Are there any missing values?\n",
    "df.isna().sum()"
   ]
  },
  {
   "cell_type": "code",
   "execution_count": 8,
   "id": "mobile-russia",
   "metadata": {},
   "outputs": [
    {
     "name": "stdout",
     "output_type": "stream",
     "text": [
      "<class 'pandas.core.frame.DataFrame'>\n",
      "RangeIndex: 303 entries, 0 to 302\n",
      "Data columns (total 14 columns):\n",
      " #   Column    Non-Null Count  Dtype  \n",
      "---  ------    --------------  -----  \n",
      " 0   age       303 non-null    int64  \n",
      " 1   sex       303 non-null    int64  \n",
      " 2   cp        303 non-null    int64  \n",
      " 3   trestbps  303 non-null    int64  \n",
      " 4   chol      303 non-null    int64  \n",
      " 5   fbs       303 non-null    int64  \n",
      " 6   restecg   303 non-null    int64  \n",
      " 7   thalach   303 non-null    int64  \n",
      " 8   exang     303 non-null    int64  \n",
      " 9   oldpeak   303 non-null    float64\n",
      " 10  slope     303 non-null    int64  \n",
      " 11  ca        303 non-null    int64  \n",
      " 12  thal      303 non-null    int64  \n",
      " 13  target    303 non-null    int64  \n",
      "dtypes: float64(1), int64(13)\n",
      "memory usage: 33.3 KB\n"
     ]
    }
   ],
   "source": [
    "df.info()"
   ]
  },
  {
   "cell_type": "code",
   "execution_count": 9,
   "id": "dried-threshold",
   "metadata": {},
   "outputs": [
    {
     "data": {
      "text/html": [
       "<div>\n",
       "<style scoped>\n",
       "    .dataframe tbody tr th:only-of-type {\n",
       "        vertical-align: middle;\n",
       "    }\n",
       "\n",
       "    .dataframe tbody tr th {\n",
       "        vertical-align: top;\n",
       "    }\n",
       "\n",
       "    .dataframe thead th {\n",
       "        text-align: right;\n",
       "    }\n",
       "</style>\n",
       "<table border=\"1\" class=\"dataframe\">\n",
       "  <thead>\n",
       "    <tr style=\"text-align: right;\">\n",
       "      <th></th>\n",
       "      <th>age</th>\n",
       "      <th>sex</th>\n",
       "      <th>cp</th>\n",
       "      <th>trestbps</th>\n",
       "      <th>chol</th>\n",
       "      <th>fbs</th>\n",
       "      <th>restecg</th>\n",
       "      <th>thalach</th>\n",
       "      <th>exang</th>\n",
       "      <th>oldpeak</th>\n",
       "      <th>slope</th>\n",
       "      <th>ca</th>\n",
       "      <th>thal</th>\n",
       "      <th>target</th>\n",
       "    </tr>\n",
       "  </thead>\n",
       "  <tbody>\n",
       "    <tr>\n",
       "      <th>count</th>\n",
       "      <td>303.000000</td>\n",
       "      <td>303.000000</td>\n",
       "      <td>303.000000</td>\n",
       "      <td>303.000000</td>\n",
       "      <td>303.000000</td>\n",
       "      <td>303.000000</td>\n",
       "      <td>303.000000</td>\n",
       "      <td>303.000000</td>\n",
       "      <td>303.000000</td>\n",
       "      <td>303.000000</td>\n",
       "      <td>303.000000</td>\n",
       "      <td>303.000000</td>\n",
       "      <td>303.000000</td>\n",
       "      <td>303.000000</td>\n",
       "    </tr>\n",
       "    <tr>\n",
       "      <th>mean</th>\n",
       "      <td>54.366337</td>\n",
       "      <td>0.683168</td>\n",
       "      <td>0.966997</td>\n",
       "      <td>131.623762</td>\n",
       "      <td>246.264026</td>\n",
       "      <td>0.148515</td>\n",
       "      <td>0.528053</td>\n",
       "      <td>149.646865</td>\n",
       "      <td>0.326733</td>\n",
       "      <td>1.039604</td>\n",
       "      <td>1.399340</td>\n",
       "      <td>0.729373</td>\n",
       "      <td>2.313531</td>\n",
       "      <td>0.544554</td>\n",
       "    </tr>\n",
       "    <tr>\n",
       "      <th>std</th>\n",
       "      <td>9.082101</td>\n",
       "      <td>0.466011</td>\n",
       "      <td>1.032052</td>\n",
       "      <td>17.538143</td>\n",
       "      <td>51.830751</td>\n",
       "      <td>0.356198</td>\n",
       "      <td>0.525860</td>\n",
       "      <td>22.905161</td>\n",
       "      <td>0.469794</td>\n",
       "      <td>1.161075</td>\n",
       "      <td>0.616226</td>\n",
       "      <td>1.022606</td>\n",
       "      <td>0.612277</td>\n",
       "      <td>0.498835</td>\n",
       "    </tr>\n",
       "    <tr>\n",
       "      <th>min</th>\n",
       "      <td>29.000000</td>\n",
       "      <td>0.000000</td>\n",
       "      <td>0.000000</td>\n",
       "      <td>94.000000</td>\n",
       "      <td>126.000000</td>\n",
       "      <td>0.000000</td>\n",
       "      <td>0.000000</td>\n",
       "      <td>71.000000</td>\n",
       "      <td>0.000000</td>\n",
       "      <td>0.000000</td>\n",
       "      <td>0.000000</td>\n",
       "      <td>0.000000</td>\n",
       "      <td>0.000000</td>\n",
       "      <td>0.000000</td>\n",
       "    </tr>\n",
       "    <tr>\n",
       "      <th>25%</th>\n",
       "      <td>47.500000</td>\n",
       "      <td>0.000000</td>\n",
       "      <td>0.000000</td>\n",
       "      <td>120.000000</td>\n",
       "      <td>211.000000</td>\n",
       "      <td>0.000000</td>\n",
       "      <td>0.000000</td>\n",
       "      <td>133.500000</td>\n",
       "      <td>0.000000</td>\n",
       "      <td>0.000000</td>\n",
       "      <td>1.000000</td>\n",
       "      <td>0.000000</td>\n",
       "      <td>2.000000</td>\n",
       "      <td>0.000000</td>\n",
       "    </tr>\n",
       "    <tr>\n",
       "      <th>50%</th>\n",
       "      <td>55.000000</td>\n",
       "      <td>1.000000</td>\n",
       "      <td>1.000000</td>\n",
       "      <td>130.000000</td>\n",
       "      <td>240.000000</td>\n",
       "      <td>0.000000</td>\n",
       "      <td>1.000000</td>\n",
       "      <td>153.000000</td>\n",
       "      <td>0.000000</td>\n",
       "      <td>0.800000</td>\n",
       "      <td>1.000000</td>\n",
       "      <td>0.000000</td>\n",
       "      <td>2.000000</td>\n",
       "      <td>1.000000</td>\n",
       "    </tr>\n",
       "    <tr>\n",
       "      <th>75%</th>\n",
       "      <td>61.000000</td>\n",
       "      <td>1.000000</td>\n",
       "      <td>2.000000</td>\n",
       "      <td>140.000000</td>\n",
       "      <td>274.500000</td>\n",
       "      <td>0.000000</td>\n",
       "      <td>1.000000</td>\n",
       "      <td>166.000000</td>\n",
       "      <td>1.000000</td>\n",
       "      <td>1.600000</td>\n",
       "      <td>2.000000</td>\n",
       "      <td>1.000000</td>\n",
       "      <td>3.000000</td>\n",
       "      <td>1.000000</td>\n",
       "    </tr>\n",
       "    <tr>\n",
       "      <th>max</th>\n",
       "      <td>77.000000</td>\n",
       "      <td>1.000000</td>\n",
       "      <td>3.000000</td>\n",
       "      <td>200.000000</td>\n",
       "      <td>564.000000</td>\n",
       "      <td>1.000000</td>\n",
       "      <td>2.000000</td>\n",
       "      <td>202.000000</td>\n",
       "      <td>1.000000</td>\n",
       "      <td>6.200000</td>\n",
       "      <td>2.000000</td>\n",
       "      <td>4.000000</td>\n",
       "      <td>3.000000</td>\n",
       "      <td>1.000000</td>\n",
       "    </tr>\n",
       "  </tbody>\n",
       "</table>\n",
       "</div>"
      ],
      "text/plain": [
       "              age         sex          cp    trestbps        chol         fbs  \\\n",
       "count  303.000000  303.000000  303.000000  303.000000  303.000000  303.000000   \n",
       "mean    54.366337    0.683168    0.966997  131.623762  246.264026    0.148515   \n",
       "std      9.082101    0.466011    1.032052   17.538143   51.830751    0.356198   \n",
       "min     29.000000    0.000000    0.000000   94.000000  126.000000    0.000000   \n",
       "25%     47.500000    0.000000    0.000000  120.000000  211.000000    0.000000   \n",
       "50%     55.000000    1.000000    1.000000  130.000000  240.000000    0.000000   \n",
       "75%     61.000000    1.000000    2.000000  140.000000  274.500000    0.000000   \n",
       "max     77.000000    1.000000    3.000000  200.000000  564.000000    1.000000   \n",
       "\n",
       "          restecg     thalach       exang     oldpeak       slope          ca  \\\n",
       "count  303.000000  303.000000  303.000000  303.000000  303.000000  303.000000   \n",
       "mean     0.528053  149.646865    0.326733    1.039604    1.399340    0.729373   \n",
       "std      0.525860   22.905161    0.469794    1.161075    0.616226    1.022606   \n",
       "min      0.000000   71.000000    0.000000    0.000000    0.000000    0.000000   \n",
       "25%      0.000000  133.500000    0.000000    0.000000    1.000000    0.000000   \n",
       "50%      1.000000  153.000000    0.000000    0.800000    1.000000    0.000000   \n",
       "75%      1.000000  166.000000    1.000000    1.600000    2.000000    1.000000   \n",
       "max      2.000000  202.000000    1.000000    6.200000    2.000000    4.000000   \n",
       "\n",
       "             thal      target  \n",
       "count  303.000000  303.000000  \n",
       "mean     2.313531    0.544554  \n",
       "std      0.612277    0.498835  \n",
       "min      0.000000    0.000000  \n",
       "25%      2.000000    0.000000  \n",
       "50%      2.000000    1.000000  \n",
       "75%      3.000000    1.000000  \n",
       "max      3.000000    1.000000  "
      ]
     },
     "execution_count": 9,
     "metadata": {},
     "output_type": "execute_result"
    }
   ],
   "source": [
    "df.describe()"
   ]
  },
  {
   "cell_type": "code",
   "execution_count": 10,
   "id": "medical-magnet",
   "metadata": {},
   "outputs": [
    {
     "data": {
      "text/html": [
       "<div>\n",
       "<style scoped>\n",
       "    .dataframe tbody tr th:only-of-type {\n",
       "        vertical-align: middle;\n",
       "    }\n",
       "\n",
       "    .dataframe tbody tr th {\n",
       "        vertical-align: top;\n",
       "    }\n",
       "\n",
       "    .dataframe thead th {\n",
       "        text-align: right;\n",
       "    }\n",
       "</style>\n",
       "<table border=\"1\" class=\"dataframe\">\n",
       "  <thead>\n",
       "    <tr style=\"text-align: right;\">\n",
       "      <th></th>\n",
       "      <th>age</th>\n",
       "      <th>sex</th>\n",
       "      <th>cp</th>\n",
       "      <th>trestbps</th>\n",
       "      <th>chol</th>\n",
       "      <th>fbs</th>\n",
       "      <th>restecg</th>\n",
       "      <th>thalach</th>\n",
       "      <th>exang</th>\n",
       "      <th>oldpeak</th>\n",
       "      <th>slope</th>\n",
       "      <th>ca</th>\n",
       "      <th>thal</th>\n",
       "      <th>target</th>\n",
       "    </tr>\n",
       "  </thead>\n",
       "  <tbody>\n",
       "    <tr>\n",
       "      <th>age</th>\n",
       "      <td>1.000000</td>\n",
       "      <td>-0.098447</td>\n",
       "      <td>-0.068653</td>\n",
       "      <td>0.279351</td>\n",
       "      <td>0.213678</td>\n",
       "      <td>0.121308</td>\n",
       "      <td>-0.116211</td>\n",
       "      <td>-0.398522</td>\n",
       "      <td>0.096801</td>\n",
       "      <td>0.210013</td>\n",
       "      <td>-0.168814</td>\n",
       "      <td>0.276326</td>\n",
       "      <td>0.068001</td>\n",
       "      <td>-0.225439</td>\n",
       "    </tr>\n",
       "    <tr>\n",
       "      <th>sex</th>\n",
       "      <td>-0.098447</td>\n",
       "      <td>1.000000</td>\n",
       "      <td>-0.049353</td>\n",
       "      <td>-0.056769</td>\n",
       "      <td>-0.197912</td>\n",
       "      <td>0.045032</td>\n",
       "      <td>-0.058196</td>\n",
       "      <td>-0.044020</td>\n",
       "      <td>0.141664</td>\n",
       "      <td>0.096093</td>\n",
       "      <td>-0.030711</td>\n",
       "      <td>0.118261</td>\n",
       "      <td>0.210041</td>\n",
       "      <td>-0.280937</td>\n",
       "    </tr>\n",
       "    <tr>\n",
       "      <th>cp</th>\n",
       "      <td>-0.068653</td>\n",
       "      <td>-0.049353</td>\n",
       "      <td>1.000000</td>\n",
       "      <td>0.047608</td>\n",
       "      <td>-0.076904</td>\n",
       "      <td>0.094444</td>\n",
       "      <td>0.044421</td>\n",
       "      <td>0.295762</td>\n",
       "      <td>-0.394280</td>\n",
       "      <td>-0.149230</td>\n",
       "      <td>0.119717</td>\n",
       "      <td>-0.181053</td>\n",
       "      <td>-0.161736</td>\n",
       "      <td>0.433798</td>\n",
       "    </tr>\n",
       "    <tr>\n",
       "      <th>trestbps</th>\n",
       "      <td>0.279351</td>\n",
       "      <td>-0.056769</td>\n",
       "      <td>0.047608</td>\n",
       "      <td>1.000000</td>\n",
       "      <td>0.123174</td>\n",
       "      <td>0.177531</td>\n",
       "      <td>-0.114103</td>\n",
       "      <td>-0.046698</td>\n",
       "      <td>0.067616</td>\n",
       "      <td>0.193216</td>\n",
       "      <td>-0.121475</td>\n",
       "      <td>0.101389</td>\n",
       "      <td>0.062210</td>\n",
       "      <td>-0.144931</td>\n",
       "    </tr>\n",
       "    <tr>\n",
       "      <th>chol</th>\n",
       "      <td>0.213678</td>\n",
       "      <td>-0.197912</td>\n",
       "      <td>-0.076904</td>\n",
       "      <td>0.123174</td>\n",
       "      <td>1.000000</td>\n",
       "      <td>0.013294</td>\n",
       "      <td>-0.151040</td>\n",
       "      <td>-0.009940</td>\n",
       "      <td>0.067023</td>\n",
       "      <td>0.053952</td>\n",
       "      <td>-0.004038</td>\n",
       "      <td>0.070511</td>\n",
       "      <td>0.098803</td>\n",
       "      <td>-0.085239</td>\n",
       "    </tr>\n",
       "    <tr>\n",
       "      <th>fbs</th>\n",
       "      <td>0.121308</td>\n",
       "      <td>0.045032</td>\n",
       "      <td>0.094444</td>\n",
       "      <td>0.177531</td>\n",
       "      <td>0.013294</td>\n",
       "      <td>1.000000</td>\n",
       "      <td>-0.084189</td>\n",
       "      <td>-0.008567</td>\n",
       "      <td>0.025665</td>\n",
       "      <td>0.005747</td>\n",
       "      <td>-0.059894</td>\n",
       "      <td>0.137979</td>\n",
       "      <td>-0.032019</td>\n",
       "      <td>-0.028046</td>\n",
       "    </tr>\n",
       "    <tr>\n",
       "      <th>restecg</th>\n",
       "      <td>-0.116211</td>\n",
       "      <td>-0.058196</td>\n",
       "      <td>0.044421</td>\n",
       "      <td>-0.114103</td>\n",
       "      <td>-0.151040</td>\n",
       "      <td>-0.084189</td>\n",
       "      <td>1.000000</td>\n",
       "      <td>0.044123</td>\n",
       "      <td>-0.070733</td>\n",
       "      <td>-0.058770</td>\n",
       "      <td>0.093045</td>\n",
       "      <td>-0.072042</td>\n",
       "      <td>-0.011981</td>\n",
       "      <td>0.137230</td>\n",
       "    </tr>\n",
       "    <tr>\n",
       "      <th>thalach</th>\n",
       "      <td>-0.398522</td>\n",
       "      <td>-0.044020</td>\n",
       "      <td>0.295762</td>\n",
       "      <td>-0.046698</td>\n",
       "      <td>-0.009940</td>\n",
       "      <td>-0.008567</td>\n",
       "      <td>0.044123</td>\n",
       "      <td>1.000000</td>\n",
       "      <td>-0.378812</td>\n",
       "      <td>-0.344187</td>\n",
       "      <td>0.386784</td>\n",
       "      <td>-0.213177</td>\n",
       "      <td>-0.096439</td>\n",
       "      <td>0.421741</td>\n",
       "    </tr>\n",
       "    <tr>\n",
       "      <th>exang</th>\n",
       "      <td>0.096801</td>\n",
       "      <td>0.141664</td>\n",
       "      <td>-0.394280</td>\n",
       "      <td>0.067616</td>\n",
       "      <td>0.067023</td>\n",
       "      <td>0.025665</td>\n",
       "      <td>-0.070733</td>\n",
       "      <td>-0.378812</td>\n",
       "      <td>1.000000</td>\n",
       "      <td>0.288223</td>\n",
       "      <td>-0.257748</td>\n",
       "      <td>0.115739</td>\n",
       "      <td>0.206754</td>\n",
       "      <td>-0.436757</td>\n",
       "    </tr>\n",
       "    <tr>\n",
       "      <th>oldpeak</th>\n",
       "      <td>0.210013</td>\n",
       "      <td>0.096093</td>\n",
       "      <td>-0.149230</td>\n",
       "      <td>0.193216</td>\n",
       "      <td>0.053952</td>\n",
       "      <td>0.005747</td>\n",
       "      <td>-0.058770</td>\n",
       "      <td>-0.344187</td>\n",
       "      <td>0.288223</td>\n",
       "      <td>1.000000</td>\n",
       "      <td>-0.577537</td>\n",
       "      <td>0.222682</td>\n",
       "      <td>0.210244</td>\n",
       "      <td>-0.430696</td>\n",
       "    </tr>\n",
       "    <tr>\n",
       "      <th>slope</th>\n",
       "      <td>-0.168814</td>\n",
       "      <td>-0.030711</td>\n",
       "      <td>0.119717</td>\n",
       "      <td>-0.121475</td>\n",
       "      <td>-0.004038</td>\n",
       "      <td>-0.059894</td>\n",
       "      <td>0.093045</td>\n",
       "      <td>0.386784</td>\n",
       "      <td>-0.257748</td>\n",
       "      <td>-0.577537</td>\n",
       "      <td>1.000000</td>\n",
       "      <td>-0.080155</td>\n",
       "      <td>-0.104764</td>\n",
       "      <td>0.345877</td>\n",
       "    </tr>\n",
       "    <tr>\n",
       "      <th>ca</th>\n",
       "      <td>0.276326</td>\n",
       "      <td>0.118261</td>\n",
       "      <td>-0.181053</td>\n",
       "      <td>0.101389</td>\n",
       "      <td>0.070511</td>\n",
       "      <td>0.137979</td>\n",
       "      <td>-0.072042</td>\n",
       "      <td>-0.213177</td>\n",
       "      <td>0.115739</td>\n",
       "      <td>0.222682</td>\n",
       "      <td>-0.080155</td>\n",
       "      <td>1.000000</td>\n",
       "      <td>0.151832</td>\n",
       "      <td>-0.391724</td>\n",
       "    </tr>\n",
       "    <tr>\n",
       "      <th>thal</th>\n",
       "      <td>0.068001</td>\n",
       "      <td>0.210041</td>\n",
       "      <td>-0.161736</td>\n",
       "      <td>0.062210</td>\n",
       "      <td>0.098803</td>\n",
       "      <td>-0.032019</td>\n",
       "      <td>-0.011981</td>\n",
       "      <td>-0.096439</td>\n",
       "      <td>0.206754</td>\n",
       "      <td>0.210244</td>\n",
       "      <td>-0.104764</td>\n",
       "      <td>0.151832</td>\n",
       "      <td>1.000000</td>\n",
       "      <td>-0.344029</td>\n",
       "    </tr>\n",
       "    <tr>\n",
       "      <th>target</th>\n",
       "      <td>-0.225439</td>\n",
       "      <td>-0.280937</td>\n",
       "      <td>0.433798</td>\n",
       "      <td>-0.144931</td>\n",
       "      <td>-0.085239</td>\n",
       "      <td>-0.028046</td>\n",
       "      <td>0.137230</td>\n",
       "      <td>0.421741</td>\n",
       "      <td>-0.436757</td>\n",
       "      <td>-0.430696</td>\n",
       "      <td>0.345877</td>\n",
       "      <td>-0.391724</td>\n",
       "      <td>-0.344029</td>\n",
       "      <td>1.000000</td>\n",
       "    </tr>\n",
       "  </tbody>\n",
       "</table>\n",
       "</div>"
      ],
      "text/plain": [
       "               age       sex        cp  trestbps      chol       fbs  \\\n",
       "age       1.000000 -0.098447 -0.068653  0.279351  0.213678  0.121308   \n",
       "sex      -0.098447  1.000000 -0.049353 -0.056769 -0.197912  0.045032   \n",
       "cp       -0.068653 -0.049353  1.000000  0.047608 -0.076904  0.094444   \n",
       "trestbps  0.279351 -0.056769  0.047608  1.000000  0.123174  0.177531   \n",
       "chol      0.213678 -0.197912 -0.076904  0.123174  1.000000  0.013294   \n",
       "fbs       0.121308  0.045032  0.094444  0.177531  0.013294  1.000000   \n",
       "restecg  -0.116211 -0.058196  0.044421 -0.114103 -0.151040 -0.084189   \n",
       "thalach  -0.398522 -0.044020  0.295762 -0.046698 -0.009940 -0.008567   \n",
       "exang     0.096801  0.141664 -0.394280  0.067616  0.067023  0.025665   \n",
       "oldpeak   0.210013  0.096093 -0.149230  0.193216  0.053952  0.005747   \n",
       "slope    -0.168814 -0.030711  0.119717 -0.121475 -0.004038 -0.059894   \n",
       "ca        0.276326  0.118261 -0.181053  0.101389  0.070511  0.137979   \n",
       "thal      0.068001  0.210041 -0.161736  0.062210  0.098803 -0.032019   \n",
       "target   -0.225439 -0.280937  0.433798 -0.144931 -0.085239 -0.028046   \n",
       "\n",
       "           restecg   thalach     exang   oldpeak     slope        ca  \\\n",
       "age      -0.116211 -0.398522  0.096801  0.210013 -0.168814  0.276326   \n",
       "sex      -0.058196 -0.044020  0.141664  0.096093 -0.030711  0.118261   \n",
       "cp        0.044421  0.295762 -0.394280 -0.149230  0.119717 -0.181053   \n",
       "trestbps -0.114103 -0.046698  0.067616  0.193216 -0.121475  0.101389   \n",
       "chol     -0.151040 -0.009940  0.067023  0.053952 -0.004038  0.070511   \n",
       "fbs      -0.084189 -0.008567  0.025665  0.005747 -0.059894  0.137979   \n",
       "restecg   1.000000  0.044123 -0.070733 -0.058770  0.093045 -0.072042   \n",
       "thalach   0.044123  1.000000 -0.378812 -0.344187  0.386784 -0.213177   \n",
       "exang    -0.070733 -0.378812  1.000000  0.288223 -0.257748  0.115739   \n",
       "oldpeak  -0.058770 -0.344187  0.288223  1.000000 -0.577537  0.222682   \n",
       "slope     0.093045  0.386784 -0.257748 -0.577537  1.000000 -0.080155   \n",
       "ca       -0.072042 -0.213177  0.115739  0.222682 -0.080155  1.000000   \n",
       "thal     -0.011981 -0.096439  0.206754  0.210244 -0.104764  0.151832   \n",
       "target    0.137230  0.421741 -0.436757 -0.430696  0.345877 -0.391724   \n",
       "\n",
       "              thal    target  \n",
       "age       0.068001 -0.225439  \n",
       "sex       0.210041 -0.280937  \n",
       "cp       -0.161736  0.433798  \n",
       "trestbps  0.062210 -0.144931  \n",
       "chol      0.098803 -0.085239  \n",
       "fbs      -0.032019 -0.028046  \n",
       "restecg  -0.011981  0.137230  \n",
       "thalach  -0.096439  0.421741  \n",
       "exang     0.206754 -0.436757  \n",
       "oldpeak   0.210244 -0.430696  \n",
       "slope    -0.104764  0.345877  \n",
       "ca        0.151832 -0.391724  \n",
       "thal      1.000000 -0.344029  \n",
       "target   -0.344029  1.000000  "
      ]
     },
     "execution_count": 10,
     "metadata": {},
     "output_type": "execute_result"
    }
   ],
   "source": [
    "df.corr() # Correlation matrix (See how much each column relate to each other)"
   ]
  },
  {
   "cell_type": "markdown",
   "id": "apart-ranking",
   "metadata": {},
   "source": [
    "### Heart Disease Frequency according to Sex"
   ]
  },
  {
   "cell_type": "markdown",
   "id": "southwest-mambo",
   "metadata": {},
   "source": [
    "We want to compare the sex attribute to the target attribute "
   ]
  },
  {
   "cell_type": "code",
   "execution_count": 11,
   "id": "healthy-karma",
   "metadata": {},
   "outputs": [
    {
     "data": {
      "text/plain": [
       "1    207\n",
       "0     96\n",
       "Name: sex, dtype: int64"
      ]
     },
     "execution_count": 11,
     "metadata": {},
     "output_type": "execute_result"
    }
   ],
   "source": [
    "df.sex.value_counts()\n",
    "# 1 = male, 0 = female"
   ]
  },
  {
   "cell_type": "code",
   "execution_count": 12,
   "id": "dated-humanity",
   "metadata": {},
   "outputs": [
    {
     "data": {
      "text/html": [
       "<div>\n",
       "<style scoped>\n",
       "    .dataframe tbody tr th:only-of-type {\n",
       "        vertical-align: middle;\n",
       "    }\n",
       "\n",
       "    .dataframe tbody tr th {\n",
       "        vertical-align: top;\n",
       "    }\n",
       "\n",
       "    .dataframe thead th {\n",
       "        text-align: right;\n",
       "    }\n",
       "</style>\n",
       "<table border=\"1\" class=\"dataframe\">\n",
       "  <thead>\n",
       "    <tr style=\"text-align: right;\">\n",
       "      <th>sex</th>\n",
       "      <th>0</th>\n",
       "      <th>1</th>\n",
       "    </tr>\n",
       "    <tr>\n",
       "      <th>target</th>\n",
       "      <th></th>\n",
       "      <th></th>\n",
       "    </tr>\n",
       "  </thead>\n",
       "  <tbody>\n",
       "    <tr>\n",
       "      <th>0</th>\n",
       "      <td>24</td>\n",
       "      <td>114</td>\n",
       "    </tr>\n",
       "    <tr>\n",
       "      <th>1</th>\n",
       "      <td>72</td>\n",
       "      <td>93</td>\n",
       "    </tr>\n",
       "  </tbody>\n",
       "</table>\n",
       "</div>"
      ],
      "text/plain": [
       "sex      0    1\n",
       "target         \n",
       "0       24  114\n",
       "1       72   93"
      ]
     },
     "execution_count": 12,
     "metadata": {},
     "output_type": "execute_result"
    }
   ],
   "source": [
    "# If we want to compare the sex column to the target column\n",
    "# good function is crosstab\n",
    "pd.crosstab(df.target, df['sex'])"
   ]
  },
  {
   "cell_type": "markdown",
   "id": "elect-class",
   "metadata": {},
   "source": [
    "**Sentences that interprets the data**\n",
    "* 72 out of 96 women have heart disease\n",
    "* 114 out of 207 men do not have heart disease\n",
    "* 93 men out of 207 men do have heart disease\n",
    "* 44% of men have heart disease\n",
    "* 75% of the women here have heart disease"
   ]
  },
  {
   "cell_type": "markdown",
   "id": "caroline-hampton",
   "metadata": {},
   "source": [
    "Just looking at the comparison between sex and target. We can infer that:\n",
    "* Based on our existing dataset any woman we choose will have a 75% chance of having heart disease\n",
    "* Based on our existing data, there is a 62.5% chance that anybody we select will have heart disease.\n",
    "* Theresa 44% chance that any male that is selected will have heart disease"
   ]
  },
  {
   "cell_type": "code",
   "execution_count": 9,
   "id": "egyptian-liverpool",
   "metadata": {},
   "outputs": [
    {
     "data": {
      "image/png": "[encoded data removed]",
      "text/plain": [
       "<Figure size 720x432 with 1 Axes>"
      ]
     },
     "metadata": {
      "needs_background": "light"
     },
     "output_type": "display_data"
    }
   ],
   "source": [
    "# Create a plot of crosstab\n",
    "pd.crosstab(df['target'], df['sex']).plot(kind='bar', figsize=(10,6), color=['salmon', 'lightblue'])\n",
    "plt.title('Heart Disease Frequency for Gender')\n",
    "plt.xlabel('0 = No Disease, 1 = Disease ')\n",
    "plt.ylabel('Amount of patients')\n",
    "plt.legend(['Female', 'Male'])\n",
    "plt.xticks(rotation=0)\n",
    "plt.show()"
   ]
  },
  {
   "cell_type": "code",
   "execution_count": 10,
   "id": "bearing-property",
   "metadata": {},
   "outputs": [
    {
     "data": {
      "text/plain": [
       "162    11\n",
       "163     9\n",
       "160     9\n",
       "152     8\n",
       "173     8\n",
       "       ..\n",
       "128     1\n",
       "129     1\n",
       "134     1\n",
       "137     1\n",
       "202     1\n",
       "Name: thalach, Length: 91, dtype: int64"
      ]
     },
     "execution_count": 10,
     "metadata": {},
     "output_type": "execute_result"
    }
   ],
   "source": [
    "df['thalach'].value_counts()"
   ]
  },
  {
   "cell_type": "markdown",
   "id": "circular-penguin",
   "metadata": {},
   "source": [
    "This can't be visually represented in a bar graph, as there is 91 different types of values. THis would be easier interpreted on a scatter plot"
   ]
  },
  {
   "cell_type": "markdown",
   "id": "fixed-privilege",
   "metadata": {},
   "source": [
    "* Features are often referred to as independent variables\n",
    "* Targets are referred to as the dependent variable. \n",
    "\n",
    "When comparing columns to see the relation in your dataset, compare dependent and independent variables"
   ]
  },
  {
   "cell_type": "markdown",
   "id": "planned-visibility",
   "metadata": {},
   "source": [
    "### Age vs. Max Heart Rate for Heart Disease"
   ]
  },
  {
   "cell_type": "code",
   "execution_count": 11,
   "id": "french-auditor",
   "metadata": {},
   "outputs": [
    {
     "data": {
      "text/plain": [
       "<matplotlib.legend.Legend at 0x1f1800398b0>"
      ]
     },
     "execution_count": 11,
     "metadata": {},
     "output_type": "execute_result"
    },
    {
     "data": {
      "image/png": "[encoded data removed]",
      "text/plain": [
       "<Figure size 720x432 with 1 Axes>"
      ]
     },
     "metadata": {
      "needs_background": "light"
     },
     "output_type": "display_data"
    }
   ],
   "source": [
    "# Create another Figure\n",
    "plt.figure(figsize=(10,6))\n",
    "\n",
    "#Scatter with positive examples\n",
    "plt.scatter(df.age[df['target']==1], df.thalach[df['target']==1], c='salmon')\n",
    "\n",
    "\n",
    "# Scatter with negative examples\n",
    "plt.scatter(df.age[df['target']==0], df.thalach[df['target']==0], c='black')\n",
    "\n",
    "# Add some helpful info\n",
    "plt.title('Heart DIsease in function of Age & Max Heart Rate')\n",
    "plt.xlabel('Age')\n",
    "plt.ylabel('Max Heart Rate')\n",
    "plt.legend(['Disease', 'No Disease'])"
   ]
  },
  {
   "cell_type": "code",
   "execution_count": 12,
   "id": "vulnerable-statement",
   "metadata": {},
   "outputs": [
    {
     "data": {
      "text/plain": [
       "<AxesSubplot:ylabel='Frequency'>"
      ]
     },
     "execution_count": 12,
     "metadata": {},
     "output_type": "execute_result"
    },
    {
     "data": {
      "image/png": "[encoded data removed]",
      "text/plain": [
       "<Figure size 432x288 with 1 Axes>"
      ]
     },
     "metadata": {
      "needs_background": "light"
     },
     "output_type": "display_data"
    }
   ],
   "source": [
    "# Check distribution of the age column with histogram\n",
    "df.age.plot(kind='hist')"
   ]
  },
  {
   "cell_type": "markdown",
   "id": "peaceful-ribbon",
   "metadata": {},
   "source": [
    "### Heart Disease Frequency per chest pain type\n",
    "3. cp: chest pain type\n",
    "* Value 1: typical angina\n",
    "* Value 2: atypical angina\n",
    "* Value 3: non-anginal pain\n",
    "* Value 4: asymptomatic"
   ]
  },
  {
   "cell_type": "code",
   "execution_count": 13,
   "id": "virtual-width",
   "metadata": {},
   "outputs": [
    {
     "data": {
      "text/html": [
       "<div>\n",
       "<style scoped>\n",
       "    .dataframe tbody tr th:only-of-type {\n",
       "        vertical-align: middle;\n",
       "    }\n",
       "\n",
       "    .dataframe tbody tr th {\n",
       "        vertical-align: top;\n",
       "    }\n",
       "\n",
       "    .dataframe thead th {\n",
       "        text-align: right;\n",
       "    }\n",
       "</style>\n",
       "<table border=\"1\" class=\"dataframe\">\n",
       "  <thead>\n",
       "    <tr style=\"text-align: right;\">\n",
       "      <th>cp</th>\n",
       "      <th>0</th>\n",
       "      <th>1</th>\n",
       "      <th>2</th>\n",
       "      <th>3</th>\n",
       "    </tr>\n",
       "    <tr>\n",
       "      <th>target</th>\n",
       "      <th></th>\n",
       "      <th></th>\n",
       "      <th></th>\n",
       "      <th></th>\n",
       "    </tr>\n",
       "  </thead>\n",
       "  <tbody>\n",
       "    <tr>\n",
       "      <th>0</th>\n",
       "      <td>104</td>\n",
       "      <td>9</td>\n",
       "      <td>18</td>\n",
       "      <td>7</td>\n",
       "    </tr>\n",
       "    <tr>\n",
       "      <th>1</th>\n",
       "      <td>39</td>\n",
       "      <td>41</td>\n",
       "      <td>69</td>\n",
       "      <td>16</td>\n",
       "    </tr>\n",
       "  </tbody>\n",
       "</table>\n",
       "</div>"
      ],
      "text/plain": [
       "cp        0   1   2   3\n",
       "target                 \n",
       "0       104   9  18   7\n",
       "1        39  41  69  16"
      ]
     },
     "execution_count": 13,
     "metadata": {},
     "output_type": "execute_result"
    }
   ],
   "source": [
    "pd.crosstab(df['target'], df['cp'])"
   ]
  },
  {
   "cell_type": "code",
   "execution_count": 14,
   "id": "together-penguin",
   "metadata": {},
   "outputs": [
    {
     "data": {
      "image/png": "[encoded data removed]",
      "text/plain": [
       "<Figure size 720x432 with 1 Axes>"
      ]
     },
     "metadata": {
      "needs_background": "light"
     },
     "output_type": "display_data"
    }
   ],
   "source": [
    "# Make the crosstab more visual\n",
    "pd.crosstab(df.cp, df.target).plot(kind='bar', figsize=(10,6), color=['salmon', 'gold'])\n",
    "\n",
    "# Add some communication \n",
    "plt.title('Heart Disease Frequency per Chest Pain Type')\n",
    "plt.xlabel('Chest Pain Type')\n",
    "plt.ylabel('Amount')\n",
    "plt.legend(['No disease', 'Disease'])\n",
    "plt.show()"
   ]
  },
  {
   "cell_type": "markdown",
   "id": "liable-incident",
   "metadata": {},
   "source": [
    "Next we'll check out the correlation between our independent variables and our dependent variables with a correlation matrix (Done already from above)"
   ]
  },
  {
   "cell_type": "code",
   "execution_count": 15,
   "id": "strong-drill",
   "metadata": {},
   "outputs": [
    {
     "data": {
      "text/html": [
       "<div>\n",
       "<style scoped>\n",
       "    .dataframe tbody tr th:only-of-type {\n",
       "        vertical-align: middle;\n",
       "    }\n",
       "\n",
       "    .dataframe tbody tr th {\n",
       "        vertical-align: top;\n",
       "    }\n",
       "\n",
       "    .dataframe thead th {\n",
       "        text-align: right;\n",
       "    }\n",
       "</style>\n",
       "<table border=\"1\" class=\"dataframe\">\n",
       "  <thead>\n",
       "    <tr style=\"text-align: right;\">\n",
       "      <th></th>\n",
       "      <th>age</th>\n",
       "      <th>sex</th>\n",
       "      <th>cp</th>\n",
       "      <th>trestbps</th>\n",
       "      <th>chol</th>\n",
       "      <th>fbs</th>\n",
       "      <th>restecg</th>\n",
       "      <th>thalach</th>\n",
       "      <th>exang</th>\n",
       "      <th>oldpeak</th>\n",
       "      <th>slope</th>\n",
       "      <th>ca</th>\n",
       "      <th>thal</th>\n",
       "      <th>target</th>\n",
       "    </tr>\n",
       "  </thead>\n",
       "  <tbody>\n",
       "    <tr>\n",
       "      <th>age</th>\n",
       "      <td>1.000000</td>\n",
       "      <td>-0.098447</td>\n",
       "      <td>-0.068653</td>\n",
       "      <td>0.279351</td>\n",
       "      <td>0.213678</td>\n",
       "      <td>0.121308</td>\n",
       "      <td>-0.116211</td>\n",
       "      <td>-0.398522</td>\n",
       "      <td>0.096801</td>\n",
       "      <td>0.210013</td>\n",
       "      <td>-0.168814</td>\n",
       "      <td>0.276326</td>\n",
       "      <td>0.068001</td>\n",
       "      <td>-0.225439</td>\n",
       "    </tr>\n",
       "    <tr>\n",
       "      <th>sex</th>\n",
       "      <td>-0.098447</td>\n",
       "      <td>1.000000</td>\n",
       "      <td>-0.049353</td>\n",
       "      <td>-0.056769</td>\n",
       "      <td>-0.197912</td>\n",
       "      <td>0.045032</td>\n",
       "      <td>-0.058196</td>\n",
       "      <td>-0.044020</td>\n",
       "      <td>0.141664</td>\n",
       "      <td>0.096093</td>\n",
       "      <td>-0.030711</td>\n",
       "      <td>0.118261</td>\n",
       "      <td>0.210041</td>\n",
       "      <td>-0.280937</td>\n",
       "    </tr>\n",
       "    <tr>\n",
       "      <th>cp</th>\n",
       "      <td>-0.068653</td>\n",
       "      <td>-0.049353</td>\n",
       "      <td>1.000000</td>\n",
       "      <td>0.047608</td>\n",
       "      <td>-0.076904</td>\n",
       "      <td>0.094444</td>\n",
       "      <td>0.044421</td>\n",
       "      <td>0.295762</td>\n",
       "      <td>-0.394280</td>\n",
       "      <td>-0.149230</td>\n",
       "      <td>0.119717</td>\n",
       "      <td>-0.181053</td>\n",
       "      <td>-0.161736</td>\n",
       "      <td>0.433798</td>\n",
       "    </tr>\n",
       "    <tr>\n",
       "      <th>trestbps</th>\n",
       "      <td>0.279351</td>\n",
       "      <td>-0.056769</td>\n",
       "      <td>0.047608</td>\n",
       "      <td>1.000000</td>\n",
       "      <td>0.123174</td>\n",
       "      <td>0.177531</td>\n",
       "      <td>-0.114103</td>\n",
       "      <td>-0.046698</td>\n",
       "      <td>0.067616</td>\n",
       "      <td>0.193216</td>\n",
       "      <td>-0.121475</td>\n",
       "      <td>0.101389</td>\n",
       "      <td>0.062210</td>\n",
       "      <td>-0.144931</td>\n",
       "    </tr>\n",
       "    <tr>\n",
       "      <th>chol</th>\n",
       "      <td>0.213678</td>\n",
       "      <td>-0.197912</td>\n",
       "      <td>-0.076904</td>\n",
       "      <td>0.123174</td>\n",
       "      <td>1.000000</td>\n",
       "      <td>0.013294</td>\n",
       "      <td>-0.151040</td>\n",
       "      <td>-0.009940</td>\n",
       "      <td>0.067023</td>\n",
       "      <td>0.053952</td>\n",
       "      <td>-0.004038</td>\n",
       "      <td>0.070511</td>\n",
       "      <td>0.098803</td>\n",
       "      <td>-0.085239</td>\n",
       "    </tr>\n",
       "    <tr>\n",
       "      <th>fbs</th>\n",
       "      <td>0.121308</td>\n",
       "      <td>0.045032</td>\n",
       "      <td>0.094444</td>\n",
       "      <td>0.177531</td>\n",
       "      <td>0.013294</td>\n",
       "      <td>1.000000</td>\n",
       "      <td>-0.084189</td>\n",
       "      <td>-0.008567</td>\n",
       "      <td>0.025665</td>\n",
       "      <td>0.005747</td>\n",
       "      <td>-0.059894</td>\n",
       "      <td>0.137979</td>\n",
       "      <td>-0.032019</td>\n",
       "      <td>-0.028046</td>\n",
       "    </tr>\n",
       "    <tr>\n",
       "      <th>restecg</th>\n",
       "      <td>-0.116211</td>\n",
       "      <td>-0.058196</td>\n",
       "      <td>0.044421</td>\n",
       "      <td>-0.114103</td>\n",
       "      <td>-0.151040</td>\n",
       "      <td>-0.084189</td>\n",
       "      <td>1.000000</td>\n",
       "      <td>0.044123</td>\n",
       "      <td>-0.070733</td>\n",
       "      <td>-0.058770</td>\n",
       "      <td>0.093045</td>\n",
       "      <td>-0.072042</td>\n",
       "      <td>-0.011981</td>\n",
       "      <td>0.137230</td>\n",
       "    </tr>\n",
       "    <tr>\n",
       "      <th>thalach</th>\n",
       "      <td>-0.398522</td>\n",
       "      <td>-0.044020</td>\n",
       "      <td>0.295762</td>\n",
       "      <td>-0.046698</td>\n",
       "      <td>-0.009940</td>\n",
       "      <td>-0.008567</td>\n",
       "      <td>0.044123</td>\n",
       "      <td>1.000000</td>\n",
       "      <td>-0.378812</td>\n",
       "      <td>-0.344187</td>\n",
       "      <td>0.386784</td>\n",
       "      <td>-0.213177</td>\n",
       "      <td>-0.096439</td>\n",
       "      <td>0.421741</td>\n",
       "    </tr>\n",
       "    <tr>\n",
       "      <th>exang</th>\n",
       "      <td>0.096801</td>\n",
       "      <td>0.141664</td>\n",
       "      <td>-0.394280</td>\n",
       "      <td>0.067616</td>\n",
       "      <td>0.067023</td>\n",
       "      <td>0.025665</td>\n",
       "      <td>-0.070733</td>\n",
       "      <td>-0.378812</td>\n",
       "      <td>1.000000</td>\n",
       "      <td>0.288223</td>\n",
       "      <td>-0.257748</td>\n",
       "      <td>0.115739</td>\n",
       "      <td>0.206754</td>\n",
       "      <td>-0.436757</td>\n",
       "    </tr>\n",
       "    <tr>\n",
       "      <th>oldpeak</th>\n",
       "      <td>0.210013</td>\n",
       "      <td>0.096093</td>\n",
       "      <td>-0.149230</td>\n",
       "      <td>0.193216</td>\n",
       "      <td>0.053952</td>\n",
       "      <td>0.005747</td>\n",
       "      <td>-0.058770</td>\n",
       "      <td>-0.344187</td>\n",
       "      <td>0.288223</td>\n",
       "      <td>1.000000</td>\n",
       "      <td>-0.577537</td>\n",
       "      <td>0.222682</td>\n",
       "      <td>0.210244</td>\n",
       "      <td>-0.430696</td>\n",
       "    </tr>\n",
       "    <tr>\n",
       "      <th>slope</th>\n",
       "      <td>-0.168814</td>\n",
       "      <td>-0.030711</td>\n",
       "      <td>0.119717</td>\n",
       "      <td>-0.121475</td>\n",
       "      <td>-0.004038</td>\n",
       "      <td>-0.059894</td>\n",
       "      <td>0.093045</td>\n",
       "      <td>0.386784</td>\n",
       "      <td>-0.257748</td>\n",
       "      <td>-0.577537</td>\n",
       "      <td>1.000000</td>\n",
       "      <td>-0.080155</td>\n",
       "      <td>-0.104764</td>\n",
       "      <td>0.345877</td>\n",
       "    </tr>\n",
       "    <tr>\n",
       "      <th>ca</th>\n",
       "      <td>0.276326</td>\n",
       "      <td>0.118261</td>\n",
       "      <td>-0.181053</td>\n",
       "      <td>0.101389</td>\n",
       "      <td>0.070511</td>\n",
       "      <td>0.137979</td>\n",
       "      <td>-0.072042</td>\n",
       "      <td>-0.213177</td>\n",
       "      <td>0.115739</td>\n",
       "      <td>0.222682</td>\n",
       "      <td>-0.080155</td>\n",
       "      <td>1.000000</td>\n",
       "      <td>0.151832</td>\n",
       "      <td>-0.391724</td>\n",
       "    </tr>\n",
       "    <tr>\n",
       "      <th>thal</th>\n",
       "      <td>0.068001</td>\n",
       "      <td>0.210041</td>\n",
       "      <td>-0.161736</td>\n",
       "      <td>0.062210</td>\n",
       "      <td>0.098803</td>\n",
       "      <td>-0.032019</td>\n",
       "      <td>-0.011981</td>\n",
       "      <td>-0.096439</td>\n",
       "      <td>0.206754</td>\n",
       "      <td>0.210244</td>\n",
       "      <td>-0.104764</td>\n",
       "      <td>0.151832</td>\n",
       "      <td>1.000000</td>\n",
       "      <td>-0.344029</td>\n",
       "    </tr>\n",
       "    <tr>\n",
       "      <th>target</th>\n",
       "      <td>-0.225439</td>\n",
       "      <td>-0.280937</td>\n",
       "      <td>0.433798</td>\n",
       "      <td>-0.144931</td>\n",
       "      <td>-0.085239</td>\n",
       "      <td>-0.028046</td>\n",
       "      <td>0.137230</td>\n",
       "      <td>0.421741</td>\n",
       "      <td>-0.436757</td>\n",
       "      <td>-0.430696</td>\n",
       "      <td>0.345877</td>\n",
       "      <td>-0.391724</td>\n",
       "      <td>-0.344029</td>\n",
       "      <td>1.000000</td>\n",
       "    </tr>\n",
       "  </tbody>\n",
       "</table>\n",
       "</div>"
      ],
      "text/plain": [
       "               age       sex        cp  trestbps      chol       fbs  \\\n",
       "age       1.000000 -0.098447 -0.068653  0.279351  0.213678  0.121308   \n",
       "sex      -0.098447  1.000000 -0.049353 -0.056769 -0.197912  0.045032   \n",
       "cp       -0.068653 -0.049353  1.000000  0.047608 -0.076904  0.094444   \n",
       "trestbps  0.279351 -0.056769  0.047608  1.000000  0.123174  0.177531   \n",
       "chol      0.213678 -0.197912 -0.076904  0.123174  1.000000  0.013294   \n",
       "fbs       0.121308  0.045032  0.094444  0.177531  0.013294  1.000000   \n",
       "restecg  -0.116211 -0.058196  0.044421 -0.114103 -0.151040 -0.084189   \n",
       "thalach  -0.398522 -0.044020  0.295762 -0.046698 -0.009940 -0.008567   \n",
       "exang     0.096801  0.141664 -0.394280  0.067616  0.067023  0.025665   \n",
       "oldpeak   0.210013  0.096093 -0.149230  0.193216  0.053952  0.005747   \n",
       "slope    -0.168814 -0.030711  0.119717 -0.121475 -0.004038 -0.059894   \n",
       "ca        0.276326  0.118261 -0.181053  0.101389  0.070511  0.137979   \n",
       "thal      0.068001  0.210041 -0.161736  0.062210  0.098803 -0.032019   \n",
       "target   -0.225439 -0.280937  0.433798 -0.144931 -0.085239 -0.028046   \n",
       "\n",
       "           restecg   thalach     exang   oldpeak     slope        ca  \\\n",
       "age      -0.116211 -0.398522  0.096801  0.210013 -0.168814  0.276326   \n",
       "sex      -0.058196 -0.044020  0.141664  0.096093 -0.030711  0.118261   \n",
       "cp        0.044421  0.295762 -0.394280 -0.149230  0.119717 -0.181053   \n",
       "trestbps -0.114103 -0.046698  0.067616  0.193216 -0.121475  0.101389   \n",
       "chol     -0.151040 -0.009940  0.067023  0.053952 -0.004038  0.070511   \n",
       "fbs      -0.084189 -0.008567  0.025665  0.005747 -0.059894  0.137979   \n",
       "restecg   1.000000  0.044123 -0.070733 -0.058770  0.093045 -0.072042   \n",
       "thalach   0.044123  1.000000 -0.378812 -0.344187  0.386784 -0.213177   \n",
       "exang    -0.070733 -0.378812  1.000000  0.288223 -0.257748  0.115739   \n",
       "oldpeak  -0.058770 -0.344187  0.288223  1.000000 -0.577537  0.222682   \n",
       "slope     0.093045  0.386784 -0.257748 -0.577537  1.000000 -0.080155   \n",
       "ca       -0.072042 -0.213177  0.115739  0.222682 -0.080155  1.000000   \n",
       "thal     -0.011981 -0.096439  0.206754  0.210244 -0.104764  0.151832   \n",
       "target    0.137230  0.421741 -0.436757 -0.430696  0.345877 -0.391724   \n",
       "\n",
       "              thal    target  \n",
       "age       0.068001 -0.225439  \n",
       "sex       0.210041 -0.280937  \n",
       "cp       -0.161736  0.433798  \n",
       "trestbps  0.062210 -0.144931  \n",
       "chol      0.098803 -0.085239  \n",
       "fbs      -0.032019 -0.028046  \n",
       "restecg  -0.011981  0.137230  \n",
       "thalach  -0.096439  0.421741  \n",
       "exang     0.206754 -0.436757  \n",
       "oldpeak   0.210244 -0.430696  \n",
       "slope    -0.104764  0.345877  \n",
       "ca        0.151832 -0.391724  \n",
       "thal      1.000000 -0.344029  \n",
       "target   -0.344029  1.000000  "
      ]
     },
     "execution_count": 15,
     "metadata": {},
     "output_type": "execute_result"
    }
   ],
   "source": [
    "df.corr()"
   ]
  },
  {
   "cell_type": "code",
   "execution_count": 16,
   "id": "stunning-instrumentation",
   "metadata": {},
   "outputs": [
    {
     "data": {
      "image/png": "[encoded data removed]",
      "text/plain": [
       "<Figure size 1080x720 with 2 Axes>"
      ]
     },
     "metadata": {
      "needs_background": "light"
     },
     "output_type": "display_data"
    }
   ],
   "source": [
    "# Let's make our correlation matrix a little prettier (Using seaborns heatmap)\n",
    "corr_matrix = df.corr()\n",
    "fig, ax = plt.subplots(figsize=(15,10))\n",
    "ax = sns.heatmap(corr_matrix, annot=True, linewidths = 0.5, fmt='.2f', cmap='YlGnBu' )"
   ]
  },
  {
   "cell_type": "markdown",
   "id": "affecting-listening",
   "metadata": {},
   "source": [
    "* A higher positive value means a potential positive correlation(As one variable increase, so does the other)\n",
    "* A higher negative value means a potential negative correlation(As on variable increase, the other decreases)"
   ]
  },
  {
   "cell_type": "markdown",
   "id": "humanitarian-taiwan",
   "metadata": {},
   "source": [
    "The correlation between exang and the target column is -0.44.\n",
    "Remember that exang is exercise induced angina (1 = yes; 0 = no).\n",
    "> So this means that, strangely enough, according to the correlation value here, if someone gets chest pain during exercise (exang = 1), their chance of having heart disease goes down (target=0)"
   ]
  },
  {
   "cell_type": "markdown",
   "id": "fiscal-bracelet",
   "metadata": {},
   "source": [
    "What we want to do next is Model-Driven EDA. That means building a ML model to  derive insights as to how the independent variables contribute to the target variable"
   ]
  },
  {
   "cell_type": "markdown",
   "id": "embedded-building",
   "metadata": {},
   "source": [
    "## 5. Modelling"
   ]
  },
  {
   "cell_type": "code",
   "execution_count": 17,
   "id": "modified-child",
   "metadata": {},
   "outputs": [
    {
     "data": {
      "text/html": [
       "<div>\n",
       "<style scoped>\n",
       "    .dataframe tbody tr th:only-of-type {\n",
       "        vertical-align: middle;\n",
       "    }\n",
       "\n",
       "    .dataframe tbody tr th {\n",
       "        vertical-align: top;\n",
       "    }\n",
       "\n",
       "    .dataframe thead th {\n",
       "        text-align: right;\n",
       "    }\n",
       "</style>\n",
       "<table border=\"1\" class=\"dataframe\">\n",
       "  <thead>\n",
       "    <tr style=\"text-align: right;\">\n",
       "      <th></th>\n",
       "      <th>age</th>\n",
       "      <th>sex</th>\n",
       "      <th>cp</th>\n",
       "      <th>trestbps</th>\n",
       "      <th>chol</th>\n",
       "      <th>fbs</th>\n",
       "      <th>restecg</th>\n",
       "      <th>thalach</th>\n",
       "      <th>exang</th>\n",
       "      <th>oldpeak</th>\n",
       "      <th>slope</th>\n",
       "      <th>ca</th>\n",
       "      <th>thal</th>\n",
       "      <th>target</th>\n",
       "    </tr>\n",
       "  </thead>\n",
       "  <tbody>\n",
       "    <tr>\n",
       "      <th>0</th>\n",
       "      <td>63</td>\n",
       "      <td>1</td>\n",
       "      <td>3</td>\n",
       "      <td>145</td>\n",
       "      <td>233</td>\n",
       "      <td>1</td>\n",
       "      <td>0</td>\n",
       "      <td>150</td>\n",
       "      <td>0</td>\n",
       "      <td>2.3</td>\n",
       "      <td>0</td>\n",
       "      <td>0</td>\n",
       "      <td>1</td>\n",
       "      <td>1</td>\n",
       "    </tr>\n",
       "    <tr>\n",
       "      <th>1</th>\n",
       "      <td>37</td>\n",
       "      <td>1</td>\n",
       "      <td>2</td>\n",
       "      <td>130</td>\n",
       "      <td>250</td>\n",
       "      <td>0</td>\n",
       "      <td>1</td>\n",
       "      <td>187</td>\n",
       "      <td>0</td>\n",
       "      <td>3.5</td>\n",
       "      <td>0</td>\n",
       "      <td>0</td>\n",
       "      <td>2</td>\n",
       "      <td>1</td>\n",
       "    </tr>\n",
       "    <tr>\n",
       "      <th>2</th>\n",
       "      <td>41</td>\n",
       "      <td>0</td>\n",
       "      <td>1</td>\n",
       "      <td>130</td>\n",
       "      <td>204</td>\n",
       "      <td>0</td>\n",
       "      <td>0</td>\n",
       "      <td>172</td>\n",
       "      <td>0</td>\n",
       "      <td>1.4</td>\n",
       "      <td>2</td>\n",
       "      <td>0</td>\n",
       "      <td>2</td>\n",
       "      <td>1</td>\n",
       "    </tr>\n",
       "    <tr>\n",
       "      <th>3</th>\n",
       "      <td>56</td>\n",
       "      <td>1</td>\n",
       "      <td>1</td>\n",
       "      <td>120</td>\n",
       "      <td>236</td>\n",
       "      <td>0</td>\n",
       "      <td>1</td>\n",
       "      <td>178</td>\n",
       "      <td>0</td>\n",
       "      <td>0.8</td>\n",
       "      <td>2</td>\n",
       "      <td>0</td>\n",
       "      <td>2</td>\n",
       "      <td>1</td>\n",
       "    </tr>\n",
       "    <tr>\n",
       "      <th>4</th>\n",
       "      <td>57</td>\n",
       "      <td>0</td>\n",
       "      <td>0</td>\n",
       "      <td>120</td>\n",
       "      <td>354</td>\n",
       "      <td>0</td>\n",
       "      <td>1</td>\n",
       "      <td>163</td>\n",
       "      <td>1</td>\n",
       "      <td>0.6</td>\n",
       "      <td>2</td>\n",
       "      <td>0</td>\n",
       "      <td>2</td>\n",
       "      <td>1</td>\n",
       "    </tr>\n",
       "  </tbody>\n",
       "</table>\n",
       "</div>"
      ],
      "text/plain": [
       "   age  sex  cp  trestbps  chol  fbs  restecg  thalach  exang  oldpeak  slope  \\\n",
       "0   63    1   3       145   233    1        0      150      0      2.3      0   \n",
       "1   37    1   2       130   250    0        1      187      0      3.5      0   \n",
       "2   41    0   1       130   204    0        0      172      0      1.4      2   \n",
       "3   56    1   1       120   236    0        1      178      0      0.8      2   \n",
       "4   57    0   0       120   354    0        1      163      1      0.6      2   \n",
       "\n",
       "   ca  thal  target  \n",
       "0   0     1       1  \n",
       "1   0     2       1  \n",
       "2   0     2       1  \n",
       "3   0     2       1  \n",
       "4   0     2       1  "
      ]
     },
     "execution_count": 17,
     "metadata": {},
     "output_type": "execute_result"
    }
   ],
   "source": [
    "df.head()"
   ]
  },
  {
   "cell_type": "code",
   "execution_count": 18,
   "id": "loose-muscle",
   "metadata": {},
   "outputs": [],
   "source": [
    "# Split into X & Y\n",
    "x = df.drop(labels='target', axis=1)\n",
    "y = df.target"
   ]
  },
  {
   "cell_type": "code",
   "execution_count": 19,
   "id": "integrated-apache",
   "metadata": {},
   "outputs": [],
   "source": [
    "# Split into training and test splits\n",
    "np.random.seed(2)\n",
    "x_train, x_test, y_train, y_test = train_test_split(x, y, test_size=0.2)"
   ]
  },
  {
   "cell_type": "code",
   "execution_count": 20,
   "id": "returning-complex",
   "metadata": {},
   "outputs": [
    {
     "data": {
      "text/html": [
       "<div>\n",
       "<style scoped>\n",
       "    .dataframe tbody tr th:only-of-type {\n",
       "        vertical-align: middle;\n",
       "    }\n",
       "\n",
       "    .dataframe tbody tr th {\n",
       "        vertical-align: top;\n",
       "    }\n",
       "\n",
       "    .dataframe thead th {\n",
       "        text-align: right;\n",
       "    }\n",
       "</style>\n",
       "<table border=\"1\" class=\"dataframe\">\n",
       "  <thead>\n",
       "    <tr style=\"text-align: right;\">\n",
       "      <th></th>\n",
       "      <th>age</th>\n",
       "      <th>sex</th>\n",
       "      <th>cp</th>\n",
       "      <th>trestbps</th>\n",
       "      <th>chol</th>\n",
       "      <th>fbs</th>\n",
       "      <th>restecg</th>\n",
       "      <th>thalach</th>\n",
       "      <th>exang</th>\n",
       "      <th>oldpeak</th>\n",
       "      <th>slope</th>\n",
       "      <th>ca</th>\n",
       "      <th>thal</th>\n",
       "    </tr>\n",
       "  </thead>\n",
       "  <tbody>\n",
       "    <tr>\n",
       "      <th>237</th>\n",
       "      <td>60</td>\n",
       "      <td>1</td>\n",
       "      <td>0</td>\n",
       "      <td>140</td>\n",
       "      <td>293</td>\n",
       "      <td>0</td>\n",
       "      <td>0</td>\n",
       "      <td>170</td>\n",
       "      <td>0</td>\n",
       "      <td>1.2</td>\n",
       "      <td>1</td>\n",
       "      <td>2</td>\n",
       "      <td>3</td>\n",
       "    </tr>\n",
       "    <tr>\n",
       "      <th>106</th>\n",
       "      <td>69</td>\n",
       "      <td>1</td>\n",
       "      <td>3</td>\n",
       "      <td>160</td>\n",
       "      <td>234</td>\n",
       "      <td>1</td>\n",
       "      <td>0</td>\n",
       "      <td>131</td>\n",
       "      <td>0</td>\n",
       "      <td>0.1</td>\n",
       "      <td>1</td>\n",
       "      <td>1</td>\n",
       "      <td>2</td>\n",
       "    </tr>\n",
       "    <tr>\n",
       "      <th>10</th>\n",
       "      <td>54</td>\n",
       "      <td>1</td>\n",
       "      <td>0</td>\n",
       "      <td>140</td>\n",
       "      <td>239</td>\n",
       "      <td>0</td>\n",
       "      <td>1</td>\n",
       "      <td>160</td>\n",
       "      <td>0</td>\n",
       "      <td>1.2</td>\n",
       "      <td>2</td>\n",
       "      <td>0</td>\n",
       "      <td>2</td>\n",
       "    </tr>\n",
       "    <tr>\n",
       "      <th>153</th>\n",
       "      <td>66</td>\n",
       "      <td>0</td>\n",
       "      <td>2</td>\n",
       "      <td>146</td>\n",
       "      <td>278</td>\n",
       "      <td>0</td>\n",
       "      <td>0</td>\n",
       "      <td>152</td>\n",
       "      <td>0</td>\n",
       "      <td>0.0</td>\n",
       "      <td>1</td>\n",
       "      <td>1</td>\n",
       "      <td>2</td>\n",
       "    </tr>\n",
       "    <tr>\n",
       "      <th>77</th>\n",
       "      <td>59</td>\n",
       "      <td>1</td>\n",
       "      <td>1</td>\n",
       "      <td>140</td>\n",
       "      <td>221</td>\n",
       "      <td>0</td>\n",
       "      <td>1</td>\n",
       "      <td>164</td>\n",
       "      <td>1</td>\n",
       "      <td>0.0</td>\n",
       "      <td>2</td>\n",
       "      <td>0</td>\n",
       "      <td>2</td>\n",
       "    </tr>\n",
       "    <tr>\n",
       "      <th>...</th>\n",
       "      <td>...</td>\n",
       "      <td>...</td>\n",
       "      <td>...</td>\n",
       "      <td>...</td>\n",
       "      <td>...</td>\n",
       "      <td>...</td>\n",
       "      <td>...</td>\n",
       "      <td>...</td>\n",
       "      <td>...</td>\n",
       "      <td>...</td>\n",
       "      <td>...</td>\n",
       "      <td>...</td>\n",
       "      <td>...</td>\n",
       "    </tr>\n",
       "    <tr>\n",
       "      <th>75</th>\n",
       "      <td>55</td>\n",
       "      <td>0</td>\n",
       "      <td>1</td>\n",
       "      <td>135</td>\n",
       "      <td>250</td>\n",
       "      <td>0</td>\n",
       "      <td>0</td>\n",
       "      <td>161</td>\n",
       "      <td>0</td>\n",
       "      <td>1.4</td>\n",
       "      <td>1</td>\n",
       "      <td>0</td>\n",
       "      <td>2</td>\n",
       "    </tr>\n",
       "    <tr>\n",
       "      <th>22</th>\n",
       "      <td>42</td>\n",
       "      <td>1</td>\n",
       "      <td>0</td>\n",
       "      <td>140</td>\n",
       "      <td>226</td>\n",
       "      <td>0</td>\n",
       "      <td>1</td>\n",
       "      <td>178</td>\n",
       "      <td>0</td>\n",
       "      <td>0.0</td>\n",
       "      <td>2</td>\n",
       "      <td>0</td>\n",
       "      <td>2</td>\n",
       "    </tr>\n",
       "    <tr>\n",
       "      <th>72</th>\n",
       "      <td>29</td>\n",
       "      <td>1</td>\n",
       "      <td>1</td>\n",
       "      <td>130</td>\n",
       "      <td>204</td>\n",
       "      <td>0</td>\n",
       "      <td>0</td>\n",
       "      <td>202</td>\n",
       "      <td>0</td>\n",
       "      <td>0.0</td>\n",
       "      <td>2</td>\n",
       "      <td>0</td>\n",
       "      <td>2</td>\n",
       "    </tr>\n",
       "    <tr>\n",
       "      <th>15</th>\n",
       "      <td>50</td>\n",
       "      <td>0</td>\n",
       "      <td>2</td>\n",
       "      <td>120</td>\n",
       "      <td>219</td>\n",
       "      <td>0</td>\n",
       "      <td>1</td>\n",
       "      <td>158</td>\n",
       "      <td>0</td>\n",
       "      <td>1.6</td>\n",
       "      <td>1</td>\n",
       "      <td>0</td>\n",
       "      <td>2</td>\n",
       "    </tr>\n",
       "    <tr>\n",
       "      <th>168</th>\n",
       "      <td>63</td>\n",
       "      <td>1</td>\n",
       "      <td>0</td>\n",
       "      <td>130</td>\n",
       "      <td>254</td>\n",
       "      <td>0</td>\n",
       "      <td>0</td>\n",
       "      <td>147</td>\n",
       "      <td>0</td>\n",
       "      <td>1.4</td>\n",
       "      <td>1</td>\n",
       "      <td>1</td>\n",
       "      <td>3</td>\n",
       "    </tr>\n",
       "  </tbody>\n",
       "</table>\n",
       "<p>242 rows × 13 columns</p>\n",
       "</div>"
      ],
      "text/plain": [
       "     age  sex  cp  trestbps  chol  fbs  restecg  thalach  exang  oldpeak  \\\n",
       "237   60    1   0       140   293    0        0      170      0      1.2   \n",
       "106   69    1   3       160   234    1        0      131      0      0.1   \n",
       "10    54    1   0       140   239    0        1      160      0      1.2   \n",
       "153   66    0   2       146   278    0        0      152      0      0.0   \n",
       "77    59    1   1       140   221    0        1      164      1      0.0   \n",
       "..   ...  ...  ..       ...   ...  ...      ...      ...    ...      ...   \n",
       "75    55    0   1       135   250    0        0      161      0      1.4   \n",
       "22    42    1   0       140   226    0        1      178      0      0.0   \n",
       "72    29    1   1       130   204    0        0      202      0      0.0   \n",
       "15    50    0   2       120   219    0        1      158      0      1.6   \n",
       "168   63    1   0       130   254    0        0      147      0      1.4   \n",
       "\n",
       "     slope  ca  thal  \n",
       "237      1   2     3  \n",
       "106      1   1     2  \n",
       "10       2   0     2  \n",
       "153      1   1     2  \n",
       "77       2   0     2  \n",
       "..     ...  ..   ...  \n",
       "75       1   0     2  \n",
       "22       2   0     2  \n",
       "72       2   0     2  \n",
       "15       1   0     2  \n",
       "168      1   1     3  \n",
       "\n",
       "[242 rows x 13 columns]"
      ]
     },
     "execution_count": 20,
     "metadata": {},
     "output_type": "execute_result"
    }
   ],
   "source": [
    "x_train"
   ]
  },
  {
   "cell_type": "code",
   "execution_count": 21,
   "id": "banned-china",
   "metadata": {},
   "outputs": [
    {
     "data": {
      "text/plain": [
       "237    0\n",
       "106    1\n",
       "10     1\n",
       "153    1\n",
       "77     1\n",
       "      ..\n",
       "75     1\n",
       "22     1\n",
       "72     1\n",
       "15     1\n",
       "168    0\n",
       "Name: target, Length: 242, dtype: int64"
      ]
     },
     "execution_count": 21,
     "metadata": {},
     "output_type": "execute_result"
    }
   ],
   "source": [
    "y_train"
   ]
  },
  {
   "cell_type": "markdown",
   "id": "polish-status",
   "metadata": {},
   "source": [
    "Now we've got our data split into training and test sets, It's time to build a machine learning model.\n",
    "\n",
    "We'll train it (find the patterns) on the training set\n",
    "\n",
    "And we'll test it (use the patterns) on the test set"
   ]
  },
  {
   "cell_type": "markdown",
   "id": "floppy-passing",
   "metadata": {},
   "source": [
    "We're going to try three different machine learning models\n",
    "1. Logistic Regression\n",
    "2. K-Nearest Neighbors Classifier\n",
    "3. Random Forest Classifier"
   ]
  },
  {
   "cell_type": "markdown",
   "id": "clinical-force",
   "metadata": {},
   "source": [
    "Logistic Regression isn't in the machine learning map, and ironically, it's name might mean that its a Regression model, but it's actually for Classification. \n",
    "\n",
    ">There's so many ways to do machine learning, alot of it is just searching for the optimal solution for your problem.\n",
    "* While Logistic Regression wasn't on the map, Googling \"Sci-kit learn machine learning models for classification problems would easily bring up Logistic Regression in at least one of the pages.\n",
    "* Models not being on the map shows just how 'all over the place' data science can be, but i think it shows just how much experimentation can really happen. It shows how many possibilities are actually there for all aspects of the practice"
   ]
  },
  {
   "cell_type": "code",
   "execution_count": 22,
   "id": "pediatric-grade",
   "metadata": {},
   "outputs": [],
   "source": [
    "# Put models in a dictionary so we can run all models from a function\n",
    "models = { 'Logistic Regression' : LogisticRegression(),\n",
    "           'K-Nearest Neighbors' : KNeighborsClassifier(),\n",
    "           'Random Forest' : RandomForestClassifier()}\n",
    "\n",
    "#Create a function to fit and score our model\n",
    "\n",
    "def fit_and_score(models, x_train, x_test, y_train, y_test):\n",
    "    '''\n",
    "    Fits and Evaluates given machine learning models.\n",
    "    models: a dict of different sklearn ML models\n",
    "    x_train : training data (no labels)\n",
    "    x_test : testing data (no labels)\n",
    "    y_train : training labels\n",
    "    y_test : testing labels\n",
    "    '''\n",
    "    #Set random seed\n",
    "    np.random.seed(43)\n",
    "    # Make a dictionary to keep model scores\n",
    "    model_scores = {}\n",
    "    # Loop through models\n",
    "    for name, model in models.items():\n",
    "        # Fit the model to the data\n",
    "        model.fit(x_train, y_train)\n",
    "        # Evaluate the model and append its score to model_scores\n",
    "        model_scores[name] = model.score(x_test, y_test)\n",
    "    return model_scores"
   ]
  },
  {
   "cell_type": "code",
   "execution_count": 23,
   "id": "plain-spelling",
   "metadata": {},
   "outputs": [
    {
     "name": "stderr",
     "output_type": "stream",
     "text": [
      "C:\\Users\\Armani\\AppData\\Roaming\\Python\\Python39\\site-packages\\sklearn\\linear_model\\_logistic.py:763: ConvergenceWarning: lbfgs failed to converge (status=1):\n",
      "STOP: TOTAL NO. of ITERATIONS REACHED LIMIT.\n",
      "\n",
      "Increase the number of iterations (max_iter) or scale the data as shown in:\n",
      "    https://scikit-learn.org/stable/modules/preprocessing.html\n",
      "Please also refer to the documentation for alternative solver options:\n",
      "    https://scikit-learn.org/stable/modules/linear_model.html#logistic-regression\n",
      "  n_iter_i = _check_optimize_result(\n"
     ]
    },
    {
     "data": {
      "text/plain": [
       "{'Logistic Regression': 0.9016393442622951,\n",
       " 'K-Nearest Neighbors': 0.7049180327868853,\n",
       " 'Random Forest': 0.8688524590163934}"
      ]
     },
     "execution_count": 23,
     "metadata": {},
     "output_type": "execute_result"
    }
   ],
   "source": [
    "modelius = fit_and_score(models, x_train, x_test, y_train, y_test)\n",
    "modelius"
   ]
  },
  {
   "cell_type": "markdown",
   "id": "spare-concern",
   "metadata": {},
   "source": [
    "## Model Comparison"
   ]
  },
  {
   "cell_type": "code",
   "execution_count": 24,
   "id": "outdoor-heart",
   "metadata": {},
   "outputs": [
    {
     "data": {
      "image/png": "[encoded data removed]",
      "text/plain": [
       "<Figure size 432x288 with 1 Axes>"
      ]
     },
     "metadata": {
      "needs_background": "light"
     },
     "output_type": "display_data"
    }
   ],
   "source": [
    "model_compare = pd.DataFrame(modelius, index = ['accuracy'])\n",
    "model_compare.T.plot.bar()\n",
    "plt.show()"
   ]
  },
  {
   "cell_type": "code",
   "execution_count": 25,
   "id": "loved-aging",
   "metadata": {},
   "outputs": [
    {
     "data": {
      "text/html": [
       "<div>\n",
       "<style scoped>\n",
       "    .dataframe tbody tr th:only-of-type {\n",
       "        vertical-align: middle;\n",
       "    }\n",
       "\n",
       "    .dataframe tbody tr th {\n",
       "        vertical-align: top;\n",
       "    }\n",
       "\n",
       "    .dataframe thead th {\n",
       "        text-align: right;\n",
       "    }\n",
       "</style>\n",
       "<table border=\"1\" class=\"dataframe\">\n",
       "  <thead>\n",
       "    <tr style=\"text-align: right;\">\n",
       "      <th></th>\n",
       "      <th>Logistic Regression</th>\n",
       "      <th>K-Nearest Neighbors</th>\n",
       "      <th>Random Forest</th>\n",
       "    </tr>\n",
       "  </thead>\n",
       "  <tbody>\n",
       "    <tr>\n",
       "      <th>accuracy</th>\n",
       "      <td>0.901639</td>\n",
       "      <td>0.704918</td>\n",
       "      <td>0.868852</td>\n",
       "    </tr>\n",
       "  </tbody>\n",
       "</table>\n",
       "</div>"
      ],
      "text/plain": [
       "          Logistic Regression  K-Nearest Neighbors  Random Forest\n",
       "accuracy             0.901639             0.704918       0.868852"
      ]
     },
     "execution_count": 25,
     "metadata": {},
     "output_type": "execute_result"
    }
   ],
   "source": [
    "model_compare"
   ]
  },
  {
   "cell_type": "markdown",
   "id": "million-exclusive",
   "metadata": {},
   "source": [
    "Now we've got a baseline model, and we know a model's first predictions aren't what we should base our next step on\n",
    "We should look at:\n",
    "* Hyper-Parameter Tuning\n",
    "* Feature Importance\n",
    "* Confusion Matrix\n",
    "* Cross Validation\n",
    "* Precision\n",
    "* Recall\n",
    "* F1 score\n",
    "* Classification Report\n",
    "* ROC Curve\n",
    "* Area under the curve (AUC)"
   ]
  },
  {
   "cell_type": "markdown",
   "id": "federal-prior",
   "metadata": {},
   "source": [
    " The first two points are things you will be working on as long a you're working on building a machine learning model.\n",
    " \n",
    "The other ones are more ulitilized here because we're training a classification ML model"
   ]
  },
  {
   "cell_type": "markdown",
   "id": "frank-humor",
   "metadata": {},
   "source": [
    "So here we will try to tune our model so it performs well, and also doesnt overfit our data.\n",
    "\n",
    "We're aiming to create a model that works well on unseen examples"
   ]
  },
  {
   "cell_type": "markdown",
   "id": "instrumental-boutique",
   "metadata": {},
   "source": [
    "Even though our KNN model performed the worse, let's try tuning it. "
   ]
  },
  {
   "cell_type": "markdown",
   "id": "ready-speech",
   "metadata": {},
   "source": [
    "So how would we start? Well obviously with a google search silly!"
   ]
  },
  {
   "cell_type": "markdown",
   "id": "matched-belief",
   "metadata": {},
   "source": [
    "## Hyperparameter tuning by hand"
   ]
  },
  {
   "cell_type": "code",
   "execution_count": 26,
   "id": "threatened-david",
   "metadata": {},
   "outputs": [],
   "source": [
    "# Let's tune KNN\n",
    "train_scores = []\n",
    "test_scores = []\n",
    "\n",
    "# Create a list of different values for n_neighbors\n",
    "neighbors = range(1, 21)\n",
    "\n",
    "# Setup KNN instance\n",
    "knn = KNeighborsClassifier()\n",
    "\n",
    "# Loop through different n_neighbors\n",
    "for i in neighbors:\n",
    "    knn.set_params(n_neighbors=i)\n",
    "    # Fit the algorithm\n",
    "    knn.fit(x_train, y_train)\n",
    "    # Update the training scores list\n",
    "    train_scores.append(knn.score(x_train, y_train))\n",
    "    # Updqte the test scores list\n",
    "    test_scores.append(knn.score(x_test, y_test))"
   ]
  },
  {
   "cell_type": "code",
   "execution_count": 27,
   "id": "indian-friday",
   "metadata": {},
   "outputs": [
    {
     "data": {
      "text/plain": [
       "[0.6065573770491803,\n",
       " 0.639344262295082,\n",
       " 0.7213114754098361,\n",
       " 0.7213114754098361,\n",
       " 0.7049180327868853,\n",
       " 0.7049180327868853,\n",
       " 0.7377049180327869,\n",
       " 0.7377049180327869,\n",
       " 0.6885245901639344,\n",
       " 0.7213114754098361,\n",
       " 0.6557377049180327,\n",
       " 0.6557377049180327,\n",
       " 0.6557377049180327,\n",
       " 0.6885245901639344,\n",
       " 0.7049180327868853,\n",
       " 0.6885245901639344,\n",
       " 0.7213114754098361,\n",
       " 0.7540983606557377,\n",
       " 0.7540983606557377,\n",
       " 0.7704918032786885]"
      ]
     },
     "execution_count": 27,
     "metadata": {},
     "output_type": "execute_result"
    }
   ],
   "source": [
    "test_scores"
   ]
  },
  {
   "cell_type": "code",
   "execution_count": 28,
   "id": "intermediate-sensitivity",
   "metadata": {},
   "outputs": [
    {
     "data": {
      "text/plain": [
       "[1.0,\n",
       " 0.7892561983471075,\n",
       " 0.7396694214876033,\n",
       " 0.7355371900826446,\n",
       " 0.7396694214876033,\n",
       " 0.7396694214876033,\n",
       " 0.7231404958677686,\n",
       " 0.7107438016528925,\n",
       " 0.7066115702479339,\n",
       " 0.6900826446280992,\n",
       " 0.7107438016528925,\n",
       " 0.6983471074380165,\n",
       " 0.7066115702479339,\n",
       " 0.7024793388429752,\n",
       " 0.6859504132231405,\n",
       " 0.6735537190082644,\n",
       " 0.6900826446280992,\n",
       " 0.6735537190082644,\n",
       " 0.6818181818181818,\n",
       " 0.6735537190082644]"
      ]
     },
     "execution_count": 28,
     "metadata": {},
     "output_type": "execute_result"
    }
   ],
   "source": [
    "train_scores"
   ]
  },
  {
   "cell_type": "code",
   "execution_count": 29,
   "id": "italian-orlando",
   "metadata": {},
   "outputs": [
    {
     "name": "stdout",
     "output_type": "stream",
     "text": [
      "Maximum KNN score on the test data: 77.049180%\n"
     ]
    },
    {
     "data": {
      "image/png": "[encoded data removed]",
      "text/plain": [
       "<Figure size 432x288 with 1 Axes>"
      ]
     },
     "metadata": {
      "needs_background": "light"
     },
     "output_type": "display_data"
    }
   ],
   "source": [
    "plt.plot(neighbors, train_scores, label='train_score')\n",
    "plt.plot(neighbors, test_scores, label='test scores')\n",
    "plt.xticks(np.arange(1, 21, 1))#Puts a list of 1 to 21 with intervals of 1 on the x axi\n",
    "plt.xlabel('Number of Neighbors')\n",
    "plt.ylabel('Model Score')\n",
    "plt.grid()\n",
    "plt.legend()\n",
    "print(f'Maximum KNN score on the test data: {max(test_scores)*100:2f}%')"
   ]
  },
  {
   "cell_type": "markdown",
   "id": "employed-portland",
   "metadata": {},
   "source": [
    "So we can say that a value of 20 neighbors yields 77% accuracy,. which is the best score."
   ]
  },
  {
   "cell_type": "markdown",
   "id": "renewable-southwest",
   "metadata": {},
   "source": [
    "So this is the nail in the coffin for our experimenting phase with the KNN model right here,  we've improved the model but it still isn't near what our Logisitc Regression or Random orest models' results"
   ]
  },
  {
   "cell_type": "markdown",
   "id": "covered-rwanda",
   "metadata": {},
   "source": [
    "This a good part of the experimentation phase here. Now we're finding out what aspects of the models would work and wouldn't work"
   ]
  },
  {
   "cell_type": "markdown",
   "id": "demographic-sandwich",
   "metadata": {},
   "source": [
    "We want to work through our models in this way. Wher we locate the best parameters with a google search and then tweak them. \n",
    "*It should be known however that tweaking them via one by one isnt efficicent. Next, we'll use RandomizedSearchCV"
   ]
  },
  {
   "cell_type": "markdown",
   "id": "missing-breach",
   "metadata": {},
   "source": [
    "## Hyperparameter tuning with RandomizedSearchCV\n",
    "We're going to tune\n",
    "* Logistic Regression()\n",
    "* Random Forest Classifier()\n",
    "\n",
    "... using RandomizedSearchCV"
   ]
  },
  {
   "cell_type": "code",
   "execution_count": 30,
   "id": "activated-switch",
   "metadata": {},
   "outputs": [],
   "source": [
    "Loji = LogisticRegression()"
   ]
  },
  {
   "cell_type": "code",
   "execution_count": 31,
   "id": "wireless-extraction",
   "metadata": {},
   "outputs": [],
   "source": [
    "# Create a hyperparameter grid for Logistic Regression\n",
    "log_reg_grid = { 'C' : np.logspace(-4, 4, 20),\n",
    "                'solver' : ['liblinear'],\n",
    "                'penalty' : ['l1', 'l2']}\n",
    "# Create a hyperparameter grid for RandomForestClassifier\n",
    "rf_grid = {'n_estimators': np.arange(100, 1000, 50 ),\n",
    "           'max_depth' : [None, 3, 5, 10],\n",
    "           'min_samples_split' : np.arange(2, 20, 2),\n",
    "           'min_samples_leaf' : np.arange(1, 20, 2)}"
   ]
  },
  {
   "cell_type": "markdown",
   "id": "static-butter",
   "metadata": {},
   "source": [
    "Now we've got hyperparameter grids set up for each of our models, let's tune them using RandomizedSearchCv"
   ]
  },
  {
   "cell_type": "code",
   "execution_count": 32,
   "id": "express-renewal",
   "metadata": {},
   "outputs": [
    {
     "name": "stdout",
     "output_type": "stream",
     "text": [
      "Fitting 10 folds for each of 20 candidates, totalling 200 fits\n"
     ]
    },
    {
     "data": {
      "text/plain": [
       "RandomizedSearchCV(cv=10, estimator=LogisticRegression(), n_iter=20,\n",
       "                   param_distributions={'C': array([1.00000000e-04, 2.63665090e-04, 6.95192796e-04, 1.83298071e-03,\n",
       "       4.83293024e-03, 1.27427499e-02, 3.35981829e-02, 8.85866790e-02,\n",
       "       2.33572147e-01, 6.15848211e-01, 1.62377674e+00, 4.28133240e+00,\n",
       "       1.12883789e+01, 2.97635144e+01, 7.84759970e+01, 2.06913808e+02,\n",
       "       5.45559478e+02, 1.43844989e+03, 3.79269019e+03, 1.00000000e+04]),\n",
       "                                        'penalty': ['l1', 'l2'],\n",
       "                                        'solver': ['liblinear']},\n",
       "                   verbose=True)"
      ]
     },
     "execution_count": 32,
     "metadata": {},
     "output_type": "execute_result"
    }
   ],
   "source": [
    "# Tune Logistic Regresssion\n",
    "\n",
    "#Set up random seed so we have reproducible results\n",
    "np.random.seed(2)\n",
    "\n",
    "# Setup random hyperparameter search for Logistic Regression\n",
    "rs_log_reg = RandomizedSearchCV(LogisticRegression(), \n",
    "                                param_distributions=log_reg_grid, \n",
    "                                cv = 10, #How much cross validations\n",
    "                                n_iter=20, # How much comibinations of params\n",
    "                                verbose=True) # Send output while processing\n",
    "\n",
    "# Fit random hyperparameter search model for Logistic Regression\n",
    "rs_log_reg.fit(x_train, y_train)"
   ]
  },
  {
   "cell_type": "code",
   "execution_count": 20,
   "id": "filled-effort",
   "metadata": {},
   "outputs": [
    {
     "data": {
      "text/plain": [
       "{'solver': 'liblinear', 'penalty': 'l2', 'C': 0.23357214690901212}"
      ]
     },
     "execution_count": 19,
     "metadata": {},
     "output_type": "execute_result"
    }
   ],
   "source": [
    "rs_log_reg.best_params_"
   ]
  },
  {
   "cell_type": "code",
   "execution_count": 44,
   "id": "internal-affair",
   "metadata": {},
   "outputs": [
    {
     "data": {
      "text/plain": [
       "0.9180327868852459"
      ]
     },
     "execution_count": 44,
     "metadata": {},
     "output_type": "execute_result"
    }
   ],
   "source": [
    "rs_log_reg.score(x_test, y_test)"
   ]
  },
  {
   "cell_type": "markdown",
   "id": "therapeutic-hybrid",
   "metadata": {},
   "source": [
    "We have tuned our Logistic Regression model byt we've barely seen any real improvement. \n",
    "* The baseline model is 90% while our tuned result is 91%"
   ]
  },
  {
   "cell_type": "markdown",
   "id": "unlimited-highway",
   "metadata": {},
   "source": [
    "Interesting. The baseline model clearly performs well. Let's do RandomForestCLassifier"
   ]
  },
  {
   "cell_type": "code",
   "execution_count": 45,
   "id": "helpful-lobby",
   "metadata": {
    "scrolled": true
   },
   "outputs": [
    {
     "name": "stdout",
     "output_type": "stream",
     "text": [
      "Fitting 10 folds for each of 20 candidates, totalling 200 fits\n",
      "[CV] END max_depth=10, min_samples_leaf=13, min_samples_split=16, n_estimators=350; total time=   0.3s\n",
      "[CV] END max_depth=10, min_samples_leaf=13, min_samples_split=16, n_estimators=350; total time=   0.3s\n",
      "[CV] END max_depth=10, min_samples_leaf=13, min_samples_split=16, n_estimators=350; total time=   0.3s\n",
      "[CV] END max_depth=10, min_samples_leaf=13, min_samples_split=16, n_estimators=350; total time=   0.3s\n",
      "[CV] END max_depth=10, min_samples_leaf=13, min_samples_split=16, n_estimators=350; total time=   0.3s\n",
      "[CV] END max_depth=10, min_samples_leaf=13, min_samples_split=16, n_estimators=350; total time=   0.3s\n",
      "[CV] END max_depth=10, min_samples_leaf=13, min_samples_split=16, n_estimators=350; total time=   0.3s\n",
      "[CV] END max_depth=10, min_samples_leaf=13, min_samples_split=16, n_estimators=350; total time=   0.3s\n",
      "[CV] END max_depth=10, min_samples_leaf=13, min_samples_split=16, n_estimators=350; total time=   0.3s\n",
      "[CV] END max_depth=10, min_samples_leaf=13, min_samples_split=16, n_estimators=350; total time=   0.3s\n",
      "[CV] END max_depth=10, min_samples_leaf=11, min_samples_split=14, n_estimators=550; total time=   0.5s\n",
      "[CV] END max_depth=10, min_samples_leaf=11, min_samples_split=14, n_estimators=550; total time=   0.5s\n",
      "[CV] END max_depth=10, min_samples_leaf=11, min_samples_split=14, n_estimators=550; total time=   0.5s\n",
      "[CV] END max_depth=10, min_samples_leaf=11, min_samples_split=14, n_estimators=550; total time=   0.5s\n",
      "[CV] END max_depth=10, min_samples_leaf=11, min_samples_split=14, n_estimators=550; total time=   0.5s\n",
      "[CV] END max_depth=10, min_samples_leaf=11, min_samples_split=14, n_estimators=550; total time=   0.5s\n",
      "[CV] END max_depth=10, min_samples_leaf=11, min_samples_split=14, n_estimators=550; total time=   0.5s\n",
      "[CV] END max_depth=10, min_samples_leaf=11, min_samples_split=14, n_estimators=550; total time=   0.5s\n",
      "[CV] END max_depth=10, min_samples_leaf=11, min_samples_split=14, n_estimators=550; total time=   0.5s\n",
      "[CV] END max_depth=10, min_samples_leaf=11, min_samples_split=14, n_estimators=550; total time=   0.5s\n",
      "[CV] END max_depth=None, min_samples_leaf=17, min_samples_split=14, n_estimators=600; total time=   0.5s\n",
      "[CV] END max_depth=None, min_samples_leaf=17, min_samples_split=14, n_estimators=600; total time=   0.5s\n",
      "[CV] END max_depth=None, min_samples_leaf=17, min_samples_split=14, n_estimators=600; total time=   0.5s\n",
      "[CV] END max_depth=None, min_samples_leaf=17, min_samples_split=14, n_estimators=600; total time=   0.5s\n",
      "[CV] END max_depth=None, min_samples_leaf=17, min_samples_split=14, n_estimators=600; total time=   0.5s\n",
      "[CV] END max_depth=None, min_samples_leaf=17, min_samples_split=14, n_estimators=600; total time=   0.5s\n",
      "[CV] END max_depth=None, min_samples_leaf=17, min_samples_split=14, n_estimators=600; total time=   0.5s\n",
      "[CV] END max_depth=None, min_samples_leaf=17, min_samples_split=14, n_estimators=600; total time=   0.5s\n",
      "[CV] END max_depth=None, min_samples_leaf=17, min_samples_split=14, n_estimators=600; total time=   0.5s\n",
      "[CV] END max_depth=None, min_samples_leaf=17, min_samples_split=14, n_estimators=600; total time=   0.5s\n",
      "[CV] END max_depth=5, min_samples_leaf=1, min_samples_split=10, n_estimators=750; total time=   0.7s\n",
      "[CV] END max_depth=5, min_samples_leaf=1, min_samples_split=10, n_estimators=750; total time=   0.7s\n",
      "[CV] END max_depth=5, min_samples_leaf=1, min_samples_split=10, n_estimators=750; total time=   0.7s\n",
      "[CV] END max_depth=5, min_samples_leaf=1, min_samples_split=10, n_estimators=750; total time=   0.7s\n",
      "[CV] END max_depth=5, min_samples_leaf=1, min_samples_split=10, n_estimators=750; total time=   0.8s\n",
      "[CV] END max_depth=5, min_samples_leaf=1, min_samples_split=10, n_estimators=750; total time=   0.7s\n",
      "[CV] END max_depth=5, min_samples_leaf=1, min_samples_split=10, n_estimators=750; total time=   0.7s\n",
      "[CV] END max_depth=5, min_samples_leaf=1, min_samples_split=10, n_estimators=750; total time=   0.7s\n",
      "[CV] END max_depth=5, min_samples_leaf=1, min_samples_split=10, n_estimators=750; total time=   0.7s\n",
      "[CV] END max_depth=5, min_samples_leaf=1, min_samples_split=10, n_estimators=750; total time=   0.7s\n",
      "[CV] END max_depth=5, min_samples_leaf=5, min_samples_split=18, n_estimators=400; total time=   0.3s\n",
      "[CV] END max_depth=5, min_samples_leaf=5, min_samples_split=18, n_estimators=400; total time=   0.4s\n",
      "[CV] END max_depth=5, min_samples_leaf=5, min_samples_split=18, n_estimators=400; total time=   0.3s\n",
      "[CV] END max_depth=5, min_samples_leaf=5, min_samples_split=18, n_estimators=400; total time=   0.3s\n",
      "[CV] END max_depth=5, min_samples_leaf=5, min_samples_split=18, n_estimators=400; total time=   0.3s\n",
      "[CV] END max_depth=5, min_samples_leaf=5, min_samples_split=18, n_estimators=400; total time=   0.3s\n",
      "[CV] END max_depth=5, min_samples_leaf=5, min_samples_split=18, n_estimators=400; total time=   0.3s\n",
      "[CV] END max_depth=5, min_samples_leaf=5, min_samples_split=18, n_estimators=400; total time=   0.3s\n",
      "[CV] END max_depth=5, min_samples_leaf=5, min_samples_split=18, n_estimators=400; total time=   0.3s\n",
      "[CV] END max_depth=5, min_samples_leaf=5, min_samples_split=18, n_estimators=400; total time=   0.3s\n",
      "[CV] END max_depth=None, min_samples_leaf=15, min_samples_split=18, n_estimators=350; total time=   0.3s\n",
      "[CV] END max_depth=None, min_samples_leaf=15, min_samples_split=18, n_estimators=350; total time=   0.3s\n",
      "[CV] END max_depth=None, min_samples_leaf=15, min_samples_split=18, n_estimators=350; total time=   0.3s\n",
      "[CV] END max_depth=None, min_samples_leaf=15, min_samples_split=18, n_estimators=350; total time=   0.3s\n",
      "[CV] END max_depth=None, min_samples_leaf=15, min_samples_split=18, n_estimators=350; total time=   0.3s\n",
      "[CV] END max_depth=None, min_samples_leaf=15, min_samples_split=18, n_estimators=350; total time=   0.3s\n",
      "[CV] END max_depth=None, min_samples_leaf=15, min_samples_split=18, n_estimators=350; total time=   0.3s\n",
      "[CV] END max_depth=None, min_samples_leaf=15, min_samples_split=18, n_estimators=350; total time=   0.3s\n",
      "[CV] END max_depth=None, min_samples_leaf=15, min_samples_split=18, n_estimators=350; total time=   0.3s\n",
      "[CV] END max_depth=None, min_samples_leaf=15, min_samples_split=18, n_estimators=350; total time=   0.3s\n",
      "[CV] END max_depth=10, min_samples_leaf=15, min_samples_split=10, n_estimators=950; total time=   1.1s\n",
      "[CV] END max_depth=10, min_samples_leaf=15, min_samples_split=10, n_estimators=950; total time=   1.0s\n",
      "[CV] END max_depth=10, min_samples_leaf=15, min_samples_split=10, n_estimators=950; total time=   1.0s\n",
      "[CV] END max_depth=10, min_samples_leaf=15, min_samples_split=10, n_estimators=950; total time=   1.0s\n",
      "[CV] END max_depth=10, min_samples_leaf=15, min_samples_split=10, n_estimators=950; total time=   1.0s\n",
      "[CV] END max_depth=10, min_samples_leaf=15, min_samples_split=10, n_estimators=950; total time=   0.9s\n",
      "[CV] END max_depth=10, min_samples_leaf=15, min_samples_split=10, n_estimators=950; total time=   0.9s\n",
      "[CV] END max_depth=10, min_samples_leaf=15, min_samples_split=10, n_estimators=950; total time=   1.0s\n",
      "[CV] END max_depth=10, min_samples_leaf=15, min_samples_split=10, n_estimators=950; total time=   1.0s\n",
      "[CV] END max_depth=10, min_samples_leaf=15, min_samples_split=10, n_estimators=950; total time=   0.9s\n",
      "[CV] END max_depth=5, min_samples_leaf=9, min_samples_split=4, n_estimators=600; total time=   0.5s\n",
      "[CV] END max_depth=5, min_samples_leaf=9, min_samples_split=4, n_estimators=600; total time=   0.5s\n",
      "[CV] END max_depth=5, min_samples_leaf=9, min_samples_split=4, n_estimators=600; total time=   0.5s\n",
      "[CV] END max_depth=5, min_samples_leaf=9, min_samples_split=4, n_estimators=600; total time=   0.5s\n",
      "[CV] END max_depth=5, min_samples_leaf=9, min_samples_split=4, n_estimators=600; total time=   0.5s\n",
      "[CV] END max_depth=5, min_samples_leaf=9, min_samples_split=4, n_estimators=600; total time=   0.6s\n",
      "[CV] END max_depth=5, min_samples_leaf=9, min_samples_split=4, n_estimators=600; total time=   0.6s\n",
      "[CV] END max_depth=5, min_samples_leaf=9, min_samples_split=4, n_estimators=600; total time=   0.6s\n",
      "[CV] END max_depth=5, min_samples_leaf=9, min_samples_split=4, n_estimators=600; total time=   0.6s\n",
      "[CV] END max_depth=5, min_samples_leaf=9, min_samples_split=4, n_estimators=600; total time=   0.6s\n",
      "[CV] END max_depth=5, min_samples_leaf=15, min_samples_split=18, n_estimators=600; total time=   0.6s\n",
      "[CV] END max_depth=5, min_samples_leaf=15, min_samples_split=18, n_estimators=600; total time=   0.5s\n",
      "[CV] END max_depth=5, min_samples_leaf=15, min_samples_split=18, n_estimators=600; total time=   0.5s\n",
      "[CV] END max_depth=5, min_samples_leaf=15, min_samples_split=18, n_estimators=600; total time=   0.5s\n",
      "[CV] END max_depth=5, min_samples_leaf=15, min_samples_split=18, n_estimators=600; total time=   0.5s\n",
      "[CV] END max_depth=5, min_samples_leaf=15, min_samples_split=18, n_estimators=600; total time=   0.5s\n",
      "[CV] END max_depth=5, min_samples_leaf=15, min_samples_split=18, n_estimators=600; total time=   0.5s\n",
      "[CV] END max_depth=5, min_samples_leaf=15, min_samples_split=18, n_estimators=600; total time=   0.6s\n",
      "[CV] END max_depth=5, min_samples_leaf=15, min_samples_split=18, n_estimators=600; total time=   0.6s\n",
      "[CV] END max_depth=5, min_samples_leaf=15, min_samples_split=18, n_estimators=600; total time=   0.6s\n",
      "[CV] END max_depth=None, min_samples_leaf=3, min_samples_split=14, n_estimators=500; total time=   0.5s\n",
      "[CV] END max_depth=None, min_samples_leaf=3, min_samples_split=14, n_estimators=500; total time=   0.4s\n",
      "[CV] END max_depth=None, min_samples_leaf=3, min_samples_split=14, n_estimators=500; total time=   0.4s\n",
      "[CV] END max_depth=None, min_samples_leaf=3, min_samples_split=14, n_estimators=500; total time=   0.4s\n",
      "[CV] END max_depth=None, min_samples_leaf=3, min_samples_split=14, n_estimators=500; total time=   0.4s\n",
      "[CV] END max_depth=None, min_samples_leaf=3, min_samples_split=14, n_estimators=500; total time=   0.5s\n",
      "[CV] END max_depth=None, min_samples_leaf=3, min_samples_split=14, n_estimators=500; total time=   0.5s\n",
      "[CV] END max_depth=None, min_samples_leaf=3, min_samples_split=14, n_estimators=500; total time=   0.5s\n",
      "[CV] END max_depth=None, min_samples_leaf=3, min_samples_split=14, n_estimators=500; total time=   0.5s\n",
      "[CV] END max_depth=None, min_samples_leaf=3, min_samples_split=14, n_estimators=500; total time=   0.5s\n",
      "[CV] END max_depth=None, min_samples_leaf=1, min_samples_split=6, n_estimators=750; total time=   0.7s\n",
      "[CV] END max_depth=None, min_samples_leaf=1, min_samples_split=6, n_estimators=750; total time=   0.7s\n",
      "[CV] END max_depth=None, min_samples_leaf=1, min_samples_split=6, n_estimators=750; total time=   0.8s\n",
      "[CV] END max_depth=None, min_samples_leaf=1, min_samples_split=6, n_estimators=750; total time=   0.8s\n",
      "[CV] END max_depth=None, min_samples_leaf=1, min_samples_split=6, n_estimators=750; total time=   0.8s\n",
      "[CV] END max_depth=None, min_samples_leaf=1, min_samples_split=6, n_estimators=750; total time=   0.7s\n",
      "[CV] END max_depth=None, min_samples_leaf=1, min_samples_split=6, n_estimators=750; total time=   0.7s\n",
      "[CV] END max_depth=None, min_samples_leaf=1, min_samples_split=6, n_estimators=750; total time=   0.7s\n",
      "[CV] END max_depth=None, min_samples_leaf=1, min_samples_split=6, n_estimators=750; total time=   0.7s\n",
      "[CV] END max_depth=None, min_samples_leaf=1, min_samples_split=6, n_estimators=750; total time=   0.7s\n",
      "[CV] END max_depth=5, min_samples_leaf=5, min_samples_split=18, n_estimators=950; total time=   1.0s\n",
      "[CV] END max_depth=5, min_samples_leaf=5, min_samples_split=18, n_estimators=950; total time=   0.9s\n",
      "[CV] END max_depth=5, min_samples_leaf=5, min_samples_split=18, n_estimators=950; total time=   0.9s\n",
      "[CV] END max_depth=5, min_samples_leaf=5, min_samples_split=18, n_estimators=950; total time=   0.9s\n",
      "[CV] END max_depth=5, min_samples_leaf=5, min_samples_split=18, n_estimators=950; total time=   0.9s\n",
      "[CV] END max_depth=5, min_samples_leaf=5, min_samples_split=18, n_estimators=950; total time=   0.9s\n",
      "[CV] END max_depth=5, min_samples_leaf=5, min_samples_split=18, n_estimators=950; total time=   0.9s\n",
      "[CV] END max_depth=5, min_samples_leaf=5, min_samples_split=18, n_estimators=950; total time=   1.0s\n",
      "[CV] END max_depth=5, min_samples_leaf=5, min_samples_split=18, n_estimators=950; total time=   0.9s\n",
      "[CV] END max_depth=5, min_samples_leaf=5, min_samples_split=18, n_estimators=950; total time=   0.9s\n",
      "[CV] END max_depth=5, min_samples_leaf=17, min_samples_split=4, n_estimators=850; total time=   0.9s\n",
      "[CV] END max_depth=5, min_samples_leaf=17, min_samples_split=4, n_estimators=850; total time=   0.8s\n",
      "[CV] END max_depth=5, min_samples_leaf=17, min_samples_split=4, n_estimators=850; total time=   0.9s\n",
      "[CV] END max_depth=5, min_samples_leaf=17, min_samples_split=4, n_estimators=850; total time=   0.9s\n",
      "[CV] END max_depth=5, min_samples_leaf=17, min_samples_split=4, n_estimators=850; total time=   0.9s\n",
      "[CV] END max_depth=5, min_samples_leaf=17, min_samples_split=4, n_estimators=850; total time=   0.9s\n",
      "[CV] END max_depth=5, min_samples_leaf=17, min_samples_split=4, n_estimators=850; total time=   0.9s\n",
      "[CV] END max_depth=5, min_samples_leaf=17, min_samples_split=4, n_estimators=850; total time=   0.8s\n",
      "[CV] END max_depth=5, min_samples_leaf=17, min_samples_split=4, n_estimators=850; total time=   0.8s\n",
      "[CV] END max_depth=5, min_samples_leaf=17, min_samples_split=4, n_estimators=850; total time=   0.8s\n",
      "[CV] END max_depth=None, min_samples_leaf=5, min_samples_split=12, n_estimators=300; total time=   0.2s\n",
      "[CV] END max_depth=None, min_samples_leaf=5, min_samples_split=12, n_estimators=300; total time=   0.2s\n",
      "[CV] END max_depth=None, min_samples_leaf=5, min_samples_split=12, n_estimators=300; total time=   0.2s\n",
      "[CV] END max_depth=None, min_samples_leaf=5, min_samples_split=12, n_estimators=300; total time=   0.2s\n",
      "[CV] END max_depth=None, min_samples_leaf=5, min_samples_split=12, n_estimators=300; total time=   0.2s\n",
      "[CV] END max_depth=None, min_samples_leaf=5, min_samples_split=12, n_estimators=300; total time=   0.2s\n",
      "[CV] END max_depth=None, min_samples_leaf=5, min_samples_split=12, n_estimators=300; total time=   0.2s\n",
      "[CV] END max_depth=None, min_samples_leaf=5, min_samples_split=12, n_estimators=300; total time=   0.2s\n",
      "[CV] END max_depth=None, min_samples_leaf=5, min_samples_split=12, n_estimators=300; total time=   0.2s\n",
      "[CV] END max_depth=None, min_samples_leaf=5, min_samples_split=12, n_estimators=300; total time=   0.2s\n",
      "[CV] END max_depth=None, min_samples_leaf=5, min_samples_split=16, n_estimators=550; total time=   0.5s\n",
      "[CV] END max_depth=None, min_samples_leaf=5, min_samples_split=16, n_estimators=550; total time=   0.5s\n",
      "[CV] END max_depth=None, min_samples_leaf=5, min_samples_split=16, n_estimators=550; total time=   0.5s\n",
      "[CV] END max_depth=None, min_samples_leaf=5, min_samples_split=16, n_estimators=550; total time=   0.6s\n",
      "[CV] END max_depth=None, min_samples_leaf=5, min_samples_split=16, n_estimators=550; total time=   0.5s\n",
      "[CV] END max_depth=None, min_samples_leaf=5, min_samples_split=16, n_estimators=550; total time=   0.5s\n",
      "[CV] END max_depth=None, min_samples_leaf=5, min_samples_split=16, n_estimators=550; total time=   0.5s\n",
      "[CV] END max_depth=None, min_samples_leaf=5, min_samples_split=16, n_estimators=550; total time=   0.5s\n",
      "[CV] END max_depth=None, min_samples_leaf=5, min_samples_split=16, n_estimators=550; total time=   0.5s\n",
      "[CV] END max_depth=None, min_samples_leaf=5, min_samples_split=16, n_estimators=550; total time=   0.5s\n",
      "[CV] END max_depth=3, min_samples_leaf=1, min_samples_split=4, n_estimators=900; total time=   0.9s\n",
      "[CV] END max_depth=3, min_samples_leaf=1, min_samples_split=4, n_estimators=900; total time=   0.9s\n",
      "[CV] END max_depth=3, min_samples_leaf=1, min_samples_split=4, n_estimators=900; total time=   0.8s\n",
      "[CV] END max_depth=3, min_samples_leaf=1, min_samples_split=4, n_estimators=900; total time=   0.8s\n",
      "[CV] END max_depth=3, min_samples_leaf=1, min_samples_split=4, n_estimators=900; total time=   0.8s\n",
      "[CV] END max_depth=3, min_samples_leaf=1, min_samples_split=4, n_estimators=900; total time=   0.8s\n",
      "[CV] END max_depth=3, min_samples_leaf=1, min_samples_split=4, n_estimators=900; total time=   0.8s\n",
      "[CV] END max_depth=3, min_samples_leaf=1, min_samples_split=4, n_estimators=900; total time=   0.8s\n",
      "[CV] END max_depth=3, min_samples_leaf=1, min_samples_split=4, n_estimators=900; total time=   0.9s\n",
      "[CV] END max_depth=3, min_samples_leaf=1, min_samples_split=4, n_estimators=900; total time=   0.8s\n",
      "[CV] END max_depth=10, min_samples_leaf=5, min_samples_split=2, n_estimators=600; total time=   0.5s\n",
      "[CV] END max_depth=10, min_samples_leaf=5, min_samples_split=2, n_estimators=600; total time=   0.6s\n",
      "[CV] END max_depth=10, min_samples_leaf=5, min_samples_split=2, n_estimators=600; total time=   0.5s\n",
      "[CV] END max_depth=10, min_samples_leaf=5, min_samples_split=2, n_estimators=600; total time=   0.5s\n",
      "[CV] END max_depth=10, min_samples_leaf=5, min_samples_split=2, n_estimators=600; total time=   0.5s\n",
      "[CV] END max_depth=10, min_samples_leaf=5, min_samples_split=2, n_estimators=600; total time=   0.5s\n",
      "[CV] END max_depth=10, min_samples_leaf=5, min_samples_split=2, n_estimators=600; total time=   0.5s\n",
      "[CV] END max_depth=10, min_samples_leaf=5, min_samples_split=2, n_estimators=600; total time=   0.5s\n",
      "[CV] END max_depth=10, min_samples_leaf=5, min_samples_split=2, n_estimators=600; total time=   0.5s\n",
      "[CV] END max_depth=10, min_samples_leaf=5, min_samples_split=2, n_estimators=600; total time=   0.6s\n",
      "[CV] END max_depth=5, min_samples_leaf=3, min_samples_split=6, n_estimators=450; total time=   0.4s\n",
      "[CV] END max_depth=5, min_samples_leaf=3, min_samples_split=6, n_estimators=450; total time=   0.4s\n",
      "[CV] END max_depth=5, min_samples_leaf=3, min_samples_split=6, n_estimators=450; total time=   0.4s\n",
      "[CV] END max_depth=5, min_samples_leaf=3, min_samples_split=6, n_estimators=450; total time=   0.4s\n",
      "[CV] END max_depth=5, min_samples_leaf=3, min_samples_split=6, n_estimators=450; total time=   0.4s\n",
      "[CV] END max_depth=5, min_samples_leaf=3, min_samples_split=6, n_estimators=450; total time=   0.4s\n",
      "[CV] END max_depth=5, min_samples_leaf=3, min_samples_split=6, n_estimators=450; total time=   0.4s\n",
      "[CV] END max_depth=5, min_samples_leaf=3, min_samples_split=6, n_estimators=450; total time=   0.4s\n",
      "[CV] END max_depth=5, min_samples_leaf=3, min_samples_split=6, n_estimators=450; total time=   0.4s\n",
      "[CV] END max_depth=5, min_samples_leaf=3, min_samples_split=6, n_estimators=450; total time=   0.4s\n",
      "[CV] END max_depth=None, min_samples_leaf=13, min_samples_split=18, n_estimators=700; total time=   0.6s\n",
      "[CV] END max_depth=None, min_samples_leaf=13, min_samples_split=18, n_estimators=700; total time=   0.6s\n",
      "[CV] END max_depth=None, min_samples_leaf=13, min_samples_split=18, n_estimators=700; total time=   0.6s\n",
      "[CV] END max_depth=None, min_samples_leaf=13, min_samples_split=18, n_estimators=700; total time=   0.6s\n",
      "[CV] END max_depth=None, min_samples_leaf=13, min_samples_split=18, n_estimators=700; total time=   0.6s\n",
      "[CV] END max_depth=None, min_samples_leaf=13, min_samples_split=18, n_estimators=700; total time=   0.6s\n",
      "[CV] END max_depth=None, min_samples_leaf=13, min_samples_split=18, n_estimators=700; total time=   0.6s\n",
      "[CV] END max_depth=None, min_samples_leaf=13, min_samples_split=18, n_estimators=700; total time=   0.6s\n",
      "[CV] END max_depth=None, min_samples_leaf=13, min_samples_split=18, n_estimators=700; total time=   0.6s\n",
      "[CV] END max_depth=None, min_samples_leaf=13, min_samples_split=18, n_estimators=700; total time=   0.6s\n",
      "[CV] END max_depth=5, min_samples_leaf=1, min_samples_split=6, n_estimators=100; total time=   0.0s\n",
      "[CV] END max_depth=5, min_samples_leaf=1, min_samples_split=6, n_estimators=100; total time=   0.0s\n",
      "[CV] END max_depth=5, min_samples_leaf=1, min_samples_split=6, n_estimators=100; total time=   0.0s\n",
      "[CV] END max_depth=5, min_samples_leaf=1, min_samples_split=6, n_estimators=100; total time=   0.0s\n",
      "[CV] END max_depth=5, min_samples_leaf=1, min_samples_split=6, n_estimators=100; total time=   0.0s\n",
      "[CV] END max_depth=5, min_samples_leaf=1, min_samples_split=6, n_estimators=100; total time=   0.0s\n",
      "[CV] END max_depth=5, min_samples_leaf=1, min_samples_split=6, n_estimators=100; total time=   0.0s\n",
      "[CV] END max_depth=5, min_samples_leaf=1, min_samples_split=6, n_estimators=100; total time=   0.0s\n",
      "[CV] END max_depth=5, min_samples_leaf=1, min_samples_split=6, n_estimators=100; total time=   0.0s\n",
      "[CV] END max_depth=5, min_samples_leaf=1, min_samples_split=6, n_estimators=100; total time=   0.0s\n"
     ]
    },
    {
     "data": {
      "text/plain": [
       "RandomizedSearchCV(cv=10, estimator=RandomForestClassifier(), n_iter=20,\n",
       "                   param_distributions={'max_depth': [None, 3, 5, 10],\n",
       "                                        'min_samples_leaf': array([ 1,  3,  5,  7,  9, 11, 13, 15, 17, 19]),\n",
       "                                        'min_samples_split': array([ 2,  4,  6,  8, 10, 12, 14, 16, 18]),\n",
       "                                        'n_estimators': array([100, 150, 200, 250, 300, 350, 400, 450, 500, 550, 600, 650, 700,\n",
       "       750, 800, 850, 900, 950])},\n",
       "                   verbose=2)"
      ]
     },
     "execution_count": 45,
     "metadata": {},
     "output_type": "execute_result"
    }
   ],
   "source": [
    "# Set up Random seed\n",
    "np.random.seed(12)\n",
    "\n",
    "# Set up random hyperparamter search for RandomForestCLassifier\n",
    "rs_rfc = RandomizedSearchCV(RandomForestClassifier(), \n",
    "                            param_distributions= rf_grid, \n",
    "                            cv=10,\n",
    "                            n_iter=20,\n",
    "                            verbose=2)\n",
    "rs_rfc.fit(x_train, y_train)"
   ]
  },
  {
   "cell_type": "code",
   "execution_count": 50,
   "id": "integral-ceramic",
   "metadata": {},
   "outputs": [
    {
     "data": {
      "text/plain": [
       "dict_keys(['bootstrap', 'ccp_alpha', 'class_weight', 'criterion', 'max_depth', 'max_features', 'max_leaf_nodes', 'max_samples', 'min_impurity_decrease', 'min_impurity_split', 'min_samples_leaf', 'min_samples_split', 'min_weight_fraction_leaf', 'n_estimators', 'n_jobs', 'oob_score', 'random_state', 'verbose', 'warm_start'])"
      ]
     },
     "execution_count": 50,
     "metadata": {},
     "output_type": "execute_result"
    }
   ],
   "source": [
    "rf = RandomForestClassifier()\n",
    "rf.get_params().keys()"
   ]
  },
  {
   "cell_type": "code",
   "execution_count": 51,
   "id": "remarkable-nurse",
   "metadata": {},
   "outputs": [
    {
     "data": {
      "text/plain": [
       "0.9016393442622951"
      ]
     },
     "execution_count": 51,
     "metadata": {},
     "output_type": "execute_result"
    }
   ],
   "source": [
    "#Evaluate the RandomSearch Random Forest Model\n",
    "rs_rfc.score(x_test, y_test)"
   ]
  },
  {
   "cell_type": "code",
   "execution_count": 52,
   "id": "needed-object",
   "metadata": {},
   "outputs": [
    {
     "data": {
      "text/plain": [
       "{'n_estimators': 750,\n",
       " 'min_samples_split': 10,\n",
       " 'min_samples_leaf': 1,\n",
       " 'max_depth': 5}"
      ]
     },
     "execution_count": 52,
     "metadata": {},
     "output_type": "execute_result"
    }
   ],
   "source": [
    "rs_rfc.best_params_"
   ]
  },
  {
   "cell_type": "code",
   "execution_count": 53,
   "id": "desirable-dancing",
   "metadata": {},
   "outputs": [
    {
     "data": {
      "text/plain": [
       "{'Logistic Regression': 0.9016393442622951,\n",
       " 'K-Nearest Neighbors': 0.7049180327868853,\n",
       " 'Random Forest': 0.8688524590163934}"
      ]
     },
     "execution_count": 53,
     "metadata": {},
     "output_type": "execute_result"
    }
   ],
   "source": [
    "modelius"
   ]
  },
  {
   "cell_type": "markdown",
   "id": "united-accountability",
   "metadata": {},
   "source": [
    "Okay so we've actually increased the Random Forest Classifier model's accuracy by 4%. That's actually pretty impressive, but the 4 % increase only makes it the same as Logistic Regression. So we will use the Logistic Regression. "
   ]
  },
  {
   "cell_type": "markdown",
   "id": "single-titanium",
   "metadata": {},
   "source": [
    "## Tuning Hyperparameters using GridSearchCV\n",
    "\n",
    "Since our Logistic Regression model provides the best score so far, we'll try to improve it again with GridSearchCV"
   ]
  },
  {
   "cell_type": "code",
   "execution_count": 54,
   "id": "tough-aruba",
   "metadata": {
    "scrolled": true
   },
   "outputs": [
    {
     "name": "stdout",
     "output_type": "stream",
     "text": [
      "Fitting 10 folds for each of 60 candidates, totalling 600 fits\n",
      "[CV] END .............C=0.0001, penalty=l1, solver=liblinear; total time=   0.0s\n",
      "[CV] END .............C=0.0001, penalty=l1, solver=liblinear; total time=   0.0s\n",
      "[CV] END .............C=0.0001, penalty=l1, solver=liblinear; total time=   0.0s\n",
      "[CV] END .............C=0.0001, penalty=l1, solver=liblinear; total time=   0.0s\n",
      "[CV] END .............C=0.0001, penalty=l1, solver=liblinear; total time=   0.0s\n",
      "[CV] END .............C=0.0001, penalty=l1, solver=liblinear; total time=   0.0s\n",
      "[CV] END .............C=0.0001, penalty=l1, solver=liblinear; total time=   0.0s\n",
      "[CV] END .............C=0.0001, penalty=l1, solver=liblinear; total time=   0.0s\n",
      "[CV] END .............C=0.0001, penalty=l1, solver=liblinear; total time=   0.0s\n",
      "[CV] END .............C=0.0001, penalty=l1, solver=liblinear; total time=   0.0s\n",
      "[CV] END .............C=0.0001, penalty=l2, solver=liblinear; total time=   0.0s\n",
      "[CV] END .............C=0.0001, penalty=l2, solver=liblinear; total time=   0.0s\n",
      "[CV] END .............C=0.0001, penalty=l2, solver=liblinear; total time=   0.0s\n",
      "[CV] END .............C=0.0001, penalty=l2, solver=liblinear; total time=   0.0s\n",
      "[CV] END .............C=0.0001, penalty=l2, solver=liblinear; total time=   0.0s\n",
      "[CV] END .............C=0.0001, penalty=l2, solver=liblinear; total time=   0.0s\n",
      "[CV] END .............C=0.0001, penalty=l2, solver=liblinear; total time=   0.0s\n",
      "[CV] END .............C=0.0001, penalty=l2, solver=liblinear; total time=   0.0s\n",
      "[CV] END .............C=0.0001, penalty=l2, solver=liblinear; total time=   0.0s\n",
      "[CV] END .............C=0.0001, penalty=l2, solver=liblinear; total time=   0.0s\n",
      "[CV] END C=0.00018873918221350977, penalty=l1, solver=liblinear; total time=   0.0s\n",
      "[CV] END C=0.00018873918221350977, penalty=l1, solver=liblinear; total time=   0.0s\n",
      "[CV] END C=0.00018873918221350977, penalty=l1, solver=liblinear; total time=   0.0s\n",
      "[CV] END C=0.00018873918221350977, penalty=l1, solver=liblinear; total time=   0.0s\n",
      "[CV] END C=0.00018873918221350977, penalty=l1, solver=liblinear; total time=   0.0s\n",
      "[CV] END C=0.00018873918221350977, penalty=l1, solver=liblinear; total time=   0.0s\n",
      "[CV] END C=0.00018873918221350977, penalty=l1, solver=liblinear; total time=   0.0s\n",
      "[CV] END C=0.00018873918221350977, penalty=l1, solver=liblinear; total time=   0.0s\n",
      "[CV] END C=0.00018873918221350977, penalty=l1, solver=liblinear; total time=   0.0s\n",
      "[CV] END C=0.00018873918221350977, penalty=l1, solver=liblinear; total time=   0.0s\n",
      "[CV] END C=0.00018873918221350977, penalty=l2, solver=liblinear; total time=   0.0s\n",
      "[CV] END C=0.00018873918221350977, penalty=l2, solver=liblinear; total time=   0.0s\n",
      "[CV] END C=0.00018873918221350977, penalty=l2, solver=liblinear; total time=   0.0s\n",
      "[CV] END C=0.00018873918221350977, penalty=l2, solver=liblinear; total time=   0.0s\n",
      "[CV] END C=0.00018873918221350977, penalty=l2, solver=liblinear; total time=   0.0s\n",
      "[CV] END C=0.00018873918221350977, penalty=l2, solver=liblinear; total time=   0.0s\n",
      "[CV] END C=0.00018873918221350977, penalty=l2, solver=liblinear; total time=   0.0s\n",
      "[CV] END C=0.00018873918221350977, penalty=l2, solver=liblinear; total time=   0.0s\n",
      "[CV] END C=0.00018873918221350977, penalty=l2, solver=liblinear; total time=   0.0s\n",
      "[CV] END C=0.00018873918221350977, penalty=l2, solver=liblinear; total time=   0.0s\n",
      "[CV] END C=0.0003562247890262444, penalty=l1, solver=liblinear; total time=   0.0s\n",
      "[CV] END C=0.0003562247890262444, penalty=l1, solver=liblinear; total time=   0.0s\n",
      "[CV] END C=0.0003562247890262444, penalty=l1, solver=liblinear; total time=   0.0s\n",
      "[CV] END C=0.0003562247890262444, penalty=l1, solver=liblinear; total time=   0.0s\n",
      "[CV] END C=0.0003562247890262444, penalty=l1, solver=liblinear; total time=   0.0s\n",
      "[CV] END C=0.0003562247890262444, penalty=l1, solver=liblinear; total time=   0.0s\n",
      "[CV] END C=0.0003562247890262444, penalty=l1, solver=liblinear; total time=   0.0s\n",
      "[CV] END C=0.0003562247890262444, penalty=l1, solver=liblinear; total time=   0.0s\n",
      "[CV] END C=0.0003562247890262444, penalty=l1, solver=liblinear; total time=   0.0s\n",
      "[CV] END C=0.0003562247890262444, penalty=l1, solver=liblinear; total time=   0.0s\n",
      "[CV] END C=0.0003562247890262444, penalty=l2, solver=liblinear; total time=   0.0s\n",
      "[CV] END C=0.0003562247890262444, penalty=l2, solver=liblinear; total time=   0.0s\n",
      "[CV] END C=0.0003562247890262444, penalty=l2, solver=liblinear; total time=   0.0s\n",
      "[CV] END C=0.0003562247890262444, penalty=l2, solver=liblinear; total time=   0.0s\n",
      "[CV] END C=0.0003562247890262444, penalty=l2, solver=liblinear; total time=   0.0s\n",
      "[CV] END C=0.0003562247890262444, penalty=l2, solver=liblinear; total time=   0.0s\n",
      "[CV] END C=0.0003562247890262444, penalty=l2, solver=liblinear; total time=   0.0s\n",
      "[CV] END C=0.0003562247890262444, penalty=l2, solver=liblinear; total time=   0.0s\n",
      "[CV] END C=0.0003562247890262444, penalty=l2, solver=liblinear; total time=   0.0s\n",
      "[CV] END C=0.0003562247890262444, penalty=l2, solver=liblinear; total time=   0.0s\n",
      "[CV] END C=0.0006723357536499335, penalty=l1, solver=liblinear; total time=   0.0s\n",
      "[CV] END C=0.0006723357536499335, penalty=l1, solver=liblinear; total time=   0.0s\n",
      "[CV] END C=0.0006723357536499335, penalty=l1, solver=liblinear; total time=   0.0s\n",
      "[CV] END C=0.0006723357536499335, penalty=l1, solver=liblinear; total time=   0.0s\n",
      "[CV] END C=0.0006723357536499335, penalty=l1, solver=liblinear; total time=   0.0s\n",
      "[CV] END C=0.0006723357536499335, penalty=l1, solver=liblinear; total time=   0.0s\n",
      "[CV] END C=0.0006723357536499335, penalty=l1, solver=liblinear; total time=   0.0s\n",
      "[CV] END C=0.0006723357536499335, penalty=l1, solver=liblinear; total time=   0.0s\n",
      "[CV] END C=0.0006723357536499335, penalty=l1, solver=liblinear; total time=   0.0s\n",
      "[CV] END C=0.0006723357536499335, penalty=l1, solver=liblinear; total time=   0.0s\n",
      "[CV] END C=0.0006723357536499335, penalty=l2, solver=liblinear; total time=   0.0s\n",
      "[CV] END C=0.0006723357536499335, penalty=l2, solver=liblinear; total time=   0.0s\n",
      "[CV] END C=0.0006723357536499335, penalty=l2, solver=liblinear; total time=   0.0s\n",
      "[CV] END C=0.0006723357536499335, penalty=l2, solver=liblinear; total time=   0.0s\n",
      "[CV] END C=0.0006723357536499335, penalty=l2, solver=liblinear; total time=   0.0s\n",
      "[CV] END C=0.0006723357536499335, penalty=l2, solver=liblinear; total time=   0.0s\n",
      "[CV] END C=0.0006723357536499335, penalty=l2, solver=liblinear; total time=   0.0s\n",
      "[CV] END C=0.0006723357536499335, penalty=l2, solver=liblinear; total time=   0.0s\n",
      "[CV] END C=0.0006723357536499335, penalty=l2, solver=liblinear; total time=   0.0s\n",
      "[CV] END C=0.0006723357536499335, penalty=l2, solver=liblinear; total time=   0.0s\n",
      "[CV] END C=0.0012689610031679222, penalty=l1, solver=liblinear; total time=   0.0s\n",
      "[CV] END C=0.0012689610031679222, penalty=l1, solver=liblinear; total time=   0.0s\n",
      "[CV] END C=0.0012689610031679222, penalty=l1, solver=liblinear; total time=   0.0s\n",
      "[CV] END C=0.0012689610031679222, penalty=l1, solver=liblinear; total time=   0.0s\n",
      "[CV] END C=0.0012689610031679222, penalty=l1, solver=liblinear; total time=   0.0s\n",
      "[CV] END C=0.0012689610031679222, penalty=l1, solver=liblinear; total time=   0.0s\n",
      "[CV] END C=0.0012689610031679222, penalty=l1, solver=liblinear; total time=   0.0s\n",
      "[CV] END C=0.0012689610031679222, penalty=l1, solver=liblinear; total time=   0.0s\n",
      "[CV] END C=0.0012689610031679222, penalty=l1, solver=liblinear; total time=   0.0s\n",
      "[CV] END C=0.0012689610031679222, penalty=l1, solver=liblinear; total time=   0.0s\n",
      "[CV] END C=0.0012689610031679222, penalty=l2, solver=liblinear; total time=   0.0s\n",
      "[CV] END C=0.0012689610031679222, penalty=l2, solver=liblinear; total time=   0.0s\n",
      "[CV] END C=0.0012689610031679222, penalty=l2, solver=liblinear; total time=   0.0s\n",
      "[CV] END C=0.0012689610031679222, penalty=l2, solver=liblinear; total time=   0.0s\n",
      "[CV] END C=0.0012689610031679222, penalty=l2, solver=liblinear; total time=   0.0s\n",
      "[CV] END C=0.0012689610031679222, penalty=l2, solver=liblinear; total time=   0.0s\n",
      "[CV] END C=0.0012689610031679222, penalty=l2, solver=liblinear; total time=   0.0s\n",
      "[CV] END C=0.0012689610031679222, penalty=l2, solver=liblinear; total time=   0.0s\n",
      "[CV] END C=0.0012689610031679222, penalty=l2, solver=liblinear; total time=   0.0s\n",
      "[CV] END C=0.0012689610031679222, penalty=l2, solver=liblinear; total time=   0.0s\n",
      "[CV] END C=0.002395026619987486, penalty=l1, solver=liblinear; total time=   0.0s\n",
      "[CV] END C=0.002395026619987486, penalty=l1, solver=liblinear; total time=   0.0s\n",
      "[CV] END C=0.002395026619987486, penalty=l1, solver=liblinear; total time=   0.0s\n",
      "[CV] END C=0.002395026619987486, penalty=l1, solver=liblinear; total time=   0.0s\n",
      "[CV] END C=0.002395026619987486, penalty=l1, solver=liblinear; total time=   0.0s\n",
      "[CV] END C=0.002395026619987486, penalty=l1, solver=liblinear; total time=   0.0s\n",
      "[CV] END C=0.002395026619987486, penalty=l1, solver=liblinear; total time=   0.0s\n",
      "[CV] END C=0.002395026619987486, penalty=l1, solver=liblinear; total time=   0.0s\n",
      "[CV] END C=0.002395026619987486, penalty=l1, solver=liblinear; total time=   0.0s\n",
      "[CV] END C=0.002395026619987486, penalty=l1, solver=liblinear; total time=   0.0s\n",
      "[CV] END C=0.002395026619987486, penalty=l2, solver=liblinear; total time=   0.0s\n",
      "[CV] END C=0.002395026619987486, penalty=l2, solver=liblinear; total time=   0.0s\n",
      "[CV] END C=0.002395026619987486, penalty=l2, solver=liblinear; total time=   0.0s\n",
      "[CV] END C=0.002395026619987486, penalty=l2, solver=liblinear; total time=   0.0s\n",
      "[CV] END C=0.002395026619987486, penalty=l2, solver=liblinear; total time=   0.0s\n",
      "[CV] END C=0.002395026619987486, penalty=l2, solver=liblinear; total time=   0.0s\n",
      "[CV] END C=0.002395026619987486, penalty=l2, solver=liblinear; total time=   0.0s\n",
      "[CV] END C=0.002395026619987486, penalty=l2, solver=liblinear; total time=   0.0s\n",
      "[CV] END C=0.002395026619987486, penalty=l2, solver=liblinear; total time=   0.0s\n",
      "[CV] END C=0.002395026619987486, penalty=l2, solver=liblinear; total time=   0.0s\n",
      "[CV] END C=0.004520353656360241, penalty=l1, solver=liblinear; total time=   0.0s\n",
      "[CV] END C=0.004520353656360241, penalty=l1, solver=liblinear; total time=   0.0s\n",
      "[CV] END C=0.004520353656360241, penalty=l1, solver=liblinear; total time=   0.0s\n",
      "[CV] END C=0.004520353656360241, penalty=l1, solver=liblinear; total time=   0.0s\n",
      "[CV] END C=0.004520353656360241, penalty=l1, solver=liblinear; total time=   0.0s\n",
      "[CV] END C=0.004520353656360241, penalty=l1, solver=liblinear; total time=   0.0s\n",
      "[CV] END C=0.004520353656360241, penalty=l1, solver=liblinear; total time=   0.0s\n",
      "[CV] END C=0.004520353656360241, penalty=l1, solver=liblinear; total time=   0.0s\n",
      "[CV] END C=0.004520353656360241, penalty=l1, solver=liblinear; total time=   0.0s\n",
      "[CV] END C=0.004520353656360241, penalty=l1, solver=liblinear; total time=   0.0s\n",
      "[CV] END C=0.004520353656360241, penalty=l2, solver=liblinear; total time=   0.0s\n",
      "[CV] END C=0.004520353656360241, penalty=l2, solver=liblinear; total time=   0.0s\n",
      "[CV] END C=0.004520353656360241, penalty=l2, solver=liblinear; total time=   0.0s\n",
      "[CV] END C=0.004520353656360241, penalty=l2, solver=liblinear; total time=   0.0s\n",
      "[CV] END C=0.004520353656360241, penalty=l2, solver=liblinear; total time=   0.0s\n",
      "[CV] END C=0.004520353656360241, penalty=l2, solver=liblinear; total time=   0.0s\n",
      "[CV] END C=0.004520353656360241, penalty=l2, solver=liblinear; total time=   0.0s\n",
      "[CV] END C=0.004520353656360241, penalty=l2, solver=liblinear; total time=   0.0s\n",
      "[CV] END C=0.004520353656360241, penalty=l2, solver=liblinear; total time=   0.0s\n",
      "[CV] END C=0.004520353656360241, penalty=l2, solver=liblinear; total time=   0.0s\n",
      "[CV] END C=0.008531678524172805, penalty=l1, solver=liblinear; total time=   0.0s\n",
      "[CV] END C=0.008531678524172805, penalty=l1, solver=liblinear; total time=   0.0s\n",
      "[CV] END C=0.008531678524172805, penalty=l1, solver=liblinear; total time=   0.0s\n",
      "[CV] END C=0.008531678524172805, penalty=l1, solver=liblinear; total time=   0.0s\n",
      "[CV] END C=0.008531678524172805, penalty=l1, solver=liblinear; total time=   0.0s\n",
      "[CV] END C=0.008531678524172805, penalty=l1, solver=liblinear; total time=   0.0s\n",
      "[CV] END C=0.008531678524172805, penalty=l1, solver=liblinear; total time=   0.0s\n",
      "[CV] END C=0.008531678524172805, penalty=l1, solver=liblinear; total time=   0.0s\n",
      "[CV] END C=0.008531678524172805, penalty=l1, solver=liblinear; total time=   0.0s\n",
      "[CV] END C=0.008531678524172805, penalty=l1, solver=liblinear; total time=   0.0s\n",
      "[CV] END C=0.008531678524172805, penalty=l2, solver=liblinear; total time=   0.0s\n",
      "[CV] END C=0.008531678524172805, penalty=l2, solver=liblinear; total time=   0.0s\n",
      "[CV] END C=0.008531678524172805, penalty=l2, solver=liblinear; total time=   0.0s\n",
      "[CV] END C=0.008531678524172805, penalty=l2, solver=liblinear; total time=   0.0s\n",
      "[CV] END C=0.008531678524172805, penalty=l2, solver=liblinear; total time=   0.0s\n",
      "[CV] END C=0.008531678524172805, penalty=l2, solver=liblinear; total time=   0.0s\n",
      "[CV] END C=0.008531678524172805, penalty=l2, solver=liblinear; total time=   0.0s\n",
      "[CV] END C=0.008531678524172805, penalty=l2, solver=liblinear; total time=   0.0s\n",
      "[CV] END C=0.008531678524172805, penalty=l2, solver=liblinear; total time=   0.0s\n",
      "[CV] END C=0.008531678524172805, penalty=l2, solver=liblinear; total time=   0.0s\n",
      "[CV] END C=0.01610262027560939, penalty=l1, solver=liblinear; total time=   0.0s\n",
      "[CV] END C=0.01610262027560939, penalty=l1, solver=liblinear; total time=   0.0s\n",
      "[CV] END C=0.01610262027560939, penalty=l1, solver=liblinear; total time=   0.0s\n",
      "[CV] END C=0.01610262027560939, penalty=l1, solver=liblinear; total time=   0.0s\n",
      "[CV] END C=0.01610262027560939, penalty=l1, solver=liblinear; total time=   0.0s\n",
      "[CV] END C=0.01610262027560939, penalty=l1, solver=liblinear; total time=   0.0s\n",
      "[CV] END C=0.01610262027560939, penalty=l1, solver=liblinear; total time=   0.0s\n",
      "[CV] END C=0.01610262027560939, penalty=l1, solver=liblinear; total time=   0.0s\n",
      "[CV] END C=0.01610262027560939, penalty=l1, solver=liblinear; total time=   0.0s\n",
      "[CV] END C=0.01610262027560939, penalty=l1, solver=liblinear; total time=   0.0s\n",
      "[CV] END C=0.01610262027560939, penalty=l2, solver=liblinear; total time=   0.0s\n",
      "[CV] END C=0.01610262027560939, penalty=l2, solver=liblinear; total time=   0.0s\n",
      "[CV] END C=0.01610262027560939, penalty=l2, solver=liblinear; total time=   0.0s\n",
      "[CV] END C=0.01610262027560939, penalty=l2, solver=liblinear; total time=   0.0s\n",
      "[CV] END C=0.01610262027560939, penalty=l2, solver=liblinear; total time=   0.0s\n",
      "[CV] END C=0.01610262027560939, penalty=l2, solver=liblinear; total time=   0.0s\n",
      "[CV] END C=0.01610262027560939, penalty=l2, solver=liblinear; total time=   0.0s\n",
      "[CV] END C=0.01610262027560939, penalty=l2, solver=liblinear; total time=   0.0s\n",
      "[CV] END C=0.01610262027560939, penalty=l2, solver=liblinear; total time=   0.0s\n",
      "[CV] END C=0.01610262027560939, penalty=l2, solver=liblinear; total time=   0.0s\n",
      "[CV] END C=0.03039195382313198, penalty=l1, solver=liblinear; total time=   0.0s\n",
      "[CV] END C=0.03039195382313198, penalty=l1, solver=liblinear; total time=   0.0s\n",
      "[CV] END C=0.03039195382313198, penalty=l1, solver=liblinear; total time=   0.0s\n",
      "[CV] END C=0.03039195382313198, penalty=l1, solver=liblinear; total time=   0.0s\n",
      "[CV] END C=0.03039195382313198, penalty=l1, solver=liblinear; total time=   0.0s\n",
      "[CV] END C=0.03039195382313198, penalty=l1, solver=liblinear; total time=   0.0s\n",
      "[CV] END C=0.03039195382313198, penalty=l1, solver=liblinear; total time=   0.0s\n",
      "[CV] END C=0.03039195382313198, penalty=l1, solver=liblinear; total time=   0.0s\n",
      "[CV] END C=0.03039195382313198, penalty=l1, solver=liblinear; total time=   0.0s\n",
      "[CV] END C=0.03039195382313198, penalty=l1, solver=liblinear; total time=   0.0s\n",
      "[CV] END C=0.03039195382313198, penalty=l2, solver=liblinear; total time=   0.0s\n",
      "[CV] END C=0.03039195382313198, penalty=l2, solver=liblinear; total time=   0.0s\n",
      "[CV] END C=0.03039195382313198, penalty=l2, solver=liblinear; total time=   0.0s\n",
      "[CV] END C=0.03039195382313198, penalty=l2, solver=liblinear; total time=   0.0s\n",
      "[CV] END C=0.03039195382313198, penalty=l2, solver=liblinear; total time=   0.0s\n",
      "[CV] END C=0.03039195382313198, penalty=l2, solver=liblinear; total time=   0.0s\n",
      "[CV] END C=0.03039195382313198, penalty=l2, solver=liblinear; total time=   0.0s\n",
      "[CV] END C=0.03039195382313198, penalty=l2, solver=liblinear; total time=   0.0s\n",
      "[CV] END C=0.03039195382313198, penalty=l2, solver=liblinear; total time=   0.0s\n",
      "[CV] END C=0.03039195382313198, penalty=l2, solver=liblinear; total time=   0.0s\n",
      "[CV] END C=0.05736152510448681, penalty=l1, solver=liblinear; total time=   0.0s\n",
      "[CV] END C=0.05736152510448681, penalty=l1, solver=liblinear; total time=   0.0s\n",
      "[CV] END C=0.05736152510448681, penalty=l1, solver=liblinear; total time=   0.0s\n",
      "[CV] END C=0.05736152510448681, penalty=l1, solver=liblinear; total time=   0.0s\n",
      "[CV] END C=0.05736152510448681, penalty=l1, solver=liblinear; total time=   0.0s\n",
      "[CV] END C=0.05736152510448681, penalty=l1, solver=liblinear; total time=   0.0s\n",
      "[CV] END C=0.05736152510448681, penalty=l1, solver=liblinear; total time=   0.0s\n",
      "[CV] END C=0.05736152510448681, penalty=l1, solver=liblinear; total time=   0.0s\n",
      "[CV] END C=0.05736152510448681, penalty=l1, solver=liblinear; total time=   0.0s\n",
      "[CV] END C=0.05736152510448681, penalty=l1, solver=liblinear; total time=   0.0s\n",
      "[CV] END C=0.05736152510448681, penalty=l2, solver=liblinear; total time=   0.0s\n",
      "[CV] END C=0.05736152510448681, penalty=l2, solver=liblinear; total time=   0.0s\n",
      "[CV] END C=0.05736152510448681, penalty=l2, solver=liblinear; total time=   0.0s\n",
      "[CV] END C=0.05736152510448681, penalty=l2, solver=liblinear; total time=   0.0s\n",
      "[CV] END C=0.05736152510448681, penalty=l2, solver=liblinear; total time=   0.0s\n",
      "[CV] END C=0.05736152510448681, penalty=l2, solver=liblinear; total time=   0.0s\n",
      "[CV] END C=0.05736152510448681, penalty=l2, solver=liblinear; total time=   0.0s\n",
      "[CV] END C=0.05736152510448681, penalty=l2, solver=liblinear; total time=   0.0s\n",
      "[CV] END C=0.05736152510448681, penalty=l2, solver=liblinear; total time=   0.0s\n",
      "[CV] END C=0.05736152510448681, penalty=l2, solver=liblinear; total time=   0.0s\n",
      "[CV] END .C=0.1082636733874054, penalty=l1, solver=liblinear; total time=   0.0s\n",
      "[CV] END .C=0.1082636733874054, penalty=l1, solver=liblinear; total time=   0.0s\n",
      "[CV] END .C=0.1082636733874054, penalty=l1, solver=liblinear; total time=   0.0s\n",
      "[CV] END .C=0.1082636733874054, penalty=l1, solver=liblinear; total time=   0.0s\n",
      "[CV] END .C=0.1082636733874054, penalty=l1, solver=liblinear; total time=   0.0s\n",
      "[CV] END .C=0.1082636733874054, penalty=l1, solver=liblinear; total time=   0.0s\n",
      "[CV] END .C=0.1082636733874054, penalty=l1, solver=liblinear; total time=   0.0s\n",
      "[CV] END .C=0.1082636733874054, penalty=l1, solver=liblinear; total time=   0.0s\n",
      "[CV] END .C=0.1082636733874054, penalty=l1, solver=liblinear; total time=   0.0s\n",
      "[CV] END .C=0.1082636733874054, penalty=l1, solver=liblinear; total time=   0.0s\n",
      "[CV] END .C=0.1082636733874054, penalty=l2, solver=liblinear; total time=   0.0s\n",
      "[CV] END .C=0.1082636733874054, penalty=l2, solver=liblinear; total time=   0.0s\n",
      "[CV] END .C=0.1082636733874054, penalty=l2, solver=liblinear; total time=   0.0s\n",
      "[CV] END .C=0.1082636733874054, penalty=l2, solver=liblinear; total time=   0.0s\n",
      "[CV] END .C=0.1082636733874054, penalty=l2, solver=liblinear; total time=   0.0s\n",
      "[CV] END .C=0.1082636733874054, penalty=l2, solver=liblinear; total time=   0.0s\n",
      "[CV] END .C=0.1082636733874054, penalty=l2, solver=liblinear; total time=   0.0s\n",
      "[CV] END .C=0.1082636733874054, penalty=l2, solver=liblinear; total time=   0.0s\n",
      "[CV] END .C=0.1082636733874054, penalty=l2, solver=liblinear; total time=   0.0s\n",
      "[CV] END .C=0.1082636733874054, penalty=l2, solver=liblinear; total time=   0.0s\n",
      "[CV] END C=0.20433597178569418, penalty=l1, solver=liblinear; total time=   0.0s\n",
      "[CV] END C=0.20433597178569418, penalty=l1, solver=liblinear; total time=   0.0s\n",
      "[CV] END C=0.20433597178569418, penalty=l1, solver=liblinear; total time=   0.0s\n",
      "[CV] END C=0.20433597178569418, penalty=l1, solver=liblinear; total time=   0.0s\n",
      "[CV] END C=0.20433597178569418, penalty=l1, solver=liblinear; total time=   0.0s\n",
      "[CV] END C=0.20433597178569418, penalty=l1, solver=liblinear; total time=   0.0s\n",
      "[CV] END C=0.20433597178569418, penalty=l1, solver=liblinear; total time=   0.0s\n",
      "[CV] END C=0.20433597178569418, penalty=l1, solver=liblinear; total time=   0.0s\n",
      "[CV] END C=0.20433597178569418, penalty=l1, solver=liblinear; total time=   0.0s\n",
      "[CV] END C=0.20433597178569418, penalty=l1, solver=liblinear; total time=   0.0s\n",
      "[CV] END C=0.20433597178569418, penalty=l2, solver=liblinear; total time=   0.0s\n",
      "[CV] END C=0.20433597178569418, penalty=l2, solver=liblinear; total time=   0.0s\n",
      "[CV] END C=0.20433597178569418, penalty=l2, solver=liblinear; total time=   0.0s\n",
      "[CV] END C=0.20433597178569418, penalty=l2, solver=liblinear; total time=   0.0s\n",
      "[CV] END C=0.20433597178569418, penalty=l2, solver=liblinear; total time=   0.0s\n",
      "[CV] END C=0.20433597178569418, penalty=l2, solver=liblinear; total time=   0.0s\n",
      "[CV] END C=0.20433597178569418, penalty=l2, solver=liblinear; total time=   0.0s\n",
      "[CV] END C=0.20433597178569418, penalty=l2, solver=liblinear; total time=   0.0s\n",
      "[CV] END C=0.20433597178569418, penalty=l2, solver=liblinear; total time=   0.0s\n",
      "[CV] END C=0.20433597178569418, penalty=l2, solver=liblinear; total time=   0.0s\n",
      "[CV] END C=0.38566204211634725, penalty=l1, solver=liblinear; total time=   0.0s\n",
      "[CV] END C=0.38566204211634725, penalty=l1, solver=liblinear; total time=   0.0s\n",
      "[CV] END C=0.38566204211634725, penalty=l1, solver=liblinear; total time=   0.0s\n",
      "[CV] END C=0.38566204211634725, penalty=l1, solver=liblinear; total time=   0.0s\n",
      "[CV] END C=0.38566204211634725, penalty=l1, solver=liblinear; total time=   0.0s\n",
      "[CV] END C=0.38566204211634725, penalty=l1, solver=liblinear; total time=   0.0s\n",
      "[CV] END C=0.38566204211634725, penalty=l1, solver=liblinear; total time=   0.0s\n",
      "[CV] END C=0.38566204211634725, penalty=l1, solver=liblinear; total time=   0.0s\n",
      "[CV] END C=0.38566204211634725, penalty=l1, solver=liblinear; total time=   0.0s\n",
      "[CV] END C=0.38566204211634725, penalty=l1, solver=liblinear; total time=   0.0s\n",
      "[CV] END C=0.38566204211634725, penalty=l2, solver=liblinear; total time=   0.0s\n",
      "[CV] END C=0.38566204211634725, penalty=l2, solver=liblinear; total time=   0.0s\n",
      "[CV] END C=0.38566204211634725, penalty=l2, solver=liblinear; total time=   0.0s\n",
      "[CV] END C=0.38566204211634725, penalty=l2, solver=liblinear; total time=   0.0s\n",
      "[CV] END C=0.38566204211634725, penalty=l2, solver=liblinear; total time=   0.0s\n",
      "[CV] END C=0.38566204211634725, penalty=l2, solver=liblinear; total time=   0.0s\n",
      "[CV] END C=0.38566204211634725, penalty=l2, solver=liblinear; total time=   0.0s\n",
      "[CV] END C=0.38566204211634725, penalty=l2, solver=liblinear; total time=   0.0s\n",
      "[CV] END C=0.38566204211634725, penalty=l2, solver=liblinear; total time=   0.0s\n",
      "[CV] END C=0.38566204211634725, penalty=l2, solver=liblinear; total time=   0.0s\n",
      "[CV] END .C=0.7278953843983146, penalty=l1, solver=liblinear; total time=   0.0s\n",
      "[CV] END .C=0.7278953843983146, penalty=l1, solver=liblinear; total time=   0.0s\n",
      "[CV] END .C=0.7278953843983146, penalty=l1, solver=liblinear; total time=   0.0s\n",
      "[CV] END .C=0.7278953843983146, penalty=l1, solver=liblinear; total time=   0.0s\n",
      "[CV] END .C=0.7278953843983146, penalty=l1, solver=liblinear; total time=   0.0s\n",
      "[CV] END .C=0.7278953843983146, penalty=l1, solver=liblinear; total time=   0.0s\n",
      "[CV] END .C=0.7278953843983146, penalty=l1, solver=liblinear; total time=   0.0s\n",
      "[CV] END .C=0.7278953843983146, penalty=l1, solver=liblinear; total time=   0.0s\n",
      "[CV] END .C=0.7278953843983146, penalty=l1, solver=liblinear; total time=   0.0s\n",
      "[CV] END .C=0.7278953843983146, penalty=l1, solver=liblinear; total time=   0.0s\n",
      "[CV] END .C=0.7278953843983146, penalty=l2, solver=liblinear; total time=   0.0s\n",
      "[CV] END .C=0.7278953843983146, penalty=l2, solver=liblinear; total time=   0.0s\n",
      "[CV] END .C=0.7278953843983146, penalty=l2, solver=liblinear; total time=   0.0s\n",
      "[CV] END .C=0.7278953843983146, penalty=l2, solver=liblinear; total time=   0.0s\n",
      "[CV] END .C=0.7278953843983146, penalty=l2, solver=liblinear; total time=   0.0s\n",
      "[CV] END .C=0.7278953843983146, penalty=l2, solver=liblinear; total time=   0.0s\n",
      "[CV] END .C=0.7278953843983146, penalty=l2, solver=liblinear; total time=   0.0s\n",
      "[CV] END .C=0.7278953843983146, penalty=l2, solver=liblinear; total time=   0.0s\n",
      "[CV] END .C=0.7278953843983146, penalty=l2, solver=liblinear; total time=   0.0s\n",
      "[CV] END .C=0.7278953843983146, penalty=l2, solver=liblinear; total time=   0.0s\n",
      "[CV] END .C=1.3738237958832638, penalty=l1, solver=liblinear; total time=   0.0s\n",
      "[CV] END .C=1.3738237958832638, penalty=l1, solver=liblinear; total time=   0.0s\n",
      "[CV] END .C=1.3738237958832638, penalty=l1, solver=liblinear; total time=   0.0s\n",
      "[CV] END .C=1.3738237958832638, penalty=l1, solver=liblinear; total time=   0.0s\n",
      "[CV] END .C=1.3738237958832638, penalty=l1, solver=liblinear; total time=   0.0s\n",
      "[CV] END .C=1.3738237958832638, penalty=l1, solver=liblinear; total time=   0.0s\n",
      "[CV] END .C=1.3738237958832638, penalty=l1, solver=liblinear; total time=   0.0s\n",
      "[CV] END .C=1.3738237958832638, penalty=l1, solver=liblinear; total time=   0.0s\n",
      "[CV] END .C=1.3738237958832638, penalty=l1, solver=liblinear; total time=   0.0s\n",
      "[CV] END .C=1.3738237958832638, penalty=l1, solver=liblinear; total time=   0.0s\n",
      "[CV] END .C=1.3738237958832638, penalty=l2, solver=liblinear; total time=   0.0s\n",
      "[CV] END .C=1.3738237958832638, penalty=l2, solver=liblinear; total time=   0.0s\n",
      "[CV] END .C=1.3738237958832638, penalty=l2, solver=liblinear; total time=   0.0s\n",
      "[CV] END .C=1.3738237958832638, penalty=l2, solver=liblinear; total time=   0.0s\n",
      "[CV] END .C=1.3738237958832638, penalty=l2, solver=liblinear; total time=   0.0s\n",
      "[CV] END .C=1.3738237958832638, penalty=l2, solver=liblinear; total time=   0.0s\n",
      "[CV] END .C=1.3738237958832638, penalty=l2, solver=liblinear; total time=   0.0s\n",
      "[CV] END .C=1.3738237958832638, penalty=l2, solver=liblinear; total time=   0.0s\n",
      "[CV] END .C=1.3738237958832638, penalty=l2, solver=liblinear; total time=   0.0s\n",
      "[CV] END .C=1.3738237958832638, penalty=l2, solver=liblinear; total time=   0.0s\n",
      "[CV] END ..C=2.592943797404667, penalty=l1, solver=liblinear; total time=   0.0s\n",
      "[CV] END ..C=2.592943797404667, penalty=l1, solver=liblinear; total time=   0.0s\n",
      "[CV] END ..C=2.592943797404667, penalty=l1, solver=liblinear; total time=   0.0s\n",
      "[CV] END ..C=2.592943797404667, penalty=l1, solver=liblinear; total time=   0.0s\n",
      "[CV] END ..C=2.592943797404667, penalty=l1, solver=liblinear; total time=   0.0s\n",
      "[CV] END ..C=2.592943797404667, penalty=l1, solver=liblinear; total time=   0.0s\n",
      "[CV] END ..C=2.592943797404667, penalty=l1, solver=liblinear; total time=   0.0s\n",
      "[CV] END ..C=2.592943797404667, penalty=l1, solver=liblinear; total time=   0.0s\n",
      "[CV] END ..C=2.592943797404667, penalty=l1, solver=liblinear; total time=   0.0s\n",
      "[CV] END ..C=2.592943797404667, penalty=l1, solver=liblinear; total time=   0.0s\n",
      "[CV] END ..C=2.592943797404667, penalty=l2, solver=liblinear; total time=   0.0s\n",
      "[CV] END ..C=2.592943797404667, penalty=l2, solver=liblinear; total time=   0.0s\n",
      "[CV] END ..C=2.592943797404667, penalty=l2, solver=liblinear; total time=   0.0s\n",
      "[CV] END ..C=2.592943797404667, penalty=l2, solver=liblinear; total time=   0.0s\n",
      "[CV] END ..C=2.592943797404667, penalty=l2, solver=liblinear; total time=   0.0s\n",
      "[CV] END ..C=2.592943797404667, penalty=l2, solver=liblinear; total time=   0.0s\n",
      "[CV] END ..C=2.592943797404667, penalty=l2, solver=liblinear; total time=   0.0s\n",
      "[CV] END ..C=2.592943797404667, penalty=l2, solver=liblinear; total time=   0.0s\n",
      "[CV] END ..C=2.592943797404667, penalty=l2, solver=liblinear; total time=   0.0s\n",
      "[CV] END ..C=2.592943797404667, penalty=l2, solver=liblinear; total time=   0.0s\n",
      "[CV] END ..C=4.893900918477489, penalty=l1, solver=liblinear; total time=   0.0s\n",
      "[CV] END ..C=4.893900918477489, penalty=l1, solver=liblinear; total time=   0.0s\n",
      "[CV] END ..C=4.893900918477489, penalty=l1, solver=liblinear; total time=   0.0s\n",
      "[CV] END ..C=4.893900918477489, penalty=l1, solver=liblinear; total time=   0.0s\n",
      "[CV] END ..C=4.893900918477489, penalty=l1, solver=liblinear; total time=   0.0s\n",
      "[CV] END ..C=4.893900918477489, penalty=l1, solver=liblinear; total time=   0.0s\n",
      "[CV] END ..C=4.893900918477489, penalty=l1, solver=liblinear; total time=   0.0s\n",
      "[CV] END ..C=4.893900918477489, penalty=l1, solver=liblinear; total time=   0.0s\n",
      "[CV] END ..C=4.893900918477489, penalty=l1, solver=liblinear; total time=   0.0s\n",
      "[CV] END ..C=4.893900918477489, penalty=l1, solver=liblinear; total time=   0.0s\n",
      "[CV] END ..C=4.893900918477489, penalty=l2, solver=liblinear; total time=   0.0s\n",
      "[CV] END ..C=4.893900918477489, penalty=l2, solver=liblinear; total time=   0.0s\n",
      "[CV] END ..C=4.893900918477489, penalty=l2, solver=liblinear; total time=   0.0s\n",
      "[CV] END ..C=4.893900918477489, penalty=l2, solver=liblinear; total time=   0.0s\n",
      "[CV] END ..C=4.893900918477489, penalty=l2, solver=liblinear; total time=   0.0s\n",
      "[CV] END ..C=4.893900918477489, penalty=l2, solver=liblinear; total time=   0.0s\n",
      "[CV] END ..C=4.893900918477489, penalty=l2, solver=liblinear; total time=   0.0s\n",
      "[CV] END ..C=4.893900918477489, penalty=l2, solver=liblinear; total time=   0.0s\n",
      "[CV] END ..C=4.893900918477489, penalty=l2, solver=liblinear; total time=   0.0s\n",
      "[CV] END ..C=4.893900918477489, penalty=l2, solver=liblinear; total time=   0.0s\n",
      "[CV] END ..C=9.236708571873866, penalty=l1, solver=liblinear; total time=   0.0s\n",
      "[CV] END ..C=9.236708571873866, penalty=l1, solver=liblinear; total time=   0.0s\n",
      "[CV] END ..C=9.236708571873866, penalty=l1, solver=liblinear; total time=   0.0s\n",
      "[CV] END ..C=9.236708571873866, penalty=l1, solver=liblinear; total time=   0.0s\n",
      "[CV] END ..C=9.236708571873866, penalty=l1, solver=liblinear; total time=   0.0s\n",
      "[CV] END ..C=9.236708571873866, penalty=l1, solver=liblinear; total time=   0.0s\n",
      "[CV] END ..C=9.236708571873866, penalty=l1, solver=liblinear; total time=   0.0s\n",
      "[CV] END ..C=9.236708571873866, penalty=l1, solver=liblinear; total time=   0.0s\n",
      "[CV] END ..C=9.236708571873866, penalty=l1, solver=liblinear; total time=   0.0s\n",
      "[CV] END ..C=9.236708571873866, penalty=l1, solver=liblinear; total time=   0.0s\n",
      "[CV] END ..C=9.236708571873866, penalty=l2, solver=liblinear; total time=   0.0s\n",
      "[CV] END ..C=9.236708571873866, penalty=l2, solver=liblinear; total time=   0.0s\n",
      "[CV] END ..C=9.236708571873866, penalty=l2, solver=liblinear; total time=   0.0s\n",
      "[CV] END ..C=9.236708571873866, penalty=l2, solver=liblinear; total time=   0.0s\n",
      "[CV] END ..C=9.236708571873866, penalty=l2, solver=liblinear; total time=   0.0s\n",
      "[CV] END ..C=9.236708571873866, penalty=l2, solver=liblinear; total time=   0.0s\n",
      "[CV] END ..C=9.236708571873866, penalty=l2, solver=liblinear; total time=   0.0s\n",
      "[CV] END ..C=9.236708571873866, penalty=l2, solver=liblinear; total time=   0.0s\n",
      "[CV] END ..C=9.236708571873866, penalty=l2, solver=liblinear; total time=   0.0s\n",
      "[CV] END ..C=9.236708571873866, penalty=l2, solver=liblinear; total time=   0.0s\n",
      "[CV] END .C=17.433288221999874, penalty=l1, solver=liblinear; total time=   0.0s\n",
      "[CV] END .C=17.433288221999874, penalty=l1, solver=liblinear; total time=   0.0s\n",
      "[CV] END .C=17.433288221999874, penalty=l1, solver=liblinear; total time=   0.0s\n",
      "[CV] END .C=17.433288221999874, penalty=l1, solver=liblinear; total time=   0.0s\n",
      "[CV] END .C=17.433288221999874, penalty=l1, solver=liblinear; total time=   0.0s\n",
      "[CV] END .C=17.433288221999874, penalty=l1, solver=liblinear; total time=   0.0s\n",
      "[CV] END .C=17.433288221999874, penalty=l1, solver=liblinear; total time=   0.0s\n",
      "[CV] END .C=17.433288221999874, penalty=l1, solver=liblinear; total time=   0.0s\n",
      "[CV] END .C=17.433288221999874, penalty=l1, solver=liblinear; total time=   0.0s\n",
      "[CV] END .C=17.433288221999874, penalty=l1, solver=liblinear; total time=   0.0s\n",
      "[CV] END .C=17.433288221999874, penalty=l2, solver=liblinear; total time=   0.0s\n",
      "[CV] END .C=17.433288221999874, penalty=l2, solver=liblinear; total time=   0.0s\n",
      "[CV] END .C=17.433288221999874, penalty=l2, solver=liblinear; total time=   0.0s\n",
      "[CV] END .C=17.433288221999874, penalty=l2, solver=liblinear; total time=   0.0s\n",
      "[CV] END .C=17.433288221999874, penalty=l2, solver=liblinear; total time=   0.0s\n",
      "[CV] END .C=17.433288221999874, penalty=l2, solver=liblinear; total time=   0.0s\n",
      "[CV] END .C=17.433288221999874, penalty=l2, solver=liblinear; total time=   0.0s\n",
      "[CV] END .C=17.433288221999874, penalty=l2, solver=liblinear; total time=   0.0s\n",
      "[CV] END .C=17.433288221999874, penalty=l2, solver=liblinear; total time=   0.0s\n",
      "[CV] END .C=17.433288221999874, penalty=l2, solver=liblinear; total time=   0.0s\n",
      "[CV] END ..C=32.90344562312671, penalty=l1, solver=liblinear; total time=   0.0s\n",
      "[CV] END ..C=32.90344562312671, penalty=l1, solver=liblinear; total time=   0.0s\n",
      "[CV] END ..C=32.90344562312671, penalty=l1, solver=liblinear; total time=   0.0s\n",
      "[CV] END ..C=32.90344562312671, penalty=l1, solver=liblinear; total time=   0.0s\n",
      "[CV] END ..C=32.90344562312671, penalty=l1, solver=liblinear; total time=   0.0s\n",
      "[CV] END ..C=32.90344562312671, penalty=l1, solver=liblinear; total time=   0.0s\n",
      "[CV] END ..C=32.90344562312671, penalty=l1, solver=liblinear; total time=   0.0s\n",
      "[CV] END ..C=32.90344562312671, penalty=l1, solver=liblinear; total time=   0.0s\n",
      "[CV] END ..C=32.90344562312671, penalty=l1, solver=liblinear; total time=   0.0s\n",
      "[CV] END ..C=32.90344562312671, penalty=l1, solver=liblinear; total time=   0.0s\n",
      "[CV] END ..C=32.90344562312671, penalty=l2, solver=liblinear; total time=   0.0s\n",
      "[CV] END ..C=32.90344562312671, penalty=l2, solver=liblinear; total time=   0.0s\n",
      "[CV] END ..C=32.90344562312671, penalty=l2, solver=liblinear; total time=   0.0s\n",
      "[CV] END ..C=32.90344562312671, penalty=l2, solver=liblinear; total time=   0.0s\n",
      "[CV] END ..C=32.90344562312671, penalty=l2, solver=liblinear; total time=   0.0s\n",
      "[CV] END ..C=32.90344562312671, penalty=l2, solver=liblinear; total time=   0.0s\n",
      "[CV] END ..C=32.90344562312671, penalty=l2, solver=liblinear; total time=   0.0s\n",
      "[CV] END ..C=32.90344562312671, penalty=l2, solver=liblinear; total time=   0.0s\n",
      "[CV] END ..C=32.90344562312671, penalty=l2, solver=liblinear; total time=   0.0s\n",
      "[CV] END ..C=32.90344562312671, penalty=l2, solver=liblinear; total time=   0.0s\n",
      "[CV] END ..C=62.10169418915616, penalty=l1, solver=liblinear; total time=   0.0s\n",
      "[CV] END ..C=62.10169418915616, penalty=l1, solver=liblinear; total time=   0.0s\n",
      "[CV] END ..C=62.10169418915616, penalty=l1, solver=liblinear; total time=   0.0s\n",
      "[CV] END ..C=62.10169418915616, penalty=l1, solver=liblinear; total time=   0.0s\n",
      "[CV] END ..C=62.10169418915616, penalty=l1, solver=liblinear; total time=   0.0s\n",
      "[CV] END ..C=62.10169418915616, penalty=l1, solver=liblinear; total time=   0.0s\n",
      "[CV] END ..C=62.10169418915616, penalty=l1, solver=liblinear; total time=   0.0s\n",
      "[CV] END ..C=62.10169418915616, penalty=l1, solver=liblinear; total time=   0.0s\n",
      "[CV] END ..C=62.10169418915616, penalty=l1, solver=liblinear; total time=   0.0s\n",
      "[CV] END ..C=62.10169418915616, penalty=l1, solver=liblinear; total time=   0.0s\n",
      "[CV] END ..C=62.10169418915616, penalty=l2, solver=liblinear; total time=   0.0s\n",
      "[CV] END ..C=62.10169418915616, penalty=l2, solver=liblinear; total time=   0.0s\n",
      "[CV] END ..C=62.10169418915616, penalty=l2, solver=liblinear; total time=   0.0s\n",
      "[CV] END ..C=62.10169418915616, penalty=l2, solver=liblinear; total time=   0.0s\n",
      "[CV] END ..C=62.10169418915616, penalty=l2, solver=liblinear; total time=   0.0s\n",
      "[CV] END ..C=62.10169418915616, penalty=l2, solver=liblinear; total time=   0.0s\n",
      "[CV] END ..C=62.10169418915616, penalty=l2, solver=liblinear; total time=   0.0s\n",
      "[CV] END ..C=62.10169418915616, penalty=l2, solver=liblinear; total time=   0.0s\n",
      "[CV] END ..C=62.10169418915616, penalty=l2, solver=liblinear; total time=   0.0s\n",
      "[CV] END ..C=62.10169418915616, penalty=l2, solver=liblinear; total time=   0.0s\n",
      "[CV] END .C=117.21022975334793, penalty=l1, solver=liblinear; total time=   0.0s\n",
      "[CV] END .C=117.21022975334793, penalty=l1, solver=liblinear; total time=   0.0s\n",
      "[CV] END .C=117.21022975334793, penalty=l1, solver=liblinear; total time=   0.0s\n",
      "[CV] END .C=117.21022975334793, penalty=l1, solver=liblinear; total time=   0.0s\n",
      "[CV] END .C=117.21022975334793, penalty=l1, solver=liblinear; total time=   0.0s\n",
      "[CV] END .C=117.21022975334793, penalty=l1, solver=liblinear; total time=   0.0s\n",
      "[CV] END .C=117.21022975334793, penalty=l1, solver=liblinear; total time=   0.0s\n",
      "[CV] END .C=117.21022975334793, penalty=l1, solver=liblinear; total time=   0.0s\n",
      "[CV] END .C=117.21022975334793, penalty=l1, solver=liblinear; total time=   0.0s\n",
      "[CV] END .C=117.21022975334793, penalty=l1, solver=liblinear; total time=   0.0s\n",
      "[CV] END .C=117.21022975334793, penalty=l2, solver=liblinear; total time=   0.0s\n",
      "[CV] END .C=117.21022975334793, penalty=l2, solver=liblinear; total time=   0.0s\n",
      "[CV] END .C=117.21022975334793, penalty=l2, solver=liblinear; total time=   0.0s\n",
      "[CV] END .C=117.21022975334793, penalty=l2, solver=liblinear; total time=   0.0s\n",
      "[CV] END .C=117.21022975334793, penalty=l2, solver=liblinear; total time=   0.0s\n",
      "[CV] END .C=117.21022975334793, penalty=l2, solver=liblinear; total time=   0.0s\n",
      "[CV] END .C=117.21022975334793, penalty=l2, solver=liblinear; total time=   0.0s\n",
      "[CV] END .C=117.21022975334793, penalty=l2, solver=liblinear; total time=   0.0s\n",
      "[CV] END .C=117.21022975334793, penalty=l2, solver=liblinear; total time=   0.0s\n",
      "[CV] END .C=117.21022975334793, penalty=l2, solver=liblinear; total time=   0.0s\n",
      "[CV] END .C=221.22162910704503, penalty=l1, solver=liblinear; total time=   0.0s\n",
      "[CV] END .C=221.22162910704503, penalty=l1, solver=liblinear; total time=   0.0s\n",
      "[CV] END .C=221.22162910704503, penalty=l1, solver=liblinear; total time=   0.0s\n",
      "[CV] END .C=221.22162910704503, penalty=l1, solver=liblinear; total time=   0.0s\n",
      "[CV] END .C=221.22162910704503, penalty=l1, solver=liblinear; total time=   0.0s\n",
      "[CV] END .C=221.22162910704503, penalty=l1, solver=liblinear; total time=   0.0s\n",
      "[CV] END .C=221.22162910704503, penalty=l1, solver=liblinear; total time=   0.0s\n",
      "[CV] END .C=221.22162910704503, penalty=l1, solver=liblinear; total time=   0.0s\n",
      "[CV] END .C=221.22162910704503, penalty=l1, solver=liblinear; total time=   0.0s\n",
      "[CV] END .C=221.22162910704503, penalty=l1, solver=liblinear; total time=   0.0s\n",
      "[CV] END .C=221.22162910704503, penalty=l2, solver=liblinear; total time=   0.0s\n",
      "[CV] END .C=221.22162910704503, penalty=l2, solver=liblinear; total time=   0.0s\n",
      "[CV] END .C=221.22162910704503, penalty=l2, solver=liblinear; total time=   0.0s\n",
      "[CV] END .C=221.22162910704503, penalty=l2, solver=liblinear; total time=   0.0s\n",
      "[CV] END .C=221.22162910704503, penalty=l2, solver=liblinear; total time=   0.0s\n",
      "[CV] END .C=221.22162910704503, penalty=l2, solver=liblinear; total time=   0.0s\n",
      "[CV] END .C=221.22162910704503, penalty=l2, solver=liblinear; total time=   0.0s\n",
      "[CV] END .C=221.22162910704503, penalty=l2, solver=liblinear; total time=   0.0s\n",
      "[CV] END .C=221.22162910704503, penalty=l2, solver=liblinear; total time=   0.0s\n",
      "[CV] END .C=221.22162910704503, penalty=l2, solver=liblinear; total time=   0.0s\n",
      "[CV] END .C=417.53189365604004, penalty=l1, solver=liblinear; total time=   0.0s\n",
      "[CV] END .C=417.53189365604004, penalty=l1, solver=liblinear; total time=   0.0s\n",
      "[CV] END .C=417.53189365604004, penalty=l1, solver=liblinear; total time=   0.0s\n",
      "[CV] END .C=417.53189365604004, penalty=l1, solver=liblinear; total time=   0.0s\n",
      "[CV] END .C=417.53189365604004, penalty=l1, solver=liblinear; total time=   0.0s\n",
      "[CV] END .C=417.53189365604004, penalty=l1, solver=liblinear; total time=   0.0s\n",
      "[CV] END .C=417.53189365604004, penalty=l1, solver=liblinear; total time=   0.0s\n",
      "[CV] END .C=417.53189365604004, penalty=l1, solver=liblinear; total time=   0.0s\n",
      "[CV] END .C=417.53189365604004, penalty=l1, solver=liblinear; total time=   0.0s\n",
      "[CV] END .C=417.53189365604004, penalty=l1, solver=liblinear; total time=   0.0s\n",
      "[CV] END .C=417.53189365604004, penalty=l2, solver=liblinear; total time=   0.0s\n",
      "[CV] END .C=417.53189365604004, penalty=l2, solver=liblinear; total time=   0.0s\n",
      "[CV] END .C=417.53189365604004, penalty=l2, solver=liblinear; total time=   0.0s\n",
      "[CV] END .C=417.53189365604004, penalty=l2, solver=liblinear; total time=   0.0s\n",
      "[CV] END .C=417.53189365604004, penalty=l2, solver=liblinear; total time=   0.0s\n",
      "[CV] END .C=417.53189365604004, penalty=l2, solver=liblinear; total time=   0.0s\n",
      "[CV] END .C=417.53189365604004, penalty=l2, solver=liblinear; total time=   0.0s\n",
      "[CV] END .C=417.53189365604004, penalty=l2, solver=liblinear; total time=   0.0s\n",
      "[CV] END .C=417.53189365604004, penalty=l2, solver=liblinear; total time=   0.0s\n",
      "[CV] END .C=417.53189365604004, penalty=l2, solver=liblinear; total time=   0.0s\n",
      "[CV] END ..C=788.0462815669904, penalty=l1, solver=liblinear; total time=   0.0s\n",
      "[CV] END ..C=788.0462815669904, penalty=l1, solver=liblinear; total time=   0.0s\n",
      "[CV] END ..C=788.0462815669904, penalty=l1, solver=liblinear; total time=   0.0s\n",
      "[CV] END ..C=788.0462815669904, penalty=l1, solver=liblinear; total time=   0.0s\n",
      "[CV] END ..C=788.0462815669904, penalty=l1, solver=liblinear; total time=   0.0s\n",
      "[CV] END ..C=788.0462815669904, penalty=l1, solver=liblinear; total time=   0.0s\n",
      "[CV] END ..C=788.0462815669904, penalty=l1, solver=liblinear; total time=   0.0s\n",
      "[CV] END ..C=788.0462815669904, penalty=l1, solver=liblinear; total time=   0.0s\n",
      "[CV] END ..C=788.0462815669904, penalty=l1, solver=liblinear; total time=   0.0s\n",
      "[CV] END ..C=788.0462815669904, penalty=l1, solver=liblinear; total time=   0.0s\n",
      "[CV] END ..C=788.0462815669904, penalty=l2, solver=liblinear; total time=   0.0s\n",
      "[CV] END ..C=788.0462815669904, penalty=l2, solver=liblinear; total time=   0.0s\n",
      "[CV] END ..C=788.0462815669904, penalty=l2, solver=liblinear; total time=   0.0s\n",
      "[CV] END ..C=788.0462815669904, penalty=l2, solver=liblinear; total time=   0.0s\n",
      "[CV] END ..C=788.0462815669904, penalty=l2, solver=liblinear; total time=   0.0s\n",
      "[CV] END ..C=788.0462815669904, penalty=l2, solver=liblinear; total time=   0.0s\n",
      "[CV] END ..C=788.0462815669904, penalty=l2, solver=liblinear; total time=   0.0s\n",
      "[CV] END ..C=788.0462815669904, penalty=l2, solver=liblinear; total time=   0.0s\n",
      "[CV] END ..C=788.0462815669904, penalty=l2, solver=liblinear; total time=   0.0s\n",
      "[CV] END ..C=788.0462815669904, penalty=l2, solver=liblinear; total time=   0.0s\n",
      "[CV] END .C=1487.3521072935118, penalty=l1, solver=liblinear; total time=   0.0s\n",
      "[CV] END .C=1487.3521072935118, penalty=l1, solver=liblinear; total time=   0.0s\n",
      "[CV] END .C=1487.3521072935118, penalty=l1, solver=liblinear; total time=   0.0s\n",
      "[CV] END .C=1487.3521072935118, penalty=l1, solver=liblinear; total time=   0.0s\n",
      "[CV] END .C=1487.3521072935118, penalty=l1, solver=liblinear; total time=   0.0s\n",
      "[CV] END .C=1487.3521072935118, penalty=l1, solver=liblinear; total time=   0.0s\n",
      "[CV] END .C=1487.3521072935118, penalty=l1, solver=liblinear; total time=   0.0s\n",
      "[CV] END .C=1487.3521072935118, penalty=l1, solver=liblinear; total time=   0.0s\n",
      "[CV] END .C=1487.3521072935118, penalty=l1, solver=liblinear; total time=   0.0s\n",
      "[CV] END .C=1487.3521072935118, penalty=l1, solver=liblinear; total time=   0.0s\n",
      "[CV] END .C=1487.3521072935118, penalty=l2, solver=liblinear; total time=   0.0s\n",
      "[CV] END .C=1487.3521072935118, penalty=l2, solver=liblinear; total time=   0.0s\n",
      "[CV] END .C=1487.3521072935118, penalty=l2, solver=liblinear; total time=   0.0s\n",
      "[CV] END .C=1487.3521072935118, penalty=l2, solver=liblinear; total time=   0.0s\n",
      "[CV] END .C=1487.3521072935118, penalty=l2, solver=liblinear; total time=   0.0s\n",
      "[CV] END .C=1487.3521072935118, penalty=l2, solver=liblinear; total time=   0.0s\n",
      "[CV] END .C=1487.3521072935118, penalty=l2, solver=liblinear; total time=   0.0s\n",
      "[CV] END .C=1487.3521072935118, penalty=l2, solver=liblinear; total time=   0.0s\n",
      "[CV] END .C=1487.3521072935118, penalty=l2, solver=liblinear; total time=   0.0s\n",
      "[CV] END .C=1487.3521072935118, penalty=l2, solver=liblinear; total time=   0.0s\n",
      "[CV] END .C=2807.2162039411755, penalty=l1, solver=liblinear; total time=   0.0s\n",
      "[CV] END .C=2807.2162039411755, penalty=l1, solver=liblinear; total time=   0.0s\n",
      "[CV] END .C=2807.2162039411755, penalty=l1, solver=liblinear; total time=   0.0s\n",
      "[CV] END .C=2807.2162039411755, penalty=l1, solver=liblinear; total time=   0.0s\n",
      "[CV] END .C=2807.2162039411755, penalty=l1, solver=liblinear; total time=   0.0s\n",
      "[CV] END .C=2807.2162039411755, penalty=l1, solver=liblinear; total time=   0.0s\n",
      "[CV] END .C=2807.2162039411755, penalty=l1, solver=liblinear; total time=   0.0s\n",
      "[CV] END .C=2807.2162039411755, penalty=l1, solver=liblinear; total time=   0.0s\n",
      "[CV] END .C=2807.2162039411755, penalty=l1, solver=liblinear; total time=   0.0s\n",
      "[CV] END .C=2807.2162039411755, penalty=l1, solver=liblinear; total time=   0.0s\n",
      "[CV] END .C=2807.2162039411755, penalty=l2, solver=liblinear; total time=   0.0s\n",
      "[CV] END .C=2807.2162039411755, penalty=l2, solver=liblinear; total time=   0.0s\n",
      "[CV] END .C=2807.2162039411755, penalty=l2, solver=liblinear; total time=   0.0s\n",
      "[CV] END .C=2807.2162039411755, penalty=l2, solver=liblinear; total time=   0.0s\n",
      "[CV] END .C=2807.2162039411755, penalty=l2, solver=liblinear; total time=   0.0s\n",
      "[CV] END .C=2807.2162039411755, penalty=l2, solver=liblinear; total time=   0.0s\n",
      "[CV] END .C=2807.2162039411755, penalty=l2, solver=liblinear; total time=   0.0s\n",
      "[CV] END .C=2807.2162039411755, penalty=l2, solver=liblinear; total time=   0.0s\n",
      "[CV] END .C=2807.2162039411755, penalty=l2, solver=liblinear; total time=   0.0s\n",
      "[CV] END .C=2807.2162039411755, penalty=l2, solver=liblinear; total time=   0.0s\n",
      "[CV] END ..C=5298.316906283702, penalty=l1, solver=liblinear; total time=   0.0s\n",
      "[CV] END ..C=5298.316906283702, penalty=l1, solver=liblinear; total time=   0.0s\n",
      "[CV] END ..C=5298.316906283702, penalty=l1, solver=liblinear; total time=   0.0s\n",
      "[CV] END ..C=5298.316906283702, penalty=l1, solver=liblinear; total time=   0.0s\n",
      "[CV] END ..C=5298.316906283702, penalty=l1, solver=liblinear; total time=   0.0s\n",
      "[CV] END ..C=5298.316906283702, penalty=l1, solver=liblinear; total time=   0.0s\n",
      "[CV] END ..C=5298.316906283702, penalty=l1, solver=liblinear; total time=   0.0s\n",
      "[CV] END ..C=5298.316906283702, penalty=l1, solver=liblinear; total time=   0.0s\n",
      "[CV] END ..C=5298.316906283702, penalty=l1, solver=liblinear; total time=   0.0s\n",
      "[CV] END ..C=5298.316906283702, penalty=l1, solver=liblinear; total time=   0.0s\n",
      "[CV] END ..C=5298.316906283702, penalty=l2, solver=liblinear; total time=   0.0s\n",
      "[CV] END ..C=5298.316906283702, penalty=l2, solver=liblinear; total time=   0.0s\n",
      "[CV] END ..C=5298.316906283702, penalty=l2, solver=liblinear; total time=   0.0s\n",
      "[CV] END ..C=5298.316906283702, penalty=l2, solver=liblinear; total time=   0.0s\n",
      "[CV] END ..C=5298.316906283702, penalty=l2, solver=liblinear; total time=   0.0s\n",
      "[CV] END ..C=5298.316906283702, penalty=l2, solver=liblinear; total time=   0.0s\n",
      "[CV] END ..C=5298.316906283702, penalty=l2, solver=liblinear; total time=   0.0s\n",
      "[CV] END ..C=5298.316906283702, penalty=l2, solver=liblinear; total time=   0.0s\n",
      "[CV] END ..C=5298.316906283702, penalty=l2, solver=liblinear; total time=   0.0s\n",
      "[CV] END ..C=5298.316906283702, penalty=l2, solver=liblinear; total time=   0.0s\n",
      "[CV] END ............C=10000.0, penalty=l1, solver=liblinear; total time=   0.0s\n",
      "[CV] END ............C=10000.0, penalty=l1, solver=liblinear; total time=   0.0s\n",
      "[CV] END ............C=10000.0, penalty=l1, solver=liblinear; total time=   0.0s\n",
      "[CV] END ............C=10000.0, penalty=l1, solver=liblinear; total time=   0.0s\n",
      "[CV] END ............C=10000.0, penalty=l1, solver=liblinear; total time=   0.0s\n",
      "[CV] END ............C=10000.0, penalty=l1, solver=liblinear; total time=   0.0s\n",
      "[CV] END ............C=10000.0, penalty=l1, solver=liblinear; total time=   0.0s\n",
      "[CV] END ............C=10000.0, penalty=l1, solver=liblinear; total time=   0.0s\n",
      "[CV] END ............C=10000.0, penalty=l1, solver=liblinear; total time=   0.0s\n",
      "[CV] END ............C=10000.0, penalty=l1, solver=liblinear; total time=   0.0s\n",
      "[CV] END ............C=10000.0, penalty=l2, solver=liblinear; total time=   0.0s\n",
      "[CV] END ............C=10000.0, penalty=l2, solver=liblinear; total time=   0.0s\n",
      "[CV] END ............C=10000.0, penalty=l2, solver=liblinear; total time=   0.0s\n",
      "[CV] END ............C=10000.0, penalty=l2, solver=liblinear; total time=   0.0s\n",
      "[CV] END ............C=10000.0, penalty=l2, solver=liblinear; total time=   0.0s\n",
      "[CV] END ............C=10000.0, penalty=l2, solver=liblinear; total time=   0.0s\n",
      "[CV] END ............C=10000.0, penalty=l2, solver=liblinear; total time=   0.0s\n",
      "[CV] END ............C=10000.0, penalty=l2, solver=liblinear; total time=   0.0s\n",
      "[CV] END ............C=10000.0, penalty=l2, solver=liblinear; total time=   0.0s\n",
      "[CV] END ............C=10000.0, penalty=l2, solver=liblinear; total time=   0.0s\n"
     ]
    },
    {
     "data": {
      "text/plain": [
       "GridSearchCV(cv=10, estimator=LogisticRegression(),\n",
       "             param_grid={'C': array([1.00000000e-04, 1.88739182e-04, 3.56224789e-04, 6.72335754e-04,\n",
       "       1.26896100e-03, 2.39502662e-03, 4.52035366e-03, 8.53167852e-03,\n",
       "       1.61026203e-02, 3.03919538e-02, 5.73615251e-02, 1.08263673e-01,\n",
       "       2.04335972e-01, 3.85662042e-01, 7.27895384e-01, 1.37382380e+00,\n",
       "       2.59294380e+00, 4.89390092e+00, 9.23670857e+00, 1.74332882e+01,\n",
       "       3.29034456e+01, 6.21016942e+01, 1.17210230e+02, 2.21221629e+02,\n",
       "       4.17531894e+02, 7.88046282e+02, 1.48735211e+03, 2.80721620e+03,\n",
       "       5.29831691e+03, 1.00000000e+04]),\n",
       "                         'penalty': ['l1', 'l2'], 'solver': ['liblinear']},\n",
       "             verbose=2)"
      ]
     },
     "execution_count": 54,
     "metadata": {},
     "output_type": "execute_result"
    }
   ],
   "source": [
    "# Different hyperparameters for our Logistic Regression\n",
    "log_reg_griddy = {'C' : np.logspace(-4, 4, 30),\n",
    "                  'solver' : ['liblinear'],\n",
    "                  'penalty' : ['l1', 'l2']}\n",
    "\n",
    "# Setup grid hyperparameter search for LogisticRegression\n",
    "gs_log_reg = GridSearchCV(LogisticRegression(),\n",
    "                          param_grid = log_reg_griddy,\n",
    "                          cv = 10,\n",
    "                          verbose=2)\n",
    "\n",
    "# FIt grid hyperparameter search model\n",
    "gs_log_reg.fit(x_train, y_train)"
   ]
  },
  {
   "cell_type": "code",
   "execution_count": 55,
   "id": "scientific-directive",
   "metadata": {},
   "outputs": [
    {
     "data": {
      "text/plain": [
       "{'C': 0.20433597178569418, 'penalty': 'l2', 'solver': 'liblinear'}"
      ]
     },
     "execution_count": 55,
     "metadata": {},
     "output_type": "execute_result"
    }
   ],
   "source": [
    "gs_log_reg.best_params_"
   ]
  },
  {
   "cell_type": "code",
   "execution_count": 56,
   "id": "paperback-nepal",
   "metadata": {},
   "outputs": [
    {
     "data": {
      "text/plain": [
       "0.9180327868852459"
      ]
     },
     "execution_count": 56,
     "metadata": {},
     "output_type": "execute_result"
    }
   ],
   "source": [
    "gs_log_reg.score(x_test, y_test)"
   ]
  },
  {
   "cell_type": "markdown",
   "id": "manual-doctor",
   "metadata": {},
   "source": [
    "So here we got the same value as  when we ran RandomizedSearchCV. I must say, this is impresssive for a model that wasn't on the machine learning map."
   ]
  },
  {
   "cell_type": "markdown",
   "id": "together-klein",
   "metadata": {},
   "source": [
    "> This just goes to show that there are many possibilites and things to try. So its **VERY IMPORTANT** to do your own research"
   ]
  },
  {
   "cell_type": "markdown",
   "id": "rural-tobacco",
   "metadata": {},
   "source": [
    "## Evaluating our tuned Machine learning classifier, beyond accuracy\n",
    "\n",
    "* ROC curve and an AUC Score\n",
    "* Confusion matrix\n",
    "* Classification Report\n",
    "* Precision\n",
    "* Recall\n",
    "* F1-score\n",
    "\n",
    "..and it would be awesome if cross-validation was used where possible"
   ]
  },
  {
   "cell_type": "markdown",
   "id": "thrown-easter",
   "metadata": {},
   "source": [
    "First things first, when we evaluate a model, it compares it's initial values to the truth labels(the `y_test` data)\n",
    "\n",
    "To make comparisons and evaluate our trained model, first we need to make predictions so we have something to evaluate with"
   ]
  },
  {
   "cell_type": "code",
   "execution_count": 57,
   "id": "informal-flower",
   "metadata": {},
   "outputs": [
    {
     "data": {
      "text/plain": [
       "array([1, 1, 1, 1, 0, 0, 1, 1, 0, 1, 0, 1, 0, 0, 1, 1, 0, 1, 0, 0, 1, 1,\n",
       "       0, 0, 1, 1, 1, 0, 0, 1, 1, 1, 0, 0, 1, 0, 1, 0, 0, 0, 1, 1, 0, 0,\n",
       "       1, 1, 0, 1, 1, 1, 1, 1, 1, 0, 0, 0, 0, 1, 1, 0, 1], dtype=int64)"
      ]
     },
     "execution_count": 57,
     "metadata": {},
     "output_type": "execute_result"
    }
   ],
   "source": [
    "# Make predictions with tuned model\n",
    "y_preds = gs_log_reg.predict(x_test)\n",
    "y_preds"
   ]
  },
  {
   "cell_type": "code",
   "execution_count": 58,
   "id": "suburban-auckland",
   "metadata": {},
   "outputs": [
    {
     "data": {
      "text/plain": [
       "99     1\n",
       "296    0\n",
       "89     1\n",
       "30     1\n",
       "234    0\n",
       "      ..\n",
       "173    0\n",
       "94     1\n",
       "161    1\n",
       "216    0\n",
       "91     1\n",
       "Name: target, Length: 61, dtype: int64"
      ]
     },
     "execution_count": 58,
     "metadata": {},
     "output_type": "execute_result"
    }
   ],
   "source": [
    "y_test"
   ]
  },
  {
   "cell_type": "markdown",
   "id": "material-grant",
   "metadata": {},
   "source": [
    "**ROC Curve**\n",
    "\n",
    "A receiving operating characteristic, or ROC curve , is a graphical plot that illustrates the diagnostic ability of a binary classifier system as it's discrimination threshold is varied.\n",
    "\n",
    "The ROC curve is created by plotting the true positive rate against the false positive rate at various threshold settings"
   ]
  },
  {
   "cell_type": "code",
   "execution_count": 59,
   "id": "organized-trial",
   "metadata": {},
   "outputs": [
    {
     "data": {
      "text/plain": [
       "<sklearn.metrics._plot.roc_curve.RocCurveDisplay at 0x22600268fa0>"
      ]
     },
     "execution_count": 59,
     "metadata": {},
     "output_type": "execute_result"
    },
    {
     "data": {
      "image/png": "[encoded data removed]",
      "text/plain": [
       "<Figure size 432x288 with 1 Axes>"
      ]
     },
     "metadata": {
      "needs_background": "light"
     },
     "output_type": "display_data"
    }
   ],
   "source": [
    "# Plot ROC curve and calculate  AUC metric\n",
    "plot_roc_curve(gs_log_reg, x_test, y_test)"
   ]
  },
  {
   "cell_type": "code",
   "execution_count": 60,
   "id": "superior-regulation",
   "metadata": {},
   "outputs": [
    {
     "name": "stdout",
     "output_type": "stream",
     "text": [
      "[[27  5]\n",
      " [ 0 29]]\n"
     ]
    }
   ],
   "source": [
    "# Confusion matrix\n",
    "print(confusion_matrix(y_test, y_preds))"
   ]
  },
  {
   "cell_type": "code",
   "execution_count": 61,
   "id": "single-biography",
   "metadata": {},
   "outputs": [
    {
     "data": {
      "image/png": "[encoded data removed]",
      "text/plain": [
       "<Figure size 216x216 with 1 Axes>"
      ]
     },
     "metadata": {},
     "output_type": "display_data"
    }
   ],
   "source": [
    "sns.set(font_scale=1.5)\n",
    "\n",
    "def plot_conf_mat(y_test, y_preds):\n",
    "    '''\n",
    "    Plots a nice looking confusion matrix using seaborn's heatmap\n",
    "\n",
    "    '''\n",
    "    fig, ax = plt.subplots(figsize=(3,3))\n",
    "    ax = sns.heatmap(confusion_matrix(y_test, y_preds), annot=True, cbar=False)\n",
    "    plt.xlabel('True Label')\n",
    "    plt.ylabel('Predicted Label')\n",
    "    \n",
    "plot_conf_mat(y_test, y_preds)"
   ]
  },
  {
   "cell_type": "markdown",
   "id": "anticipated-relevance",
   "metadata": {},
   "source": [
    "Now we've got a ROC curve, an AUC metric and a confusion matrix. Let's create a classification report, as well as a cross validated Precision and F-1 Score"
   ]
  },
  {
   "cell_type": "code",
   "execution_count": 62,
   "id": "congressional-angel",
   "metadata": {},
   "outputs": [
    {
     "name": "stdout",
     "output_type": "stream",
     "text": [
      "              precision    recall  f1-score   support\n",
      "\n",
      "           0       1.00      0.84      0.92        32\n",
      "           1       0.85      1.00      0.92        29\n",
      "\n",
      "    accuracy                           0.92        61\n",
      "   macro avg       0.93      0.92      0.92        61\n",
      "weighted avg       0.93      0.92      0.92        61\n",
      "\n"
     ]
    }
   ],
   "source": [
    "print(classification_report(y_test, y_preds))"
   ]
  },
  {
   "cell_type": "markdown",
   "id": "numerical-pierce",
   "metadata": {},
   "source": [
    "Okay, so now we have our Precision, Recall and F1 scores. However. this is the metric measured on just one run on the test set. It isn't cross validated"
   ]
  },
  {
   "cell_type": "markdown",
   "id": "latter-caribbean",
   "metadata": {},
   "source": [
    "So let me do a brief overview of these metrics.\n",
    "* Precision indicates the proportion of positive identifications(a.ka. the model predicts label 1) which were actually correct. so a model which predicts no false positives has a precision of 1.0 (hence precision being 1 above)\n",
    "* Recall indicates the proportion of actual positives, which were correctly classified. So a model which produces no false negatives, has a recall of 1\n",
    "> A model with a 0 in the top right corner of the confusion matrix will have a recall of 1, and a model with a 0 in the lower left corner of the confusion matrix will have a precision value as 1\n",
    "\n",
    "* F! is a combination of Precision and Recall, if precision and recall were both 1, F1 would also be 1\n",
    "\n",
    "* Support is the number of samples each metric was calculated on. so in our test set, there was 32 patients (or target values) which was 0 (which didn't have heart disease)\n",
    "\n",
    "* macro avg is the average precision, recall and f1 score between labels(so with 1 and 0). Macro averages doesn't take class imbalances into account.. SO if you do have class imbalances, pay attention to the macro avg\n",
    "* weighted avg calculates the average between precision, recall and the F1 score, but its weighted. weighted means each metric is calculated with respect to how many samples there are in each class This metric will favor the majority label..SO the weighted average of recall would be higher if label 1 had 10-15 more samples, because that label would have more weight."
   ]
  },
  {
   "cell_type": "markdown",
   "id": "useful-stone",
   "metadata": {},
   "source": [
    " ## Calculate evaluation metrics using cross-validation\n",
    "    \n",
    "We're going to be using `cross_val_score` to calulate accuracy, precision, recall and f1-score of our model"
   ]
  },
  {
   "cell_type": "code",
   "execution_count": 63,
   "id": "royal-delivery",
   "metadata": {},
   "outputs": [
    {
     "data": {
      "text/plain": [
       "{'C': 0.20433597178569418, 'penalty': 'l2', 'solver': 'liblinear'}"
      ]
     },
     "execution_count": 63,
     "metadata": {},
     "output_type": "execute_result"
    }
   ],
   "source": [
    "# CHeck best hyper-parameters\n",
    "gs_log_reg.best_params_"
   ]
  },
  {
   "cell_type": "code",
   "execution_count": 64,
   "id": "fourth-symposium",
   "metadata": {},
   "outputs": [],
   "source": [
    "# Create a new classifier with those best parameters\n",
    "log_reg_clf = LogisticRegression(C=0.20433597178569418, penalty='l2',solver='liblinear')"
   ]
  },
  {
   "cell_type": "code",
   "execution_count": 67,
   "id": "electoral-tobago",
   "metadata": {},
   "outputs": [
    {
     "data": {
      "text/plain": [
       "array([0.87096774, 0.80645161, 0.87096774, 0.9       , 0.9       ,\n",
       "       0.86666667, 0.83333333, 0.86666667, 0.7       , 0.73333333])"
      ]
     },
     "execution_count": 67,
     "metadata": {},
     "output_type": "execute_result"
    }
   ],
   "source": [
    "# Cross-validated accuracy\n",
    "cv_acc = cross_val_score(log_reg_clf,\n",
    "                         x,\n",
    "                         y,\n",
    "                         cv=10,\n",
    "                         scoring='accuracy')\n",
    "\n",
    "cv_acc_mean = np.mean(cv_acc)\n",
    "cv_acc"
   ]
  },
  {
   "cell_type": "code",
   "execution_count": 66,
   "id": "brown-symbol",
   "metadata": {},
   "outputs": [
    {
     "data": {
      "text/plain": [
       "array([0.80952381, 0.78947368, 0.84210526, 0.9375    , 0.85      ,\n",
       "       0.92857143, 0.78947368, 0.83333333, 0.66666667, 0.75      ])"
      ]
     },
     "execution_count": 66,
     "metadata": {},
     "output_type": "execute_result"
    }
   ],
   "source": [
    "# Cross-validated precision\n",
    "cv_precise = cross_val_score(log_reg_clf,\n",
    "                         x,\n",
    "                         y,\n",
    "                         cv=10,\n",
    "                         scoring='precision')\n",
    "cv_precise_mean=np.mean(cv_precise)\n",
    "cv_precise"
   ]
  },
  {
   "cell_type": "code",
   "execution_count": 95,
   "id": "derived-official",
   "metadata": {},
   "outputs": [
    {
     "data": {
      "text/plain": [
       "array([1.        , 0.88235294, 0.94117647, 0.88235294, 1.        ,\n",
       "       0.8125    , 0.9375    , 0.9375    , 0.875     , 0.75      ])"
      ]
     },
     "execution_count": 95,
     "metadata": {},
     "output_type": "execute_result"
    }
   ],
   "source": [
    "# Cross-validated recall\n",
    "cv_recall = cross_val_score(log_reg_clf,\n",
    "                         x,\n",
    "                         y,\n",
    "                         cv=10,\n",
    "                         scoring='recall')\n",
    "# Remember to look up keyboard shortcut for multiple cursors in one cell\n",
    "cv_recall_mean = np.mean(cv_recall)\n",
    "cv_recall"
   ]
  },
  {
   "cell_type": "code",
   "execution_count": 97,
   "id": "infinite-contemporary",
   "metadata": {},
   "outputs": [
    {
     "data": {
      "text/plain": [
       "array([0.89473684, 0.83333333, 0.88888889, 0.90909091, 0.91891892,\n",
       "       0.86666667, 0.85714286, 0.88235294, 0.75675676, 0.75      ])"
      ]
     },
     "execution_count": 97,
     "metadata": {},
     "output_type": "execute_result"
    }
   ],
   "source": [
    "# Cross-validated f1\n",
    "cv_f1 = cross_val_score(log_reg_clf,\n",
    "                         x,\n",
    "                         y,\n",
    "                         cv=10,\n",
    "                         scoring='f1')\n",
    "cv_f1_mean=np.mean(cv_f1)\n",
    "cv_f1"
   ]
  },
  {
   "cell_type": "code",
   "execution_count": 104,
   "id": "improving-prevention",
   "metadata": {},
   "outputs": [
    {
     "data": {
      "text/plain": [
       "<AxesSubplot:title={'center':'Cross-validated classification metrics'}>"
      ]
     },
     "execution_count": 104,
     "metadata": {},
     "output_type": "execute_result"
    },
    {
     "data": {
      "image/png": "[encoded data removed]",
      "text/plain": [
       "<Figure size 432x288 with 1 Axes>"
      ]
     },
     "metadata": {},
     "output_type": "display_data"
    }
   ],
   "source": [
    "# Visualize our cross-validated metrics\n",
    "\n",
    "cv_metrics = pd.DataFrame({'Accuracy' : cv_acc_mean,\n",
    "                           'Precision' : cv_precise_mean,\n",
    "                           'Recall' : cv_recall_mean,\n",
    "                           'F1-score' : cv_f1_mean},\n",
    "                            index=[0])\n",
    "cv_metrics.T.plot.bar(title='Cross-validated classification metrics', legend =False)\n",
    "# Remember to transpose your data before plotting it. The shape will not work properly with the diagram"
   ]
  },
  {
   "cell_type": "code",
   "execution_count": 105,
   "id": "sharp-british",
   "metadata": {},
   "outputs": [
    {
     "data": {
      "text/html": [
       "<div>\n",
       "<style scoped>\n",
       "    .dataframe tbody tr th:only-of-type {\n",
       "        vertical-align: middle;\n",
       "    }\n",
       "\n",
       "    .dataframe tbody tr th {\n",
       "        vertical-align: top;\n",
       "    }\n",
       "\n",
       "    .dataframe thead th {\n",
       "        text-align: right;\n",
       "    }\n",
       "</style>\n",
       "<table border=\"1\" class=\"dataframe\">\n",
       "  <thead>\n",
       "    <tr style=\"text-align: right;\">\n",
       "      <th></th>\n",
       "      <th>0</th>\n",
       "    </tr>\n",
       "  </thead>\n",
       "  <tbody>\n",
       "    <tr>\n",
       "      <th>Accuracy</th>\n",
       "      <td>0.834839</td>\n",
       "    </tr>\n",
       "    <tr>\n",
       "      <th>Precision</th>\n",
       "      <td>0.819665</td>\n",
       "    </tr>\n",
       "    <tr>\n",
       "      <th>Recall</th>\n",
       "      <td>0.901838</td>\n",
       "    </tr>\n",
       "    <tr>\n",
       "      <th>F1-score</th>\n",
       "      <td>0.855789</td>\n",
       "    </tr>\n",
       "  </tbody>\n",
       "</table>\n",
       "</div>"
      ],
      "text/plain": [
       "                  0\n",
       "Accuracy   0.834839\n",
       "Precision  0.819665\n",
       "Recall     0.901838\n",
       "F1-score   0.855789"
      ]
     },
     "execution_count": 105,
     "metadata": {},
     "output_type": "execute_result"
    }
   ],
   "source": [
    "cv_metrics.T"
   ]
  },
  {
   "cell_type": "markdown",
   "id": "twelve-forest",
   "metadata": {},
   "source": [
    "### Feature Importance\n",
    "\n",
    "Feature importance is another way of asking \"Which features contributed the most to the outcomes of the model and how did they contribute?\"\n",
    "\n",
    "Finding feature importance is different for each machine learning model. One way of doing it is to search google for 'Find feature importance for (MODEL NAME).\n",
    "\n",
    "Let's find the feature importance for our Logistic Regression Model"
   ]
  },
  {
   "cell_type": "code",
   "execution_count": 21,
   "id": "suspected-coating",
   "metadata": {},
   "outputs": [
    {
     "data": {
      "text/html": [
       "<div>\n",
       "<style scoped>\n",
       "    .dataframe tbody tr th:only-of-type {\n",
       "        vertical-align: middle;\n",
       "    }\n",
       "\n",
       "    .dataframe tbody tr th {\n",
       "        vertical-align: top;\n",
       "    }\n",
       "\n",
       "    .dataframe thead th {\n",
       "        text-align: right;\n",
       "    }\n",
       "</style>\n",
       "<table border=\"1\" class=\"dataframe\">\n",
       "  <thead>\n",
       "    <tr style=\"text-align: right;\">\n",
       "      <th></th>\n",
       "      <th>age</th>\n",
       "      <th>sex</th>\n",
       "      <th>cp</th>\n",
       "      <th>trestbps</th>\n",
       "      <th>chol</th>\n",
       "      <th>fbs</th>\n",
       "      <th>restecg</th>\n",
       "      <th>thalach</th>\n",
       "      <th>exang</th>\n",
       "      <th>oldpeak</th>\n",
       "      <th>slope</th>\n",
       "      <th>ca</th>\n",
       "      <th>thal</th>\n",
       "      <th>target</th>\n",
       "    </tr>\n",
       "  </thead>\n",
       "  <tbody>\n",
       "    <tr>\n",
       "      <th>0</th>\n",
       "      <td>63</td>\n",
       "      <td>1</td>\n",
       "      <td>3</td>\n",
       "      <td>145</td>\n",
       "      <td>233</td>\n",
       "      <td>1</td>\n",
       "      <td>0</td>\n",
       "      <td>150</td>\n",
       "      <td>0</td>\n",
       "      <td>2.3</td>\n",
       "      <td>0</td>\n",
       "      <td>0</td>\n",
       "      <td>1</td>\n",
       "      <td>1</td>\n",
       "    </tr>\n",
       "    <tr>\n",
       "      <th>1</th>\n",
       "      <td>37</td>\n",
       "      <td>1</td>\n",
       "      <td>2</td>\n",
       "      <td>130</td>\n",
       "      <td>250</td>\n",
       "      <td>0</td>\n",
       "      <td>1</td>\n",
       "      <td>187</td>\n",
       "      <td>0</td>\n",
       "      <td>3.5</td>\n",
       "      <td>0</td>\n",
       "      <td>0</td>\n",
       "      <td>2</td>\n",
       "      <td>1</td>\n",
       "    </tr>\n",
       "    <tr>\n",
       "      <th>2</th>\n",
       "      <td>41</td>\n",
       "      <td>0</td>\n",
       "      <td>1</td>\n",
       "      <td>130</td>\n",
       "      <td>204</td>\n",
       "      <td>0</td>\n",
       "      <td>0</td>\n",
       "      <td>172</td>\n",
       "      <td>0</td>\n",
       "      <td>1.4</td>\n",
       "      <td>2</td>\n",
       "      <td>0</td>\n",
       "      <td>2</td>\n",
       "      <td>1</td>\n",
       "    </tr>\n",
       "    <tr>\n",
       "      <th>3</th>\n",
       "      <td>56</td>\n",
       "      <td>1</td>\n",
       "      <td>1</td>\n",
       "      <td>120</td>\n",
       "      <td>236</td>\n",
       "      <td>0</td>\n",
       "      <td>1</td>\n",
       "      <td>178</td>\n",
       "      <td>0</td>\n",
       "      <td>0.8</td>\n",
       "      <td>2</td>\n",
       "      <td>0</td>\n",
       "      <td>2</td>\n",
       "      <td>1</td>\n",
       "    </tr>\n",
       "    <tr>\n",
       "      <th>4</th>\n",
       "      <td>57</td>\n",
       "      <td>0</td>\n",
       "      <td>0</td>\n",
       "      <td>120</td>\n",
       "      <td>354</td>\n",
       "      <td>0</td>\n",
       "      <td>1</td>\n",
       "      <td>163</td>\n",
       "      <td>1</td>\n",
       "      <td>0.6</td>\n",
       "      <td>2</td>\n",
       "      <td>0</td>\n",
       "      <td>2</td>\n",
       "      <td>1</td>\n",
       "    </tr>\n",
       "  </tbody>\n",
       "</table>\n",
       "</div>"
      ],
      "text/plain": [
       "   age  sex  cp  trestbps  chol  fbs  restecg  thalach  exang  oldpeak  slope  \\\n",
       "0   63    1   3       145   233    1        0      150      0      2.3      0   \n",
       "1   37    1   2       130   250    0        1      187      0      3.5      0   \n",
       "2   41    0   1       130   204    0        0      172      0      1.4      2   \n",
       "3   56    1   1       120   236    0        1      178      0      0.8      2   \n",
       "4   57    0   0       120   354    0        1      163      1      0.6      2   \n",
       "\n",
       "   ca  thal  target  \n",
       "0   0     1       1  \n",
       "1   0     2       1  \n",
       "2   0     2       1  \n",
       "3   0     2       1  \n",
       "4   0     2       1  "
      ]
     },
     "execution_count": 20,
     "metadata": {},
     "output_type": "execute_result"
    }
   ],
   "source": [
    "df.head()"
   ]
  },
  {
   "cell_type": "markdown",
   "id": "normal-message",
   "metadata": {},
   "source": [
    "Which of these features contribute to predicting the target?"
   ]
  },
  {
   "cell_type": "code",
   "execution_count": 22,
   "id": "earlier-hepatitis",
   "metadata": {},
   "outputs": [
    {
     "data": {
      "text/plain": [
       "LogisticRegression(C=0.20433597178569418, solver='liblinear')"
      ]
     },
     "execution_count": 21,
     "metadata": {},
     "output_type": "execute_result"
    }
   ],
   "source": [
    "# Fit an instance of LogisticRegression\n",
    "# Create a new classifier with those best parameters\n",
    "logreg_clf = LogisticRegression(C=0.20433597178569418, penalty='l2',solver='liblinear')\n",
    "logreg_clf.fit(x_train, y_train)"
   ]
  },
  {
   "cell_type": "markdown",
   "id": "noted-horror",
   "metadata": {},
   "source": [
    "Through our 'research' we found out that there's an attribute within the Logistic Regrssion model called `coef_` which stands for coefficient. It gives us the coefficient of how each column contribute to the target label(s). Relates to the correlation in how its measured."
   ]
  },
  {
   "cell_type": "code",
   "execution_count": 23,
   "id": "exciting-brazil",
   "metadata": {},
   "outputs": [
    {
     "data": {
      "text/plain": [
       "array([[ 0.00892954, -0.92600976,  0.69014018, -0.01324933, -0.0030762 ,\n",
       "        -0.04173685,  0.33064708,  0.02473784, -0.48720738, -0.40648376,\n",
       "         0.42956476, -0.57312977, -0.57183671]])"
      ]
     },
     "execution_count": 22,
     "metadata": {},
     "output_type": "execute_result"
    }
   ],
   "source": [
    "logreg_clf.coef_"
   ]
  },
  {
   "cell_type": "markdown",
   "id": "worth-diagram",
   "metadata": {},
   "source": [
    "Let's make it more visual so we can interpret it"
   ]
  },
  {
   "cell_type": "code",
   "execution_count": 24,
   "id": "phantom-diary",
   "metadata": {},
   "outputs": [
    {
     "data": {
      "text/plain": [
       "{'age': 0.008929542666466889,\n",
       " 'sex': -0.9260097641571073,\n",
       " 'cp': 0.6901401827155222,\n",
       " 'trestbps': -0.013249331073468713,\n",
       " 'chol': -0.0030762029807249744,\n",
       " 'fbs': -0.04173684815097747,\n",
       " 'restecg': 0.3306470835154284,\n",
       " 'thalach': 0.024737838496630162,\n",
       " 'exang': -0.4872073805974715,\n",
       " 'oldpeak': -0.4064837637480647,\n",
       " 'slope': 0.42956475883165784,\n",
       " 'ca': -0.5731297659781324,\n",
       " 'thal': -0.5718367117613578}"
      ]
     },
     "execution_count": 23,
     "metadata": {},
     "output_type": "execute_result"
    }
   ],
   "source": [
    "# Match coef's features to columns\n",
    "feature_dict = dict(zip(df.columns, list(logreg_clf.coef_[0])))\n",
    "feature_dict"
   ]
  },
  {
   "cell_type": "code",
   "execution_count": 25,
   "id": "frequent-standard",
   "metadata": {},
   "outputs": [
    {
     "data": {
      "text/plain": [
       "<AxesSubplot:title={'center':'Feature importance'}>"
      ]
     },
     "execution_count": 24,
     "metadata": {},
     "output_type": "execute_result"
    },
    {
     "data": {
      "image/png": "[encoded data removed]",
      "text/plain": [
       "<Figure size 460.8x403.2 with 1 Axes>"
      ]
     },
     "metadata": {},
     "output_type": "display_data"
    }
   ],
   "source": [
    "# Visualize feature importance\n",
    "feature_df = pd.DataFrame (feature_dict, index=[0])\n",
    "feature_df.T.plot.bar(title='Feature importance', legend=False)"
   ]
  },
  {
   "cell_type": "markdown",
   "id": "productive-wholesale",
   "metadata": {},
   "source": [
    "Sex is an extremely negative value apparently. If the value is negative, then there's a negative relationship there.\n",
    "For instance, when the value for sex increases, the target value increases because of the negative coefficient."
   ]
  },
  {
   "cell_type": "code",
   "execution_count": 115,
   "id": "healthy-drawing",
   "metadata": {},
   "outputs": [
    {
     "data": {
      "text/html": [
       "<div>\n",
       "<style scoped>\n",
       "    .dataframe tbody tr th:only-of-type {\n",
       "        vertical-align: middle;\n",
       "    }\n",
       "\n",
       "    .dataframe tbody tr th {\n",
       "        vertical-align: top;\n",
       "    }\n",
       "\n",
       "    .dataframe thead th {\n",
       "        text-align: right;\n",
       "    }\n",
       "</style>\n",
       "<table border=\"1\" class=\"dataframe\">\n",
       "  <thead>\n",
       "    <tr style=\"text-align: right;\">\n",
       "      <th>target</th>\n",
       "      <th>0</th>\n",
       "      <th>1</th>\n",
       "    </tr>\n",
       "    <tr>\n",
       "      <th>sex</th>\n",
       "      <th></th>\n",
       "      <th></th>\n",
       "    </tr>\n",
       "  </thead>\n",
       "  <tbody>\n",
       "    <tr>\n",
       "      <th>0</th>\n",
       "      <td>24</td>\n",
       "      <td>72</td>\n",
       "    </tr>\n",
       "    <tr>\n",
       "      <th>1</th>\n",
       "      <td>114</td>\n",
       "      <td>93</td>\n",
       "    </tr>\n",
       "  </tbody>\n",
       "</table>\n",
       "</div>"
      ],
      "text/plain": [
       "target    0   1\n",
       "sex            \n",
       "0        24  72\n",
       "1       114  93"
      ]
     },
     "execution_count": 115,
     "metadata": {},
     "output_type": "execute_result"
    }
   ],
   "source": [
    "pd.crosstab(df['sex'], df['target'])"
   ]
  },
  {
   "cell_type": "markdown",
   "id": "distributed-interview",
   "metadata": {},
   "source": [
    "Hmm. I'm not seeing  the target value decreasing as sex increases. \n",
    "\n",
    "OH!. I think i get it. We should look at the ratio.\n",
    "the first ratio would be 1 : 3\n",
    "    \n",
    "    second one is more half and half. so we can say that sex raising in \n",
    "value, decreases the target.. but even that estimation doesn't accurately depicts what's going on here"
   ]
  },
  {
   "cell_type": "code",
   "execution_count": 116,
   "id": "curious-furniture",
   "metadata": {},
   "outputs": [
    {
     "data": {
      "text/html": [
       "<div>\n",
       "<style scoped>\n",
       "    .dataframe tbody tr th:only-of-type {\n",
       "        vertical-align: middle;\n",
       "    }\n",
       "\n",
       "    .dataframe tbody tr th {\n",
       "        vertical-align: top;\n",
       "    }\n",
       "\n",
       "    .dataframe thead th {\n",
       "        text-align: right;\n",
       "    }\n",
       "</style>\n",
       "<table border=\"1\" class=\"dataframe\">\n",
       "  <thead>\n",
       "    <tr style=\"text-align: right;\">\n",
       "      <th>slope</th>\n",
       "      <th>0</th>\n",
       "      <th>1</th>\n",
       "      <th>2</th>\n",
       "    </tr>\n",
       "    <tr>\n",
       "      <th>target</th>\n",
       "      <th></th>\n",
       "      <th></th>\n",
       "      <th></th>\n",
       "    </tr>\n",
       "  </thead>\n",
       "  <tbody>\n",
       "    <tr>\n",
       "      <th>0</th>\n",
       "      <td>12</td>\n",
       "      <td>91</td>\n",
       "      <td>35</td>\n",
       "    </tr>\n",
       "    <tr>\n",
       "      <th>1</th>\n",
       "      <td>9</td>\n",
       "      <td>49</td>\n",
       "      <td>107</td>\n",
       "    </tr>\n",
       "  </tbody>\n",
       "</table>\n",
       "</div>"
      ],
      "text/plain": [
       "slope    0   1    2\n",
       "target             \n",
       "0       12  91   35\n",
       "1        9  49  107"
      ]
     },
     "execution_count": 116,
     "metadata": {},
     "output_type": "execute_result"
    }
   ],
   "source": [
    "pd.crosstab(df['target'], df['slope'])"
   ]
  },
  {
   "cell_type": "markdown",
   "id": "minor-morris",
   "metadata": {},
   "source": [
    "slope: the slope of the peak exercise ST segment\n",
    "* Value 1: upsloping\n",
    "*  Value 2: flat\n",
    "*  Value 3: downsloping"
   ]
  },
  {
   "cell_type": "markdown",
   "id": "upper-poison",
   "metadata": {},
   "source": [
    "Our model is giving us a positive coefficient for slope. This means that as the slope value increases, the model is more likely to predict a higher value of the target\n",
    "\n",
    "(Our higher value of the target is 1 since we're only predicting 0 and 1)"
   ]
  },
  {
   "cell_type": "markdown",
   "id": "stuffed-income",
   "metadata": {},
   "source": [
    "Using feature importance, we can see what features in our dataset do not contribute to our results and remove them. This will save us processing power and make our model more efficient. It wil also show us what features make a difference"
   ]
  },
  {
   "cell_type": "markdown",
   "id": "secret-sessions",
   "metadata": {},
   "source": [
    "## Conclusion (for metric)"
   ]
  },
  {
   "cell_type": "markdown",
   "id": "sunrise-vaccine",
   "metadata": {},
   "source": [
    "Unfortunately we didn't meet our mark. Our Logistic Regression model only reached an accuracy of 91% but not 95%."
   ]
  },
  {
   "cell_type": "markdown",
   "id": "sacred-absence",
   "metadata": {},
   "source": [
    "If you haven't hit your evaluation metric yet.. ask yourself..\n",
    "* Could you collect more data?\n",
    "* Could you try a better model? (Catboost or XGBoost. Look these up. find out)\n",
    "* Could we improve the current models? (I mean beyond what we've done so far)\n",
    "* If your model is goond enough,(You hit your eval metric) how would you export it?"
   ]
  },
  {
   "cell_type": "markdown",
   "id": "sharing-blues",
   "metadata": {},
   "source": [
    "Are you thinking that the process isn't structured? That is a reasonable thought.. After all, these questions are just the start and there is so much more research that could be done.. This is what makes machine learning difficult. But it also makes it highly experimentative.\n",
    "\n",
    "It's the type of skill where hypothesizing and coming up with questions to research  is crucial to your ability to move forward. Learning is the mian priority, and to me that is beautiful. Learning being the main prioirity is the foundation of growth."
   ]
  },
  {
   "cell_type": "code",
   "execution_count": null,
   "id": "composed-nicaragua",
   "metadata": {},
   "outputs": [],
   "source": []
  }
 ],
 "metadata": {
  "kernelspec": {
   "display_name": "Python 3.9 (XPython)",
   "language": "python",
   "name": "xpython"
  },
  "language_info": {
   "file_extension": ".py",
   "mimetype": "text/x-python",
   "name": "python",
   "version": "3.9.2"
  }
 },
 "nbformat": 4,
 "nbformat_minor": 5
}
